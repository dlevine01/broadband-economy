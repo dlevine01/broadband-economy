{
  "cells": [
    {
      "cell_type": "code",
      "execution_count": null,
      "metadata": {
        "id": "YzhAQ5PjhovM"
      },
      "outputs": [],
      "source": [
        "import numpy as np\n",
        "import pandas as pd\n",
        "from sklearn import preprocessing\n",
        "from sklearn.decomposition import PCA\n",
        "import matplotlib.pyplot as plt"
      ]
    },
    {
      "cell_type": "code",
      "execution_count": null,
      "metadata": {
        "id": "bbiKW5wi8U_r"
      },
      "outputs": [],
      "source": [
        "pip install watermark -q"
      ]
    },
    {
      "cell_type": "code",
      "execution_count": null,
      "metadata": {
        "colab": {
          "base_uri": "https://localhost:8080/"
        },
        "id": "cALad0Yd8Wxr",
        "outputId": "bfad5bcf-dec4-496c-9eb2-bcd92bd1773e"
      },
      "outputs": [
        {
          "name": "stdout",
          "output_type": "stream",
          "text": [
            "Author: Max Magid\n",
            "\n",
            "Last updated: 2022-08-20\n",
            "\n",
            "Python implementation: CPython\n",
            "Python version       : 3.7.13\n",
            "IPython version      : 7.9.0\n",
            "\n",
            "sklearn   : 1.0.2\n",
            "google    : 2.0.3\n",
            "numpy     : 1.21.6\n",
            "matplotlib: 3.2.2\n",
            "pandas    : 1.3.5\n",
            "\n"
          ]
        }
      ],
      "source": [
        "%reload_ext watermark\n",
        "%watermark -iv -a 'Max Magid' -u -d -v"
      ]
    },
    {
      "cell_type": "markdown",
      "metadata": {
        "id": "fhkXuczAdSml"
      },
      "source": [
        "## Import Datasets"
      ]
    },
    {
      "cell_type": "markdown",
      "metadata": {
        "id": "J-bmJ7Ini7yP"
      },
      "source": [
        "##### 2019 Data"
      ]
    },
    {
      "cell_type": "code",
      "execution_count": null,
      "metadata": {
        "id": "WY7c4swPhG70"
      },
      "outputs": [],
      "source": [
        "bband19=pd.read_csv('processed data/bband_2019.csv').iloc[:,1:]"
      ]
    },
    {
      "cell_type": "code",
      "execution_count": null,
      "metadata": {
        "id": "7qElwDKpRfYl"
      },
      "outputs": [],
      "source": [
        "ibn=pd.read_csv('raw data/IBNTracts.csv')"
      ]
    },
    {
      "cell_type": "code",
      "execution_count": null,
      "metadata": {
        "id": "1neRtVbbBwPR"
      },
      "outputs": [],
      "source": [
        "fcc19=pd.read_csv('raw data/FCC 477/tract_map_jun_2019/tract_map_jun_2019.csv')"
      ]
    },
    {
      "cell_type": "markdown",
      "metadata": {
        "id": "E7SgKrwqjITh"
      },
      "source": [
        "#### 2018 Data"
      ]
    },
    {
      "cell_type": "code",
      "execution_count": null,
      "metadata": {
        "id": "YO03yPQajITi"
      },
      "outputs": [],
      "source": [
        "bband18=pd.read_csv('processed data/bband_2018.csv').iloc[:,1:]"
      ]
    },
    {
      "cell_type": "code",
      "execution_count": null,
      "metadata": {
        "id": "FtYUiewVjITj"
      },
      "outputs": [],
      "source": [
        "nanda_14_18=pd.read_csv('raw data/nanda_broadband_tract_2014-2018_01P.csv')"
      ]
    },
    {
      "cell_type": "code",
      "execution_count": null,
      "metadata": {
        "id": "u2jrujeCgrz5"
      },
      "outputs": [],
      "source": [
        "nanda_18=nanda_14_18.loc[nanda_14_18.year==2018]"
      ]
    },
    {
      "cell_type": "code",
      "execution_count": null,
      "metadata": {
        "id": "wyKagGj7CAmK"
      },
      "outputs": [],
      "source": [
        "fcc18=pd.read_csv('raw data/FCC 477/tract_map_dec_2018.csv')"
      ]
    },
    {
      "cell_type": "markdown",
      "metadata": {
        "id": "wiEXzgH6jeg1"
      },
      "source": [
        "#### 2017 Data"
      ]
    },
    {
      "cell_type": "code",
      "execution_count": null,
      "metadata": {
        "id": "oYDkYqya2irw"
      },
      "outputs": [],
      "source": [
        "bband17=pd.read_csv('processed data/bband_2017.csv').iloc[:,1:]"
      ]
    },
    {
      "cell_type": "code",
      "execution_count": null,
      "metadata": {
        "id": "4NXH_QCfCLks"
      },
      "outputs": [],
      "source": [
        "fcc17=pd.read_csv('raw data/FCC 477/tract_map_dec_2017.csv')"
      ]
    },
    {
      "cell_type": "code",
      "execution_count": null,
      "metadata": {
        "id": "ApZiFWtFgnAx"
      },
      "outputs": [],
      "source": [
        "nanda_17=nanda_14_18.loc[nanda_14_18.year==2017]"
      ]
    },
    {
      "cell_type": "markdown",
      "metadata": {
        "id": "x3F9ls1AjhpC"
      },
      "source": [
        "#### 2016 Data"
      ]
    },
    {
      "cell_type": "code",
      "execution_count": null,
      "metadata": {
        "id": "C6v-XSugCPbF"
      },
      "outputs": [],
      "source": [
        "fcc16=pd.read_csv('raw data/FCC 477/tract_map_dec_2016.csv')"
      ]
    },
    {
      "cell_type": "code",
      "execution_count": null,
      "metadata": {
        "id": "KwUU0PhGgicq"
      },
      "outputs": [],
      "source": [
        "nanda_16=nanda_14_18.loc[nanda_14_18.year==2016]"
      ]
    },
    {
      "cell_type": "markdown",
      "metadata": {
        "id": "Bejc2M8HjiOI"
      },
      "source": [
        "#### 2015 Data"
      ]
    },
    {
      "cell_type": "code",
      "execution_count": null,
      "metadata": {
        "id": "H5wlpY6gCUsI"
      },
      "outputs": [],
      "source": [
        "fcc15=pd.read_csv('raw data/FCC 477/tract_map_dec_2015.csv')"
      ]
    },
    {
      "cell_type": "code",
      "execution_count": null,
      "metadata": {
        "id": "6ErCKBNRgcyg"
      },
      "outputs": [],
      "source": [
        "nanda_15=nanda_14_18.loc[nanda_14_18.year==2015]"
      ]
    },
    {
      "cell_type": "markdown",
      "metadata": {
        "id": "qJUTxShkjiwv"
      },
      "source": [
        "#### 2014 Data"
      ]
    },
    {
      "cell_type": "code",
      "execution_count": null,
      "metadata": {
        "id": "25x4DAMZECCN"
      },
      "outputs": [],
      "source": [
        "fcc14=pd.read_csv('raw data/FCC 477/tract_map_dec_2014.csv')"
      ]
    },
    {
      "cell_type": "code",
      "execution_count": null,
      "metadata": {
        "id": "KzpnBlcXgZFS"
      },
      "outputs": [],
      "source": [
        "nanda_14=nanda_14_18.loc[nanda_14_18.year==2014]"
      ]
    },
    {
      "cell_type": "markdown",
      "metadata": {
        "id": "Lj6XX8q4G5IR"
      },
      "source": [
        "#### 2013 Data"
      ]
    },
    {
      "cell_type": "code",
      "execution_count": null,
      "metadata": {
        "id": "JHHlkZsEG5Ia"
      },
      "outputs": [],
      "source": [
        "fcc13=pd.read_csv('raw data/FCC 477/hs_tractdata_v1_dec_2013.csv',encoding='cp1252')"
      ]
    },
    {
      "cell_type": "markdown",
      "metadata": {
        "id": "S8qnErRDG-w5"
      },
      "source": [
        "#### 2012 Data"
      ]
    },
    {
      "cell_type": "code",
      "execution_count": null,
      "metadata": {
        "id": "NEWWM3KGG-w6"
      },
      "outputs": [],
      "source": [
        "fcc12=pd.read_csv('raw data/FCC 477/hs_tractdata_v2_dec_2012.csv',encoding='cp1252')"
      ]
    },
    {
      "cell_type": "markdown",
      "metadata": {
        "id": "rn-4H8nPkqFP"
      },
      "source": [
        "#### 2011 Data"
      ]
    },
    {
      "cell_type": "code",
      "execution_count": null,
      "metadata": {
        "id": "dslLhYoPkqFP"
      },
      "outputs": [],
      "source": [
        "fcc11=pd.read_csv('raw data/FCC 477/hs_tractdata_v2_dec_2011.csv',encoding='cp1252')"
      ]
    },
    {
      "cell_type": "markdown",
      "metadata": {
        "id": "VMIhOHH0Jey8"
      },
      "source": [
        "## Creating a Weighted Longitudinal Score"
      ]
    },
    {
      "cell_type": "code",
      "execution_count": null,
      "metadata": {
        "id": "8u0DYb8WjHkZ"
      },
      "outputs": [],
      "source": [
        "#Multiplier based on confidence and changing definitions of high-speed internet\n",
        "fcc_pre15=6/4\n",
        "nanda_weight=2\n",
        "#Weights\n",
        "current=3/4\n",
        "lag=1/4"
      ]
    },
    {
      "cell_type": "markdown",
      "metadata": {
        "id": "Gqe_n_b2J8fN"
      },
      "source": [
        "#### Creating Pre-2014 Scores"
      ]
    },
    {
      "cell_type": "code",
      "execution_count": null,
      "metadata": {
        "colab": {
          "base_uri": "https://localhost:8080/",
          "height": 209
        },
        "id": "4JhY3Kupkyxf",
        "outputId": "5c253bce-8a27-4e54-e2f6-60fec9790bc1"
      },
      "outputs": [
        {
          "data": {
            "text/html": [
              "\n",
              "  <div id=\"df-6ba48893-495f-4b6a-9dfb-488a7bf115e0\">\n",
              "    <div class=\"colab-df-container\">\n",
              "      <div>\n",
              "<style scoped>\n",
              "    .dataframe tbody tr th:only-of-type {\n",
              "        vertical-align: middle;\n",
              "    }\n",
              "\n",
              "    .dataframe tbody tr th {\n",
              "        vertical-align: top;\n",
              "    }\n",
              "\n",
              "    .dataframe thead th {\n",
              "        text-align: right;\n",
              "    }\n",
              "</style>\n",
              "<table border=\"1\" class=\"dataframe\">\n",
              "  <thead>\n",
              "    <tr style=\"text-align: right;\">\n",
              "      <th></th>\n",
              "      <th>tract_fips</th>\n",
              "      <th>state</th>\n",
              "      <th>county</th>\n",
              "      <th>tract</th>\n",
              "      <th>statename</th>\n",
              "      <th>countyname</th>\n",
              "      <th>tractname</th>\n",
              "      <th>rfc_per_1000_hhs</th>\n",
              "      <th>rfc_per_1000_hhs_nbp</th>\n",
              "      <th>total_prov</th>\n",
              "      <th>total_residential_prov</th>\n",
              "      <th>total_residential_prov_nbp</th>\n",
              "      <th>tmw_prov</th>\n",
              "    </tr>\n",
              "  </thead>\n",
              "  <tbody>\n",
              "    <tr>\n",
              "      <th>0</th>\n",
              "      <td>1001020100</td>\n",
              "      <td>1</td>\n",
              "      <td>1</td>\n",
              "      <td>20100</td>\n",
              "      <td>Alabama</td>\n",
              "      <td>Autauga County</td>\n",
              "      <td>Census Tract 201</td>\n",
              "      <td>4</td>\n",
              "      <td>3</td>\n",
              "      <td>5</td>\n",
              "      <td>4</td>\n",
              "      <td>1</td>\n",
              "      <td>1</td>\n",
              "    </tr>\n",
              "    <tr>\n",
              "      <th>1</th>\n",
              "      <td>1001020200</td>\n",
              "      <td>1</td>\n",
              "      <td>1</td>\n",
              "      <td>20200</td>\n",
              "      <td>Alabama</td>\n",
              "      <td>Autauga County</td>\n",
              "      <td>Census Tract 202</td>\n",
              "      <td>3</td>\n",
              "      <td>3</td>\n",
              "      <td>6</td>\n",
              "      <td>4</td>\n",
              "      <td>1</td>\n",
              "      <td>4</td>\n",
              "    </tr>\n",
              "  </tbody>\n",
              "</table>\n",
              "</div>\n",
              "      <button class=\"colab-df-convert\" onclick=\"convertToInteractive('df-6ba48893-495f-4b6a-9dfb-488a7bf115e0')\"\n",
              "              title=\"Convert this dataframe to an interactive table.\"\n",
              "              style=\"display:none;\">\n",
              "        \n",
              "  <svg xmlns=\"http://www.w3.org/2000/svg\" height=\"24px\"viewBox=\"0 0 24 24\"\n",
              "       width=\"24px\">\n",
              "    <path d=\"M0 0h24v24H0V0z\" fill=\"none\"/>\n",
              "    <path d=\"M18.56 5.44l.94 2.06.94-2.06 2.06-.94-2.06-.94-.94-2.06-.94 2.06-2.06.94zm-11 1L8.5 8.5l.94-2.06 2.06-.94-2.06-.94L8.5 2.5l-.94 2.06-2.06.94zm10 10l.94 2.06.94-2.06 2.06-.94-2.06-.94-.94-2.06-.94 2.06-2.06.94z\"/><path d=\"M17.41 7.96l-1.37-1.37c-.4-.4-.92-.59-1.43-.59-.52 0-1.04.2-1.43.59L10.3 9.45l-7.72 7.72c-.78.78-.78 2.05 0 2.83L4 21.41c.39.39.9.59 1.41.59.51 0 1.02-.2 1.41-.59l7.78-7.78 2.81-2.81c.8-.78.8-2.07 0-2.86zM5.41 20L4 18.59l7.72-7.72 1.47 1.35L5.41 20z\"/>\n",
              "  </svg>\n",
              "      </button>\n",
              "      \n",
              "  <style>\n",
              "    .colab-df-container {\n",
              "      display:flex;\n",
              "      flex-wrap:wrap;\n",
              "      gap: 12px;\n",
              "    }\n",
              "\n",
              "    .colab-df-convert {\n",
              "      background-color: #E8F0FE;\n",
              "      border: none;\n",
              "      border-radius: 50%;\n",
              "      cursor: pointer;\n",
              "      display: none;\n",
              "      fill: #1967D2;\n",
              "      height: 32px;\n",
              "      padding: 0 0 0 0;\n",
              "      width: 32px;\n",
              "    }\n",
              "\n",
              "    .colab-df-convert:hover {\n",
              "      background-color: #E2EBFA;\n",
              "      box-shadow: 0px 1px 2px rgba(60, 64, 67, 0.3), 0px 1px 3px 1px rgba(60, 64, 67, 0.15);\n",
              "      fill: #174EA6;\n",
              "    }\n",
              "\n",
              "    [theme=dark] .colab-df-convert {\n",
              "      background-color: #3B4455;\n",
              "      fill: #D2E3FC;\n",
              "    }\n",
              "\n",
              "    [theme=dark] .colab-df-convert:hover {\n",
              "      background-color: #434B5C;\n",
              "      box-shadow: 0px 1px 3px 1px rgba(0, 0, 0, 0.15);\n",
              "      filter: drop-shadow(0px 1px 2px rgba(0, 0, 0, 0.3));\n",
              "      fill: #FFFFFF;\n",
              "    }\n",
              "  </style>\n",
              "\n",
              "      <script>\n",
              "        const buttonEl =\n",
              "          document.querySelector('#df-6ba48893-495f-4b6a-9dfb-488a7bf115e0 button.colab-df-convert');\n",
              "        buttonEl.style.display =\n",
              "          google.colab.kernel.accessAllowed ? 'block' : 'none';\n",
              "\n",
              "        async function convertToInteractive(key) {\n",
              "          const element = document.querySelector('#df-6ba48893-495f-4b6a-9dfb-488a7bf115e0');\n",
              "          const dataTable =\n",
              "            await google.colab.kernel.invokeFunction('convertToInteractive',\n",
              "                                                     [key], {});\n",
              "          if (!dataTable) return;\n",
              "\n",
              "          const docLinkHtml = 'Like what you see? Visit the ' +\n",
              "            '<a target=\"_blank\" href=https://colab.research.google.com/notebooks/data_table.ipynb>data table notebook</a>'\n",
              "            + ' to learn more about interactive tables.';\n",
              "          element.innerHTML = '';\n",
              "          dataTable['output_type'] = 'display_data';\n",
              "          await google.colab.output.renderOutput(dataTable, element);\n",
              "          const docLink = document.createElement('div');\n",
              "          docLink.innerHTML = docLinkHtml;\n",
              "          element.appendChild(docLink);\n",
              "        }\n",
              "      </script>\n",
              "    </div>\n",
              "  </div>\n",
              "  "
            ],
            "text/plain": [
              "   tract_fips  state  county  tract statename      countyname  \\\n",
              "0  1001020100      1       1  20100   Alabama  Autauga County   \n",
              "1  1001020200      1       1  20200   Alabama  Autauga County   \n",
              "\n",
              "          tractname  rfc_per_1000_hhs  rfc_per_1000_hhs_nbp  total_prov  \\\n",
              "0  Census Tract 201                 4                     3           5   \n",
              "1  Census Tract 202                 3                     3           6   \n",
              "\n",
              "   total_residential_prov  total_residential_prov_nbp  tmw_prov  \n",
              "0                       4                           1         1  \n",
              "1                       4                           1         4  "
            ]
          },
          "execution_count": 24,
          "metadata": {},
          "output_type": "execute_result"
        }
      ],
      "source": [
        "fcc11.head(2)"
      ]
    },
    {
      "cell_type": "code",
      "execution_count": null,
      "metadata": {
        "id": "47BCbQnrkPif"
      },
      "outputs": [],
      "source": [
        "# calculate baseline score out of 10, using weighting from before the change in high-speed definition\n",
        "fcc11['score11']=fcc_pre15*fcc11.rfc_per_1000_hhs_nbp"
      ]
    },
    {
      "cell_type": "code",
      "execution_count": null,
      "metadata": {
        "id": "NttubIkQlVPx"
      },
      "outputs": [],
      "source": [
        "# start a dataframe with just relevant information\n",
        "df=fcc11[['tract_fips', 'state', 'county', 'tract', 'statename', 'countyname','score11']]"
      ]
    },
    {
      "cell_type": "code",
      "execution_count": null,
      "metadata": {
        "id": "ossVS6KFlJ1E"
      },
      "outputs": [],
      "source": [
        "# Merge in the score from 2012, using the same weighting as before. Include the lag as a component to smooth \n",
        "# the jump from one year to the next\n",
        "df=df.merge(fcc12[['rfc_per_1000_hhs_btop','tract_fips']],left_on='tract_fips',right_on='tract_fips')\n",
        "df['score12']=current*(fcc_pre15*df.rfc_per_1000_hhs_btop)+lag*(df.score11)\n",
        "df=df.drop(columns='rfc_per_1000_hhs_btop')"
      ]
    },
    {
      "cell_type": "code",
      "execution_count": null,
      "metadata": {
        "id": "6oB35zTq2pAY"
      },
      "outputs": [],
      "source": [
        "# Merge in the score from 2013, using the same weighting as before\n",
        "df=df.merge(fcc13[['rfc_per_1000_hhs_nbp','tract_fips']],left_on='tract_fips',right_on='tract_fips')\n",
        "df['score13']=current*(fcc_pre15*df.rfc_per_1000_hhs_nbp)+lag*(df.score12)\n",
        "df=df.drop(columns='rfc_per_1000_hhs_nbp')"
      ]
    },
    {
      "cell_type": "markdown",
      "metadata": {
        "id": "AeimWY0fKJpU"
      },
      "source": [
        "#### 2014 Score"
      ]
    },
    {
      "cell_type": "code",
      "execution_count": null,
      "metadata": {
        "colab": {
          "base_uri": "https://localhost:8080/"
        },
        "id": "Mj_l_ZBn8jxk",
        "outputId": "d811bc7e-740a-47d5-9f96-fe5f4b9d3fa3"
      },
      "outputs": [
        {
          "name": "stderr",
          "output_type": "stream",
          "text": [
            "/usr/local/lib/python3.7/dist-packages/ipykernel_launcher.py:17: SettingWithCopyWarning: \n",
            "A value is trying to be set on a copy of a slice from a DataFrame.\n",
            "Try using .loc[row_indexer,col_indexer] = value instead\n",
            "\n",
            "See the caveats in the documentation: https://pandas.pydata.org/pandas-docs/stable/user_guide/indexing.html#returning-a-view-versus-a-copy\n"
          ]
        }
      ],
      "source": [
        "# format nanda scores to fit with format of fcc scores\n",
        "n_score=[]\n",
        "for i in range(len(nanda_14)):\n",
        "  if nanda_14.iloc[i].rfhsc_per_1000_hhs_10_1=='Zero':\n",
        "    n_score.append(0)\n",
        "  elif nanda_14.iloc[i].rfhsc_per_1000_hhs_10_1=='Zero < x <= 200':\n",
        "    n_score.append(1)\n",
        "  elif nanda_14.iloc[i].rfhsc_per_1000_hhs_10_1=='200 < x <= 400':\n",
        "    n_score.append(2)\n",
        "  elif nanda_14.iloc[i].rfhsc_per_1000_hhs_10_1=='400 < x <= 600':\n",
        "    n_score.append(3)\n",
        "  elif nanda_14.iloc[i].rfhsc_per_1000_hhs_10_1=='600 < x <= 800':\n",
        "    n_score.append(4)\n",
        "  elif nanda_14.iloc[i].rfhsc_per_1000_hhs_10_1=='800 < x':\n",
        "    n_score.append(5)\n",
        "\n",
        "nanda_14['score']=n_score  "
      ]
    },
    {
      "cell_type": "code",
      "execution_count": null,
      "metadata": {
        "id": "FEcZZeNhARNB"
      },
      "outputs": [],
      "source": [
        "# Merge nanda and fcc scores into same dataframe, filling in null keys\n",
        "fcc14=fcc14.merge(nanda_14[['tract_fips10','score']],how='outer',left_on='tractcode',right_on='tract_fips10')\n",
        "fips=[]\n",
        "for i in range(len(fcc14)):\n",
        "  if fcc14.iloc[i].isna()[0]:\n",
        "    fips.append(fcc14.iloc[i].tract_fips10)\n",
        "  else:\n",
        "    fips.append(fcc14.iloc[i].tractcode)\n",
        "fcc14['tractcode']=fips"
      ]
    },
    {
      "cell_type": "code",
      "execution_count": null,
      "metadata": {
        "id": "tpc3ExSsGv4t"
      },
      "outputs": [],
      "source": [
        "# fill in null values with the other scores\n",
        "sfill=[]\n",
        "for i in range(len(fcc14)):\n",
        "  if fcc14.iloc[i].isna()[4]:\n",
        "    sfill.append(fcc14.iloc[i].pcat_3x768)\n",
        "  else:\n",
        "    sfill.append(fcc14.iloc[i].score)\n",
        "fcc14['score']=sfill\n",
        "\n",
        "pcfill=[]\n",
        "for i in range(len(fcc14)):\n",
        "  if fcc14.iloc[i].isna()[2]:\n",
        "    pcfill.append(fcc14.iloc[i].score)\n",
        "  else:\n",
        "    pcfill.append(fcc14.iloc[i].pcat_3x768)\n",
        "fcc14['pcat_3x768']=pcfill"
      ]
    },
    {
      "cell_type": "code",
      "execution_count": null,
      "metadata": {
        "colab": {
          "base_uri": "https://localhost:8080/",
          "height": 268
        },
        "id": "ORVEui5PBaOe",
        "outputId": "404b4957-62f2-43ed-adf6-def85c56f167"
      },
      "outputs": [
        {
          "data": {
            "text/html": [
              "\n",
              "  <div id=\"df-f7249785-64fa-4bd3-97a0-1ae5cf9a6a6f\">\n",
              "    <div class=\"colab-df-container\">\n",
              "      <div>\n",
              "<style scoped>\n",
              "    .dataframe tbody tr th:only-of-type {\n",
              "        vertical-align: middle;\n",
              "    }\n",
              "\n",
              "    .dataframe tbody tr th {\n",
              "        vertical-align: top;\n",
              "    }\n",
              "\n",
              "    .dataframe thead th {\n",
              "        text-align: right;\n",
              "    }\n",
              "</style>\n",
              "<table border=\"1\" class=\"dataframe\">\n",
              "  <thead>\n",
              "    <tr style=\"text-align: right;\">\n",
              "      <th></th>\n",
              "      <th>tractcode</th>\n",
              "      <th>pcat_all</th>\n",
              "      <th>pcat_3x768</th>\n",
              "      <th>tract_fips10</th>\n",
              "      <th>score</th>\n",
              "    </tr>\n",
              "  </thead>\n",
              "  <tbody>\n",
              "    <tr>\n",
              "      <th>0</th>\n",
              "      <td>1.001020e+09</td>\n",
              "      <td>4.0</td>\n",
              "      <td>4.0</td>\n",
              "      <td>1.001020e+09</td>\n",
              "      <td>4.0</td>\n",
              "    </tr>\n",
              "    <tr>\n",
              "      <th>1</th>\n",
              "      <td>1.001020e+09</td>\n",
              "      <td>3.0</td>\n",
              "      <td>3.0</td>\n",
              "      <td>1.001020e+09</td>\n",
              "      <td>3.0</td>\n",
              "    </tr>\n",
              "    <tr>\n",
              "      <th>2</th>\n",
              "      <td>1.001020e+09</td>\n",
              "      <td>4.0</td>\n",
              "      <td>4.0</td>\n",
              "      <td>1.001020e+09</td>\n",
              "      <td>4.0</td>\n",
              "    </tr>\n",
              "    <tr>\n",
              "      <th>3</th>\n",
              "      <td>1.001020e+09</td>\n",
              "      <td>5.0</td>\n",
              "      <td>4.0</td>\n",
              "      <td>1.001020e+09</td>\n",
              "      <td>4.0</td>\n",
              "    </tr>\n",
              "    <tr>\n",
              "      <th>4</th>\n",
              "      <td>1.001020e+09</td>\n",
              "      <td>5.0</td>\n",
              "      <td>5.0</td>\n",
              "      <td>1.001020e+09</td>\n",
              "      <td>4.0</td>\n",
              "    </tr>\n",
              "  </tbody>\n",
              "</table>\n",
              "</div>\n",
              "      <button class=\"colab-df-convert\" onclick=\"convertToInteractive('df-f7249785-64fa-4bd3-97a0-1ae5cf9a6a6f')\"\n",
              "              title=\"Convert this dataframe to an interactive table.\"\n",
              "              style=\"display:none;\">\n",
              "        \n",
              "  <svg xmlns=\"http://www.w3.org/2000/svg\" height=\"24px\"viewBox=\"0 0 24 24\"\n",
              "       width=\"24px\">\n",
              "    <path d=\"M0 0h24v24H0V0z\" fill=\"none\"/>\n",
              "    <path d=\"M18.56 5.44l.94 2.06.94-2.06 2.06-.94-2.06-.94-.94-2.06-.94 2.06-2.06.94zm-11 1L8.5 8.5l.94-2.06 2.06-.94-2.06-.94L8.5 2.5l-.94 2.06-2.06.94zm10 10l.94 2.06.94-2.06 2.06-.94-2.06-.94-.94-2.06-.94 2.06-2.06.94z\"/><path d=\"M17.41 7.96l-1.37-1.37c-.4-.4-.92-.59-1.43-.59-.52 0-1.04.2-1.43.59L10.3 9.45l-7.72 7.72c-.78.78-.78 2.05 0 2.83L4 21.41c.39.39.9.59 1.41.59.51 0 1.02-.2 1.41-.59l7.78-7.78 2.81-2.81c.8-.78.8-2.07 0-2.86zM5.41 20L4 18.59l7.72-7.72 1.47 1.35L5.41 20z\"/>\n",
              "  </svg>\n",
              "      </button>\n",
              "      \n",
              "  <style>\n",
              "    .colab-df-container {\n",
              "      display:flex;\n",
              "      flex-wrap:wrap;\n",
              "      gap: 12px;\n",
              "    }\n",
              "\n",
              "    .colab-df-convert {\n",
              "      background-color: #E8F0FE;\n",
              "      border: none;\n",
              "      border-radius: 50%;\n",
              "      cursor: pointer;\n",
              "      display: none;\n",
              "      fill: #1967D2;\n",
              "      height: 32px;\n",
              "      padding: 0 0 0 0;\n",
              "      width: 32px;\n",
              "    }\n",
              "\n",
              "    .colab-df-convert:hover {\n",
              "      background-color: #E2EBFA;\n",
              "      box-shadow: 0px 1px 2px rgba(60, 64, 67, 0.3), 0px 1px 3px 1px rgba(60, 64, 67, 0.15);\n",
              "      fill: #174EA6;\n",
              "    }\n",
              "\n",
              "    [theme=dark] .colab-df-convert {\n",
              "      background-color: #3B4455;\n",
              "      fill: #D2E3FC;\n",
              "    }\n",
              "\n",
              "    [theme=dark] .colab-df-convert:hover {\n",
              "      background-color: #434B5C;\n",
              "      box-shadow: 0px 1px 3px 1px rgba(0, 0, 0, 0.15);\n",
              "      filter: drop-shadow(0px 1px 2px rgba(0, 0, 0, 0.3));\n",
              "      fill: #FFFFFF;\n",
              "    }\n",
              "  </style>\n",
              "\n",
              "      <script>\n",
              "        const buttonEl =\n",
              "          document.querySelector('#df-f7249785-64fa-4bd3-97a0-1ae5cf9a6a6f button.colab-df-convert');\n",
              "        buttonEl.style.display =\n",
              "          google.colab.kernel.accessAllowed ? 'block' : 'none';\n",
              "\n",
              "        async function convertToInteractive(key) {\n",
              "          const element = document.querySelector('#df-f7249785-64fa-4bd3-97a0-1ae5cf9a6a6f');\n",
              "          const dataTable =\n",
              "            await google.colab.kernel.invokeFunction('convertToInteractive',\n",
              "                                                     [key], {});\n",
              "          if (!dataTable) return;\n",
              "\n",
              "          const docLinkHtml = 'Like what you see? Visit the ' +\n",
              "            '<a target=\"_blank\" href=https://colab.research.google.com/notebooks/data_table.ipynb>data table notebook</a>'\n",
              "            + ' to learn more about interactive tables.';\n",
              "          element.innerHTML = '';\n",
              "          dataTable['output_type'] = 'display_data';\n",
              "          await google.colab.output.renderOutput(dataTable, element);\n",
              "          const docLink = document.createElement('div');\n",
              "          docLink.innerHTML = docLinkHtml;\n",
              "          element.appendChild(docLink);\n",
              "        }\n",
              "      </script>\n",
              "    </div>\n",
              "  </div>\n",
              "  "
            ],
            "text/plain": [
              "      tractcode  pcat_all  pcat_3x768  tract_fips10  score\n",
              "0  1.001020e+09       4.0         4.0  1.001020e+09    4.0\n",
              "1  1.001020e+09       3.0         3.0  1.001020e+09    3.0\n",
              "2  1.001020e+09       4.0         4.0  1.001020e+09    4.0\n",
              "3  1.001020e+09       5.0         4.0  1.001020e+09    4.0\n",
              "4  1.001020e+09       5.0         5.0  1.001020e+09    4.0"
            ]
          },
          "execution_count": 32,
          "metadata": {},
          "output_type": "execute_result"
        }
      ],
      "source": [
        "fcc14.head()"
      ]
    },
    {
      "cell_type": "code",
      "execution_count": null,
      "metadata": {
        "id": "qJeftjV57EDa"
      },
      "outputs": [],
      "source": [
        "# Merge into larger dataframe and sum up the score using appropriate weights\n",
        "\n",
        "df=df.merge(fcc14[['pcat_3x768','score','tractcode']],left_on='tract_fips',right_on='tractcode')\n",
        "df['score14']=current*(fcc_pre15*df.pcat_3x768+nanda_weight*df.score)/2+lag*(df.score13)\n",
        "df=df.drop(columns=['pcat_3x768','score','tractcode'])"
      ]
    },
    {
      "cell_type": "markdown",
      "metadata": {
        "id": "_d1L3UlKLY2L"
      },
      "source": [
        "#### 2015 Score"
      ]
    },
    {
      "cell_type": "code",
      "execution_count": null,
      "metadata": {
        "colab": {
          "base_uri": "https://localhost:8080/"
        },
        "id": "E90DfysuLhAs",
        "outputId": "f765b33e-6a24-4189-a16e-0c993677b7a1"
      },
      "outputs": [
        {
          "name": "stderr",
          "output_type": "stream",
          "text": [
            "/usr/local/lib/python3.7/dist-packages/ipykernel_launcher.py:17: SettingWithCopyWarning: \n",
            "A value is trying to be set on a copy of a slice from a DataFrame.\n",
            "Try using .loc[row_indexer,col_indexer] = value instead\n",
            "\n",
            "See the caveats in the documentation: https://pandas.pydata.org/pandas-docs/stable/user_guide/indexing.html#returning-a-view-versus-a-copy\n"
          ]
        }
      ],
      "source": [
        "#Same process as 2014\n",
        "n_score=[]\n",
        "for i in range(len(nanda_15)):\n",
        "  if nanda_15.iloc[i].rfhsc_per_1000_hhs_10_1=='Zero':\n",
        "    n_score.append(0)\n",
        "  elif nanda_15.iloc[i].rfhsc_per_1000_hhs_10_1=='Zero < x <= 200':\n",
        "    n_score.append(1)\n",
        "  elif nanda_15.iloc[i].rfhsc_per_1000_hhs_10_1=='200 < x <= 400':\n",
        "    n_score.append(2)\n",
        "  elif nanda_15.iloc[i].rfhsc_per_1000_hhs_10_1=='400 < x <= 600':\n",
        "    n_score.append(3)\n",
        "  elif nanda_15.iloc[i].rfhsc_per_1000_hhs_10_1=='600 < x <= 800':\n",
        "    n_score.append(4)\n",
        "  elif nanda_15.iloc[i].rfhsc_per_1000_hhs_10_1=='800 < x':\n",
        "    n_score.append(5)\n",
        "\n",
        "nanda_15['score']=n_score  "
      ]
    },
    {
      "cell_type": "code",
      "execution_count": null,
      "metadata": {
        "id": "PkfwVovHLtIX"
      },
      "outputs": [],
      "source": [
        "fcc15=fcc15.merge(nanda_15[['tract_fips10','score']],how='outer',left_on='tractcode',right_on='tract_fips10')\n",
        "fips=[]\n",
        "for i in range(len(fcc15)):\n",
        "  if fcc15.iloc[i].isna()[0]:\n",
        "    fips.append(fcc15.iloc[i].tract_fips10)\n",
        "  else:\n",
        "    fips.append(fcc15.iloc[i].tractcode)\n",
        "fcc15['tractcode']=fips"
      ]
    },
    {
      "cell_type": "code",
      "execution_count": null,
      "metadata": {
        "id": "vVws6w9KL_G1"
      },
      "outputs": [],
      "source": [
        "sfill=[]\n",
        "for i in range(len(fcc15)):\n",
        "  if fcc15.iloc[i].isna()[4]:\n",
        "    sfill.append(fcc15.iloc[i].pcat_10x1)\n",
        "  else:\n",
        "    sfill.append(fcc15.iloc[i].score)\n",
        "fcc15['score']=sfill\n",
        "\n",
        "pcfill=[]\n",
        "for i in range(len(fcc15)):\n",
        "  if fcc15.iloc[i].isna()[2]:\n",
        "    pcfill.append(fcc15.iloc[i].score)\n",
        "  else:\n",
        "    pcfill.append(fcc15.iloc[i].pcat_10x1)\n",
        "fcc15['pcat_10x1']=pcfill"
      ]
    },
    {
      "cell_type": "code",
      "execution_count": null,
      "metadata": {
        "colab": {
          "base_uri": "https://localhost:8080/",
          "height": 268
        },
        "id": "5vhyezK-LuZc",
        "outputId": "33452080-a06c-4dc2-d90b-81ef82c350eb"
      },
      "outputs": [
        {
          "data": {
            "text/html": [
              "\n",
              "  <div id=\"df-db3ffc0e-ab8e-4cb9-899f-8b86f935dbad\">\n",
              "    <div class=\"colab-df-container\">\n",
              "      <div>\n",
              "<style scoped>\n",
              "    .dataframe tbody tr th:only-of-type {\n",
              "        vertical-align: middle;\n",
              "    }\n",
              "\n",
              "    .dataframe tbody tr th {\n",
              "        vertical-align: top;\n",
              "    }\n",
              "\n",
              "    .dataframe thead th {\n",
              "        text-align: right;\n",
              "    }\n",
              "</style>\n",
              "<table border=\"1\" class=\"dataframe\">\n",
              "  <thead>\n",
              "    <tr style=\"text-align: right;\">\n",
              "      <th></th>\n",
              "      <th>tractcode</th>\n",
              "      <th>pcat_all</th>\n",
              "      <th>pcat_10x1</th>\n",
              "      <th>tract_fips10</th>\n",
              "      <th>score</th>\n",
              "    </tr>\n",
              "  </thead>\n",
              "  <tbody>\n",
              "    <tr>\n",
              "      <th>0</th>\n",
              "      <td>1.001020e+09</td>\n",
              "      <td>4.0</td>\n",
              "      <td>4.0</td>\n",
              "      <td>1.001020e+09</td>\n",
              "      <td>4.0</td>\n",
              "    </tr>\n",
              "    <tr>\n",
              "      <th>1</th>\n",
              "      <td>1.001020e+09</td>\n",
              "      <td>4.0</td>\n",
              "      <td>3.0</td>\n",
              "      <td>1.001020e+09</td>\n",
              "      <td>3.0</td>\n",
              "    </tr>\n",
              "    <tr>\n",
              "      <th>2</th>\n",
              "      <td>1.001020e+09</td>\n",
              "      <td>5.0</td>\n",
              "      <td>4.0</td>\n",
              "      <td>1.001020e+09</td>\n",
              "      <td>4.0</td>\n",
              "    </tr>\n",
              "    <tr>\n",
              "      <th>3</th>\n",
              "      <td>1.001020e+09</td>\n",
              "      <td>5.0</td>\n",
              "      <td>4.0</td>\n",
              "      <td>1.001020e+09</td>\n",
              "      <td>4.0</td>\n",
              "    </tr>\n",
              "    <tr>\n",
              "      <th>4</th>\n",
              "      <td>1.001020e+09</td>\n",
              "      <td>5.0</td>\n",
              "      <td>4.0</td>\n",
              "      <td>1.001020e+09</td>\n",
              "      <td>4.0</td>\n",
              "    </tr>\n",
              "  </tbody>\n",
              "</table>\n",
              "</div>\n",
              "      <button class=\"colab-df-convert\" onclick=\"convertToInteractive('df-db3ffc0e-ab8e-4cb9-899f-8b86f935dbad')\"\n",
              "              title=\"Convert this dataframe to an interactive table.\"\n",
              "              style=\"display:none;\">\n",
              "        \n",
              "  <svg xmlns=\"http://www.w3.org/2000/svg\" height=\"24px\"viewBox=\"0 0 24 24\"\n",
              "       width=\"24px\">\n",
              "    <path d=\"M0 0h24v24H0V0z\" fill=\"none\"/>\n",
              "    <path d=\"M18.56 5.44l.94 2.06.94-2.06 2.06-.94-2.06-.94-.94-2.06-.94 2.06-2.06.94zm-11 1L8.5 8.5l.94-2.06 2.06-.94-2.06-.94L8.5 2.5l-.94 2.06-2.06.94zm10 10l.94 2.06.94-2.06 2.06-.94-2.06-.94-.94-2.06-.94 2.06-2.06.94z\"/><path d=\"M17.41 7.96l-1.37-1.37c-.4-.4-.92-.59-1.43-.59-.52 0-1.04.2-1.43.59L10.3 9.45l-7.72 7.72c-.78.78-.78 2.05 0 2.83L4 21.41c.39.39.9.59 1.41.59.51 0 1.02-.2 1.41-.59l7.78-7.78 2.81-2.81c.8-.78.8-2.07 0-2.86zM5.41 20L4 18.59l7.72-7.72 1.47 1.35L5.41 20z\"/>\n",
              "  </svg>\n",
              "      </button>\n",
              "      \n",
              "  <style>\n",
              "    .colab-df-container {\n",
              "      display:flex;\n",
              "      flex-wrap:wrap;\n",
              "      gap: 12px;\n",
              "    }\n",
              "\n",
              "    .colab-df-convert {\n",
              "      background-color: #E8F0FE;\n",
              "      border: none;\n",
              "      border-radius: 50%;\n",
              "      cursor: pointer;\n",
              "      display: none;\n",
              "      fill: #1967D2;\n",
              "      height: 32px;\n",
              "      padding: 0 0 0 0;\n",
              "      width: 32px;\n",
              "    }\n",
              "\n",
              "    .colab-df-convert:hover {\n",
              "      background-color: #E2EBFA;\n",
              "      box-shadow: 0px 1px 2px rgba(60, 64, 67, 0.3), 0px 1px 3px 1px rgba(60, 64, 67, 0.15);\n",
              "      fill: #174EA6;\n",
              "    }\n",
              "\n",
              "    [theme=dark] .colab-df-convert {\n",
              "      background-color: #3B4455;\n",
              "      fill: #D2E3FC;\n",
              "    }\n",
              "\n",
              "    [theme=dark] .colab-df-convert:hover {\n",
              "      background-color: #434B5C;\n",
              "      box-shadow: 0px 1px 3px 1px rgba(0, 0, 0, 0.15);\n",
              "      filter: drop-shadow(0px 1px 2px rgba(0, 0, 0, 0.3));\n",
              "      fill: #FFFFFF;\n",
              "    }\n",
              "  </style>\n",
              "\n",
              "      <script>\n",
              "        const buttonEl =\n",
              "          document.querySelector('#df-db3ffc0e-ab8e-4cb9-899f-8b86f935dbad button.colab-df-convert');\n",
              "        buttonEl.style.display =\n",
              "          google.colab.kernel.accessAllowed ? 'block' : 'none';\n",
              "\n",
              "        async function convertToInteractive(key) {\n",
              "          const element = document.querySelector('#df-db3ffc0e-ab8e-4cb9-899f-8b86f935dbad');\n",
              "          const dataTable =\n",
              "            await google.colab.kernel.invokeFunction('convertToInteractive',\n",
              "                                                     [key], {});\n",
              "          if (!dataTable) return;\n",
              "\n",
              "          const docLinkHtml = 'Like what you see? Visit the ' +\n",
              "            '<a target=\"_blank\" href=https://colab.research.google.com/notebooks/data_table.ipynb>data table notebook</a>'\n",
              "            + ' to learn more about interactive tables.';\n",
              "          element.innerHTML = '';\n",
              "          dataTable['output_type'] = 'display_data';\n",
              "          await google.colab.output.renderOutput(dataTable, element);\n",
              "          const docLink = document.createElement('div');\n",
              "          docLink.innerHTML = docLinkHtml;\n",
              "          element.appendChild(docLink);\n",
              "        }\n",
              "      </script>\n",
              "    </div>\n",
              "  </div>\n",
              "  "
            ],
            "text/plain": [
              "      tractcode  pcat_all  pcat_10x1  tract_fips10  score\n",
              "0  1.001020e+09       4.0        4.0  1.001020e+09    4.0\n",
              "1  1.001020e+09       4.0        3.0  1.001020e+09    3.0\n",
              "2  1.001020e+09       5.0        4.0  1.001020e+09    4.0\n",
              "3  1.001020e+09       5.0        4.0  1.001020e+09    4.0\n",
              "4  1.001020e+09       5.0        4.0  1.001020e+09    4.0"
            ]
          },
          "execution_count": 37,
          "metadata": {},
          "output_type": "execute_result"
        }
      ],
      "source": [
        "fcc15.head()"
      ]
    },
    {
      "cell_type": "code",
      "execution_count": null,
      "metadata": {
        "id": "pbOSceX1Obbx"
      },
      "outputs": [],
      "source": [
        "# With the change in data definitions, fcc data and nanda data are now weighted the same\n",
        "\n",
        "df=df.merge(fcc15[['pcat_10x1','score','tractcode']],left_on='tract_fips',right_on='tractcode')\n",
        "df['score15']=current*(nanda_weight*df.pcat_10x1+nanda_weight*df.score)/2+lag*(df.score14)\n",
        "df=df.drop(columns=['pcat_10x1','score','tractcode'])"
      ]
    },
    {
      "cell_type": "markdown",
      "metadata": {
        "id": "Q08SbUMyoNel"
      },
      "source": [
        "#### 2016 Score"
      ]
    },
    {
      "cell_type": "code",
      "execution_count": null,
      "metadata": {
        "colab": {
          "base_uri": "https://localhost:8080/"
        },
        "id": "bZMFX4eOoWOK",
        "outputId": "14bc86a4-4157-4033-ffc4-76c9d6d4a044"
      },
      "outputs": [
        {
          "name": "stderr",
          "output_type": "stream",
          "text": [
            "/usr/local/lib/python3.7/dist-packages/ipykernel_launcher.py:17: SettingWithCopyWarning: \n",
            "A value is trying to be set on a copy of a slice from a DataFrame.\n",
            "Try using .loc[row_indexer,col_indexer] = value instead\n",
            "\n",
            "See the caveats in the documentation: https://pandas.pydata.org/pandas-docs/stable/user_guide/indexing.html#returning-a-view-versus-a-copy\n"
          ]
        }
      ],
      "source": [
        "# Same process as in 2014\n",
        "n_score=[]\n",
        "for i in range(len(nanda_16)):\n",
        "  if nanda_16.iloc[i].rfhsc_per_1000_hhs_10_1=='Zero':\n",
        "    n_score.append(0)\n",
        "  elif nanda_16.iloc[i].rfhsc_per_1000_hhs_10_1=='Zero < x <= 200':\n",
        "    n_score.append(1)\n",
        "  elif nanda_16.iloc[i].rfhsc_per_1000_hhs_10_1=='200 < x <= 400':\n",
        "    n_score.append(2)\n",
        "  elif nanda_16.iloc[i].rfhsc_per_1000_hhs_10_1=='400 < x <= 600':\n",
        "    n_score.append(3)\n",
        "  elif nanda_16.iloc[i].rfhsc_per_1000_hhs_10_1=='600 < x <= 800':\n",
        "    n_score.append(4)\n",
        "  elif nanda_16.iloc[i].rfhsc_per_1000_hhs_10_1=='800 < x':\n",
        "    n_score.append(5)\n",
        "\n",
        "nanda_16['score']=n_score  "
      ]
    },
    {
      "cell_type": "code",
      "execution_count": null,
      "metadata": {
        "id": "2VDXz-bQoY6T"
      },
      "outputs": [],
      "source": [
        "fcc16=fcc16.merge(nanda_16[['tract_fips10','score']],how='outer',left_on='tractcode',right_on='tract_fips10')\n",
        "fips=[]\n",
        "for i in range(len(fcc16)):\n",
        "  if fcc16.iloc[i].isna()[0]:\n",
        "    fips.append(fcc16.iloc[i].tract_fips10)\n",
        "  else:\n",
        "    fips.append(fcc16.iloc[i].tractcode)\n",
        "fcc16['tractcode']=fips"
      ]
    },
    {
      "cell_type": "code",
      "execution_count": null,
      "metadata": {
        "id": "aDGpGUEsobZv"
      },
      "outputs": [],
      "source": [
        "sfill=[]\n",
        "for i in range(len(fcc16)):\n",
        "  if fcc16.iloc[i].isna()[4]:\n",
        "    sfill.append(fcc16.iloc[i].pcat_10x1)\n",
        "  else:\n",
        "    sfill.append(fcc16.iloc[i].score)\n",
        "fcc16['score']=sfill\n",
        "\n",
        "pcfill=[]\n",
        "for i in range(len(fcc16)):\n",
        "  if fcc16.iloc[i].isna()[2]:\n",
        "    pcfill.append(fcc16.iloc[i].score)\n",
        "  else:\n",
        "    pcfill.append(fcc16.iloc[i].pcat_10x1)\n",
        "fcc16['pcat_10x1']=pcfill"
      ]
    },
    {
      "cell_type": "code",
      "execution_count": null,
      "metadata": {
        "colab": {
          "base_uri": "https://localhost:8080/",
          "height": 268
        },
        "id": "CuHyNVUuoehm",
        "outputId": "44f6937f-ba82-4573-c5ca-e3702a8edf24"
      },
      "outputs": [
        {
          "data": {
            "text/html": [
              "\n",
              "  <div id=\"df-c0ad5889-43e9-4c0e-b06e-e38e4a39bee9\">\n",
              "    <div class=\"colab-df-container\">\n",
              "      <div>\n",
              "<style scoped>\n",
              "    .dataframe tbody tr th:only-of-type {\n",
              "        vertical-align: middle;\n",
              "    }\n",
              "\n",
              "    .dataframe tbody tr th {\n",
              "        vertical-align: top;\n",
              "    }\n",
              "\n",
              "    .dataframe thead th {\n",
              "        text-align: right;\n",
              "    }\n",
              "</style>\n",
              "<table border=\"1\" class=\"dataframe\">\n",
              "  <thead>\n",
              "    <tr style=\"text-align: right;\">\n",
              "      <th></th>\n",
              "      <th>tractcode</th>\n",
              "      <th>pcat_all</th>\n",
              "      <th>pcat_10x1</th>\n",
              "      <th>tract_fips10</th>\n",
              "      <th>score</th>\n",
              "    </tr>\n",
              "  </thead>\n",
              "  <tbody>\n",
              "    <tr>\n",
              "      <th>0</th>\n",
              "      <td>1.001020e+09</td>\n",
              "      <td>4.0</td>\n",
              "      <td>4.0</td>\n",
              "      <td>1.001020e+09</td>\n",
              "      <td>4.0</td>\n",
              "    </tr>\n",
              "    <tr>\n",
              "      <th>1</th>\n",
              "      <td>1.001020e+09</td>\n",
              "      <td>4.0</td>\n",
              "      <td>4.0</td>\n",
              "      <td>1.001020e+09</td>\n",
              "      <td>4.0</td>\n",
              "    </tr>\n",
              "    <tr>\n",
              "      <th>2</th>\n",
              "      <td>1.001020e+09</td>\n",
              "      <td>5.0</td>\n",
              "      <td>4.0</td>\n",
              "      <td>1.001020e+09</td>\n",
              "      <td>4.0</td>\n",
              "    </tr>\n",
              "    <tr>\n",
              "      <th>3</th>\n",
              "      <td>1.001020e+09</td>\n",
              "      <td>5.0</td>\n",
              "      <td>5.0</td>\n",
              "      <td>1.001020e+09</td>\n",
              "      <td>5.0</td>\n",
              "    </tr>\n",
              "    <tr>\n",
              "      <th>4</th>\n",
              "      <td>1.001020e+09</td>\n",
              "      <td>5.0</td>\n",
              "      <td>5.0</td>\n",
              "      <td>1.001020e+09</td>\n",
              "      <td>5.0</td>\n",
              "    </tr>\n",
              "  </tbody>\n",
              "</table>\n",
              "</div>\n",
              "      <button class=\"colab-df-convert\" onclick=\"convertToInteractive('df-c0ad5889-43e9-4c0e-b06e-e38e4a39bee9')\"\n",
              "              title=\"Convert this dataframe to an interactive table.\"\n",
              "              style=\"display:none;\">\n",
              "        \n",
              "  <svg xmlns=\"http://www.w3.org/2000/svg\" height=\"24px\"viewBox=\"0 0 24 24\"\n",
              "       width=\"24px\">\n",
              "    <path d=\"M0 0h24v24H0V0z\" fill=\"none\"/>\n",
              "    <path d=\"M18.56 5.44l.94 2.06.94-2.06 2.06-.94-2.06-.94-.94-2.06-.94 2.06-2.06.94zm-11 1L8.5 8.5l.94-2.06 2.06-.94-2.06-.94L8.5 2.5l-.94 2.06-2.06.94zm10 10l.94 2.06.94-2.06 2.06-.94-2.06-.94-.94-2.06-.94 2.06-2.06.94z\"/><path d=\"M17.41 7.96l-1.37-1.37c-.4-.4-.92-.59-1.43-.59-.52 0-1.04.2-1.43.59L10.3 9.45l-7.72 7.72c-.78.78-.78 2.05 0 2.83L4 21.41c.39.39.9.59 1.41.59.51 0 1.02-.2 1.41-.59l7.78-7.78 2.81-2.81c.8-.78.8-2.07 0-2.86zM5.41 20L4 18.59l7.72-7.72 1.47 1.35L5.41 20z\"/>\n",
              "  </svg>\n",
              "      </button>\n",
              "      \n",
              "  <style>\n",
              "    .colab-df-container {\n",
              "      display:flex;\n",
              "      flex-wrap:wrap;\n",
              "      gap: 12px;\n",
              "    }\n",
              "\n",
              "    .colab-df-convert {\n",
              "      background-color: #E8F0FE;\n",
              "      border: none;\n",
              "      border-radius: 50%;\n",
              "      cursor: pointer;\n",
              "      display: none;\n",
              "      fill: #1967D2;\n",
              "      height: 32px;\n",
              "      padding: 0 0 0 0;\n",
              "      width: 32px;\n",
              "    }\n",
              "\n",
              "    .colab-df-convert:hover {\n",
              "      background-color: #E2EBFA;\n",
              "      box-shadow: 0px 1px 2px rgba(60, 64, 67, 0.3), 0px 1px 3px 1px rgba(60, 64, 67, 0.15);\n",
              "      fill: #174EA6;\n",
              "    }\n",
              "\n",
              "    [theme=dark] .colab-df-convert {\n",
              "      background-color: #3B4455;\n",
              "      fill: #D2E3FC;\n",
              "    }\n",
              "\n",
              "    [theme=dark] .colab-df-convert:hover {\n",
              "      background-color: #434B5C;\n",
              "      box-shadow: 0px 1px 3px 1px rgba(0, 0, 0, 0.15);\n",
              "      filter: drop-shadow(0px 1px 2px rgba(0, 0, 0, 0.3));\n",
              "      fill: #FFFFFF;\n",
              "    }\n",
              "  </style>\n",
              "\n",
              "      <script>\n",
              "        const buttonEl =\n",
              "          document.querySelector('#df-c0ad5889-43e9-4c0e-b06e-e38e4a39bee9 button.colab-df-convert');\n",
              "        buttonEl.style.display =\n",
              "          google.colab.kernel.accessAllowed ? 'block' : 'none';\n",
              "\n",
              "        async function convertToInteractive(key) {\n",
              "          const element = document.querySelector('#df-c0ad5889-43e9-4c0e-b06e-e38e4a39bee9');\n",
              "          const dataTable =\n",
              "            await google.colab.kernel.invokeFunction('convertToInteractive',\n",
              "                                                     [key], {});\n",
              "          if (!dataTable) return;\n",
              "\n",
              "          const docLinkHtml = 'Like what you see? Visit the ' +\n",
              "            '<a target=\"_blank\" href=https://colab.research.google.com/notebooks/data_table.ipynb>data table notebook</a>'\n",
              "            + ' to learn more about interactive tables.';\n",
              "          element.innerHTML = '';\n",
              "          dataTable['output_type'] = 'display_data';\n",
              "          await google.colab.output.renderOutput(dataTable, element);\n",
              "          const docLink = document.createElement('div');\n",
              "          docLink.innerHTML = docLinkHtml;\n",
              "          element.appendChild(docLink);\n",
              "        }\n",
              "      </script>\n",
              "    </div>\n",
              "  </div>\n",
              "  "
            ],
            "text/plain": [
              "      tractcode  pcat_all  pcat_10x1  tract_fips10  score\n",
              "0  1.001020e+09       4.0        4.0  1.001020e+09    4.0\n",
              "1  1.001020e+09       4.0        4.0  1.001020e+09    4.0\n",
              "2  1.001020e+09       5.0        4.0  1.001020e+09    4.0\n",
              "3  1.001020e+09       5.0        5.0  1.001020e+09    5.0\n",
              "4  1.001020e+09       5.0        5.0  1.001020e+09    5.0"
            ]
          },
          "execution_count": 42,
          "metadata": {},
          "output_type": "execute_result"
        }
      ],
      "source": [
        "fcc16.head()"
      ]
    },
    {
      "cell_type": "code",
      "execution_count": null,
      "metadata": {
        "id": "MtneJJ7ApOeo"
      },
      "outputs": [],
      "source": [
        "# Same weighting as 2015\n",
        "df=df.merge(fcc16[['pcat_10x1','score','tractcode']],left_on='tract_fips',right_on='tractcode')\n",
        "df['score16']=current*(nanda_weight*df.pcat_10x1+nanda_weight*df.score)/2+lag*(df.score15)\n",
        "df=df.drop(columns=['pcat_10x1','score','tractcode'])"
      ]
    },
    {
      "cell_type": "markdown",
      "metadata": {
        "id": "YR2JsVgxqbkg"
      },
      "source": [
        "#### 2017 Score"
      ]
    },
    {
      "cell_type": "code",
      "execution_count": null,
      "metadata": {
        "colab": {
          "base_uri": "https://localhost:8080/"
        },
        "id": "JhCEiX4Vqbko",
        "outputId": "f885b7c0-ea11-45e5-dcbd-7e3097a381cd"
      },
      "outputs": [
        {
          "name": "stderr",
          "output_type": "stream",
          "text": [
            "/usr/local/lib/python3.7/dist-packages/ipykernel_launcher.py:17: SettingWithCopyWarning: \n",
            "A value is trying to be set on a copy of a slice from a DataFrame.\n",
            "Try using .loc[row_indexer,col_indexer] = value instead\n",
            "\n",
            "See the caveats in the documentation: https://pandas.pydata.org/pandas-docs/stable/user_guide/indexing.html#returning-a-view-versus-a-copy\n"
          ]
        }
      ],
      "source": [
        "# Same process to prepare nanda score\n",
        "n_score=[]\n",
        "for i in range(len(nanda_17)):\n",
        "  if nanda_17.iloc[i].rfhsc_per_1000_hhs_10_1=='Zero':\n",
        "    n_score.append(0)\n",
        "  elif nanda_17.iloc[i].rfhsc_per_1000_hhs_10_1=='Zero < x <= 200':\n",
        "    n_score.append(1)\n",
        "  elif nanda_17.iloc[i].rfhsc_per_1000_hhs_10_1=='200 < x <= 400':\n",
        "    n_score.append(2)\n",
        "  elif nanda_17.iloc[i].rfhsc_per_1000_hhs_10_1=='400 < x <= 600':\n",
        "    n_score.append(3)\n",
        "  elif nanda_17.iloc[i].rfhsc_per_1000_hhs_10_1=='600 < x <= 800':\n",
        "    n_score.append(4)\n",
        "  elif nanda_17.iloc[i].rfhsc_per_1000_hhs_10_1=='800 < x':\n",
        "    n_score.append(5)\n",
        "\n",
        "nanda_17['score']=n_score  "
      ]
    },
    {
      "cell_type": "code",
      "execution_count": null,
      "metadata": {
        "id": "mEbBL_Nkqbko"
      },
      "outputs": [],
      "source": [
        "fcc17=fcc17.merge(nanda_17[['tract_fips10','score']],how='outer',left_on='tractcode',right_on='tract_fips10')\n",
        "fips=[]\n",
        "for i in range(len(fcc17)):\n",
        "  if fcc17.iloc[i].isna()[0]:\n",
        "    fips.append(fcc17.iloc[i].tract_fips10)\n",
        "  else:\n",
        "    fips.append(fcc17.iloc[i].tractcode)\n",
        "fcc17['tractcode']=fips"
      ]
    },
    {
      "cell_type": "code",
      "execution_count": null,
      "metadata": {
        "id": "XU7rcHbVqbko"
      },
      "outputs": [],
      "source": [
        "sfill=[]\n",
        "for i in range(len(fcc17)):\n",
        "  if fcc17.iloc[i].isna()[4]:\n",
        "    sfill.append(fcc17.iloc[i].pcat_10x1)\n",
        "  else:\n",
        "    sfill.append(fcc17.iloc[i].score)\n",
        "fcc17['score']=sfill\n",
        "\n",
        "pcfill=[]\n",
        "for i in range(len(fcc17)):\n",
        "  if fcc17.iloc[i].isna()[2]:\n",
        "    pcfill.append(fcc17.iloc[i].score)\n",
        "  else:\n",
        "    pcfill.append(fcc17.iloc[i].pcat_10x1)\n",
        "fcc17['pcat_10x1']=pcfill"
      ]
    },
    {
      "cell_type": "code",
      "execution_count": null,
      "metadata": {
        "colab": {
          "base_uri": "https://localhost:8080/",
          "height": 204
        },
        "id": "eU4AYTCKqbkp",
        "outputId": "a7f158fe-0805-4ad8-e4ca-8d0a47e35247"
      },
      "outputs": [
        {
          "data": {
            "text/html": [
              "\n",
              "  <div id=\"df-575bb902-8372-441d-bab0-65b3a8d8763e\">\n",
              "    <div class=\"colab-df-container\">\n",
              "      <div>\n",
              "<style scoped>\n",
              "    .dataframe tbody tr th:only-of-type {\n",
              "        vertical-align: middle;\n",
              "    }\n",
              "\n",
              "    .dataframe tbody tr th {\n",
              "        vertical-align: top;\n",
              "    }\n",
              "\n",
              "    .dataframe thead th {\n",
              "        text-align: right;\n",
              "    }\n",
              "</style>\n",
              "<table border=\"1\" class=\"dataframe\">\n",
              "  <thead>\n",
              "    <tr style=\"text-align: right;\">\n",
              "      <th></th>\n",
              "      <th>tractcode</th>\n",
              "      <th>pcat_all</th>\n",
              "      <th>pcat_10x1</th>\n",
              "      <th>tract_fips10</th>\n",
              "      <th>score</th>\n",
              "    </tr>\n",
              "  </thead>\n",
              "  <tbody>\n",
              "    <tr>\n",
              "      <th>0</th>\n",
              "      <td>1.001020e+09</td>\n",
              "      <td>5.0</td>\n",
              "      <td>4.0</td>\n",
              "      <td>1.001020e+09</td>\n",
              "      <td>4.0</td>\n",
              "    </tr>\n",
              "    <tr>\n",
              "      <th>1</th>\n",
              "      <td>1.001020e+09</td>\n",
              "      <td>4.0</td>\n",
              "      <td>4.0</td>\n",
              "      <td>1.001020e+09</td>\n",
              "      <td>4.0</td>\n",
              "    </tr>\n",
              "    <tr>\n",
              "      <th>2</th>\n",
              "      <td>1.001020e+09</td>\n",
              "      <td>5.0</td>\n",
              "      <td>4.0</td>\n",
              "      <td>1.001020e+09</td>\n",
              "      <td>4.0</td>\n",
              "    </tr>\n",
              "    <tr>\n",
              "      <th>3</th>\n",
              "      <td>1.001020e+09</td>\n",
              "      <td>5.0</td>\n",
              "      <td>4.0</td>\n",
              "      <td>1.001020e+09</td>\n",
              "      <td>4.0</td>\n",
              "    </tr>\n",
              "    <tr>\n",
              "      <th>4</th>\n",
              "      <td>1.001020e+09</td>\n",
              "      <td>5.0</td>\n",
              "      <td>5.0</td>\n",
              "      <td>1.001020e+09</td>\n",
              "      <td>5.0</td>\n",
              "    </tr>\n",
              "  </tbody>\n",
              "</table>\n",
              "</div>\n",
              "      <button class=\"colab-df-convert\" onclick=\"convertToInteractive('df-575bb902-8372-441d-bab0-65b3a8d8763e')\"\n",
              "              title=\"Convert this dataframe to an interactive table.\"\n",
              "              style=\"display:none;\">\n",
              "        \n",
              "  <svg xmlns=\"http://www.w3.org/2000/svg\" height=\"24px\"viewBox=\"0 0 24 24\"\n",
              "       width=\"24px\">\n",
              "    <path d=\"M0 0h24v24H0V0z\" fill=\"none\"/>\n",
              "    <path d=\"M18.56 5.44l.94 2.06.94-2.06 2.06-.94-2.06-.94-.94-2.06-.94 2.06-2.06.94zm-11 1L8.5 8.5l.94-2.06 2.06-.94-2.06-.94L8.5 2.5l-.94 2.06-2.06.94zm10 10l.94 2.06.94-2.06 2.06-.94-2.06-.94-.94-2.06-.94 2.06-2.06.94z\"/><path d=\"M17.41 7.96l-1.37-1.37c-.4-.4-.92-.59-1.43-.59-.52 0-1.04.2-1.43.59L10.3 9.45l-7.72 7.72c-.78.78-.78 2.05 0 2.83L4 21.41c.39.39.9.59 1.41.59.51 0 1.02-.2 1.41-.59l7.78-7.78 2.81-2.81c.8-.78.8-2.07 0-2.86zM5.41 20L4 18.59l7.72-7.72 1.47 1.35L5.41 20z\"/>\n",
              "  </svg>\n",
              "      </button>\n",
              "      \n",
              "  <style>\n",
              "    .colab-df-container {\n",
              "      display:flex;\n",
              "      flex-wrap:wrap;\n",
              "      gap: 12px;\n",
              "    }\n",
              "\n",
              "    .colab-df-convert {\n",
              "      background-color: #E8F0FE;\n",
              "      border: none;\n",
              "      border-radius: 50%;\n",
              "      cursor: pointer;\n",
              "      display: none;\n",
              "      fill: #1967D2;\n",
              "      height: 32px;\n",
              "      padding: 0 0 0 0;\n",
              "      width: 32px;\n",
              "    }\n",
              "\n",
              "    .colab-df-convert:hover {\n",
              "      background-color: #E2EBFA;\n",
              "      box-shadow: 0px 1px 2px rgba(60, 64, 67, 0.3), 0px 1px 3px 1px rgba(60, 64, 67, 0.15);\n",
              "      fill: #174EA6;\n",
              "    }\n",
              "\n",
              "    [theme=dark] .colab-df-convert {\n",
              "      background-color: #3B4455;\n",
              "      fill: #D2E3FC;\n",
              "    }\n",
              "\n",
              "    [theme=dark] .colab-df-convert:hover {\n",
              "      background-color: #434B5C;\n",
              "      box-shadow: 0px 1px 3px 1px rgba(0, 0, 0, 0.15);\n",
              "      filter: drop-shadow(0px 1px 2px rgba(0, 0, 0, 0.3));\n",
              "      fill: #FFFFFF;\n",
              "    }\n",
              "  </style>\n",
              "\n",
              "      <script>\n",
              "        const buttonEl =\n",
              "          document.querySelector('#df-575bb902-8372-441d-bab0-65b3a8d8763e button.colab-df-convert');\n",
              "        buttonEl.style.display =\n",
              "          google.colab.kernel.accessAllowed ? 'block' : 'none';\n",
              "\n",
              "        async function convertToInteractive(key) {\n",
              "          const element = document.querySelector('#df-575bb902-8372-441d-bab0-65b3a8d8763e');\n",
              "          const dataTable =\n",
              "            await google.colab.kernel.invokeFunction('convertToInteractive',\n",
              "                                                     [key], {});\n",
              "          if (!dataTable) return;\n",
              "\n",
              "          const docLinkHtml = 'Like what you see? Visit the ' +\n",
              "            '<a target=\"_blank\" href=https://colab.research.google.com/notebooks/data_table.ipynb>data table notebook</a>'\n",
              "            + ' to learn more about interactive tables.';\n",
              "          element.innerHTML = '';\n",
              "          dataTable['output_type'] = 'display_data';\n",
              "          await google.colab.output.renderOutput(dataTable, element);\n",
              "          const docLink = document.createElement('div');\n",
              "          docLink.innerHTML = docLinkHtml;\n",
              "          element.appendChild(docLink);\n",
              "        }\n",
              "      </script>\n",
              "    </div>\n",
              "  </div>\n",
              "  "
            ],
            "text/plain": [
              "      tractcode  pcat_all  pcat_10x1  tract_fips10  score\n",
              "0  1.001020e+09       5.0        4.0  1.001020e+09    4.0\n",
              "1  1.001020e+09       4.0        4.0  1.001020e+09    4.0\n",
              "2  1.001020e+09       5.0        4.0  1.001020e+09    4.0\n",
              "3  1.001020e+09       5.0        4.0  1.001020e+09    4.0\n",
              "4  1.001020e+09       5.0        5.0  1.001020e+09    5.0"
            ]
          },
          "execution_count": 47,
          "metadata": {},
          "output_type": "execute_result"
        }
      ],
      "source": [
        "fcc17.head()"
      ]
    },
    {
      "cell_type": "code",
      "execution_count": null,
      "metadata": {
        "id": "P9CwpAqJsjQ5"
      },
      "outputs": [],
      "source": [
        "# Create a matching key for bband data to eventually merge to the larger dataset\n",
        "key=[]\n",
        "for i in range(len(bband17)):\n",
        "  key.append(int(bband17.iloc[i].GEOID[7:]))\n",
        "bband17['key']=key"
      ]
    },
    {
      "cell_type": "code",
      "execution_count": null,
      "metadata": {
        "id": "1VtU4LGiuRBq"
      },
      "outputs": [],
      "source": [
        "# find how many houses have broadband out of 10\n",
        "bband17['bband_score']=bband17.has_broadband/bband17.households*10"
      ]
    },
    {
      "cell_type": "code",
      "execution_count": null,
      "metadata": {
        "id": "WjjlRvBZwlAh"
      },
      "outputs": [],
      "source": [
        "# Create the same ranking system as used with nanda and fcc\n",
        "b_score=[]\n",
        "for i in range(len(bband17)):\n",
        "  if bband17.iloc[i].bband_score==0:\n",
        "    b_score.append(0)\n",
        "  elif bband17.iloc[i].bband_score<= 2:\n",
        "    b_score.append(1)\n",
        "  elif bband17.iloc[i].bband_score<= 4:\n",
        "    b_score.append(2)\n",
        "  elif bband17.iloc[i].bband_score<= 6:\n",
        "    b_score.append(3)\n",
        "  elif bband17.iloc[i].bband_score<= 8:\n",
        "    b_score.append(4)\n",
        "  elif bband17.iloc[i].bband_score>8:\n",
        "    b_score.append(5)\n",
        "  else:\n",
        "    b_score.append(0)\n",
        "\n",
        "bband17['bband_score']=b_score  "
      ]
    },
    {
      "cell_type": "code",
      "execution_count": null,
      "metadata": {
        "id": "ZEDQYYn2qbkp"
      },
      "outputs": [],
      "source": [
        "# merge them all together, all of them have the same weighting, except for the lag\n",
        "df=df.merge(fcc17[['pcat_10x1','score','tractcode']],left_on='tract_fips',right_on='tractcode')\n",
        "df=df.merge(bband17[['key','bband_score']],left_on='tract_fips',right_on='key')\n",
        "df['score17']=current*(nanda_weight*df.pcat_10x1+nanda_weight*df.score+nanda_weight*df.bband_score)/3+lag*(df.score16)\n",
        "df=df.drop(columns=['pcat_10x1','score','tractcode','key','bband_score'])"
      ]
    },
    {
      "cell_type": "markdown",
      "metadata": {
        "id": "ITpsBXv02x-F"
      },
      "source": [
        "#### 2018 Score"
      ]
    },
    {
      "cell_type": "code",
      "execution_count": null,
      "metadata": {
        "colab": {
          "base_uri": "https://localhost:8080/"
        },
        "id": "5K9HU0S42x-N",
        "outputId": "c0da4b58-8cb4-4690-fdb6-b712b5d86982"
      },
      "outputs": [
        {
          "name": "stderr",
          "output_type": "stream",
          "text": [
            "/usr/local/lib/python3.7/dist-packages/ipykernel_launcher.py:17: SettingWithCopyWarning: \n",
            "A value is trying to be set on a copy of a slice from a DataFrame.\n",
            "Try using .loc[row_indexer,col_indexer] = value instead\n",
            "\n",
            "See the caveats in the documentation: https://pandas.pydata.org/pandas-docs/stable/user_guide/indexing.html#returning-a-view-versus-a-copy\n"
          ]
        }
      ],
      "source": [
        "# 2018 score calculated same as 2017\n",
        "n_score=[]\n",
        "for i in range(len(nanda_18)):\n",
        "  if nanda_18.iloc[i].rfhsc_per_1000_hhs_10_1=='Zero':\n",
        "    n_score.append(0)\n",
        "  elif nanda_18.iloc[i].rfhsc_per_1000_hhs_10_1=='Zero < x <= 200':\n",
        "    n_score.append(1)\n",
        "  elif nanda_18.iloc[i].rfhsc_per_1000_hhs_10_1=='200 < x <= 400':\n",
        "    n_score.append(2)\n",
        "  elif nanda_18.iloc[i].rfhsc_per_1000_hhs_10_1=='400 < x <= 600':\n",
        "    n_score.append(3)\n",
        "  elif nanda_18.iloc[i].rfhsc_per_1000_hhs_10_1=='600 < x <= 800':\n",
        "    n_score.append(4)\n",
        "  elif nanda_18.iloc[i].rfhsc_per_1000_hhs_10_1=='800 < x':\n",
        "    n_score.append(5)\n",
        "\n",
        "nanda_18['score']=n_score  "
      ]
    },
    {
      "cell_type": "code",
      "execution_count": null,
      "metadata": {
        "id": "6dY9wX4Q2x-O"
      },
      "outputs": [],
      "source": [
        "fcc18=fcc18.merge(nanda_18[['tract_fips10','score']],how='outer',left_on='tractcode',right_on='tract_fips10')\n",
        "fips=[]\n",
        "for i in range(len(fcc18)):\n",
        "  if fcc18.iloc[i].isna()[0]:\n",
        "    fips.append(fcc18.iloc[i].tract_fips10)\n",
        "  else:\n",
        "    fips.append(fcc18.iloc[i].tractcode)\n",
        "fcc18['tractcode']=fips"
      ]
    },
    {
      "cell_type": "code",
      "execution_count": null,
      "metadata": {
        "id": "rgtzaVTA2x-O"
      },
      "outputs": [],
      "source": [
        "sfill=[]\n",
        "for i in range(len(fcc18)):\n",
        "  if fcc18.iloc[i].isna()[4]:\n",
        "    sfill.append(fcc18.iloc[i].pcat_10x1)\n",
        "  else:\n",
        "    sfill.append(fcc18.iloc[i].score)\n",
        "fcc18['score']=sfill\n",
        "\n",
        "pcfill=[]\n",
        "for i in range(len(fcc18)):\n",
        "  if fcc18.iloc[i].isna()[2]:\n",
        "    pcfill.append(fcc18.iloc[i].score)\n",
        "  else:\n",
        "    pcfill.append(fcc18.iloc[i].pcat_10x1)\n",
        "fcc18['pcat_10x1']=pcfill"
      ]
    },
    {
      "cell_type": "code",
      "execution_count": null,
      "metadata": {
        "colab": {
          "base_uri": "https://localhost:8080/",
          "height": 268
        },
        "id": "NUT9W-JD2x-O",
        "outputId": "398a7b43-63a2-4bb5-d7a9-d536aeae619f"
      },
      "outputs": [
        {
          "data": {
            "text/html": [
              "\n",
              "  <div id=\"df-42e30e1d-e591-4ff9-b1f7-215d6c1778ac\">\n",
              "    <div class=\"colab-df-container\">\n",
              "      <div>\n",
              "<style scoped>\n",
              "    .dataframe tbody tr th:only-of-type {\n",
              "        vertical-align: middle;\n",
              "    }\n",
              "\n",
              "    .dataframe tbody tr th {\n",
              "        vertical-align: top;\n",
              "    }\n",
              "\n",
              "    .dataframe thead th {\n",
              "        text-align: right;\n",
              "    }\n",
              "</style>\n",
              "<table border=\"1\" class=\"dataframe\">\n",
              "  <thead>\n",
              "    <tr style=\"text-align: right;\">\n",
              "      <th></th>\n",
              "      <th>tractcode</th>\n",
              "      <th>pcat_all</th>\n",
              "      <th>pcat_10x1</th>\n",
              "      <th>tract_fips10</th>\n",
              "      <th>score</th>\n",
              "    </tr>\n",
              "  </thead>\n",
              "  <tbody>\n",
              "    <tr>\n",
              "      <th>0</th>\n",
              "      <td>1.001020e+09</td>\n",
              "      <td>4.0</td>\n",
              "      <td>4.0</td>\n",
              "      <td>1.001020e+09</td>\n",
              "      <td>4.0</td>\n",
              "    </tr>\n",
              "    <tr>\n",
              "      <th>1</th>\n",
              "      <td>1.001020e+09</td>\n",
              "      <td>4.0</td>\n",
              "      <td>4.0</td>\n",
              "      <td>1.001020e+09</td>\n",
              "      <td>4.0</td>\n",
              "    </tr>\n",
              "    <tr>\n",
              "      <th>2</th>\n",
              "      <td>1.001020e+09</td>\n",
              "      <td>4.0</td>\n",
              "      <td>4.0</td>\n",
              "      <td>1.001020e+09</td>\n",
              "      <td>4.0</td>\n",
              "    </tr>\n",
              "    <tr>\n",
              "      <th>3</th>\n",
              "      <td>1.001020e+09</td>\n",
              "      <td>5.0</td>\n",
              "      <td>5.0</td>\n",
              "      <td>1.001020e+09</td>\n",
              "      <td>4.0</td>\n",
              "    </tr>\n",
              "    <tr>\n",
              "      <th>4</th>\n",
              "      <td>1.001020e+09</td>\n",
              "      <td>5.0</td>\n",
              "      <td>5.0</td>\n",
              "      <td>1.001020e+09</td>\n",
              "      <td>5.0</td>\n",
              "    </tr>\n",
              "  </tbody>\n",
              "</table>\n",
              "</div>\n",
              "      <button class=\"colab-df-convert\" onclick=\"convertToInteractive('df-42e30e1d-e591-4ff9-b1f7-215d6c1778ac')\"\n",
              "              title=\"Convert this dataframe to an interactive table.\"\n",
              "              style=\"display:none;\">\n",
              "        \n",
              "  <svg xmlns=\"http://www.w3.org/2000/svg\" height=\"24px\"viewBox=\"0 0 24 24\"\n",
              "       width=\"24px\">\n",
              "    <path d=\"M0 0h24v24H0V0z\" fill=\"none\"/>\n",
              "    <path d=\"M18.56 5.44l.94 2.06.94-2.06 2.06-.94-2.06-.94-.94-2.06-.94 2.06-2.06.94zm-11 1L8.5 8.5l.94-2.06 2.06-.94-2.06-.94L8.5 2.5l-.94 2.06-2.06.94zm10 10l.94 2.06.94-2.06 2.06-.94-2.06-.94-.94-2.06-.94 2.06-2.06.94z\"/><path d=\"M17.41 7.96l-1.37-1.37c-.4-.4-.92-.59-1.43-.59-.52 0-1.04.2-1.43.59L10.3 9.45l-7.72 7.72c-.78.78-.78 2.05 0 2.83L4 21.41c.39.39.9.59 1.41.59.51 0 1.02-.2 1.41-.59l7.78-7.78 2.81-2.81c.8-.78.8-2.07 0-2.86zM5.41 20L4 18.59l7.72-7.72 1.47 1.35L5.41 20z\"/>\n",
              "  </svg>\n",
              "      </button>\n",
              "      \n",
              "  <style>\n",
              "    .colab-df-container {\n",
              "      display:flex;\n",
              "      flex-wrap:wrap;\n",
              "      gap: 12px;\n",
              "    }\n",
              "\n",
              "    .colab-df-convert {\n",
              "      background-color: #E8F0FE;\n",
              "      border: none;\n",
              "      border-radius: 50%;\n",
              "      cursor: pointer;\n",
              "      display: none;\n",
              "      fill: #1967D2;\n",
              "      height: 32px;\n",
              "      padding: 0 0 0 0;\n",
              "      width: 32px;\n",
              "    }\n",
              "\n",
              "    .colab-df-convert:hover {\n",
              "      background-color: #E2EBFA;\n",
              "      box-shadow: 0px 1px 2px rgba(60, 64, 67, 0.3), 0px 1px 3px 1px rgba(60, 64, 67, 0.15);\n",
              "      fill: #174EA6;\n",
              "    }\n",
              "\n",
              "    [theme=dark] .colab-df-convert {\n",
              "      background-color: #3B4455;\n",
              "      fill: #D2E3FC;\n",
              "    }\n",
              "\n",
              "    [theme=dark] .colab-df-convert:hover {\n",
              "      background-color: #434B5C;\n",
              "      box-shadow: 0px 1px 3px 1px rgba(0, 0, 0, 0.15);\n",
              "      filter: drop-shadow(0px 1px 2px rgba(0, 0, 0, 0.3));\n",
              "      fill: #FFFFFF;\n",
              "    }\n",
              "  </style>\n",
              "\n",
              "      <script>\n",
              "        const buttonEl =\n",
              "          document.querySelector('#df-42e30e1d-e591-4ff9-b1f7-215d6c1778ac button.colab-df-convert');\n",
              "        buttonEl.style.display =\n",
              "          google.colab.kernel.accessAllowed ? 'block' : 'none';\n",
              "\n",
              "        async function convertToInteractive(key) {\n",
              "          const element = document.querySelector('#df-42e30e1d-e591-4ff9-b1f7-215d6c1778ac');\n",
              "          const dataTable =\n",
              "            await google.colab.kernel.invokeFunction('convertToInteractive',\n",
              "                                                     [key], {});\n",
              "          if (!dataTable) return;\n",
              "\n",
              "          const docLinkHtml = 'Like what you see? Visit the ' +\n",
              "            '<a target=\"_blank\" href=https://colab.research.google.com/notebooks/data_table.ipynb>data table notebook</a>'\n",
              "            + ' to learn more about interactive tables.';\n",
              "          element.innerHTML = '';\n",
              "          dataTable['output_type'] = 'display_data';\n",
              "          await google.colab.output.renderOutput(dataTable, element);\n",
              "          const docLink = document.createElement('div');\n",
              "          docLink.innerHTML = docLinkHtml;\n",
              "          element.appendChild(docLink);\n",
              "        }\n",
              "      </script>\n",
              "    </div>\n",
              "  </div>\n",
              "  "
            ],
            "text/plain": [
              "      tractcode  pcat_all  pcat_10x1  tract_fips10  score\n",
              "0  1.001020e+09       4.0        4.0  1.001020e+09    4.0\n",
              "1  1.001020e+09       4.0        4.0  1.001020e+09    4.0\n",
              "2  1.001020e+09       4.0        4.0  1.001020e+09    4.0\n",
              "3  1.001020e+09       5.0        5.0  1.001020e+09    4.0\n",
              "4  1.001020e+09       5.0        5.0  1.001020e+09    5.0"
            ]
          },
          "execution_count": 55,
          "metadata": {},
          "output_type": "execute_result"
        }
      ],
      "source": [
        "fcc18.head()"
      ]
    },
    {
      "cell_type": "code",
      "execution_count": null,
      "metadata": {
        "id": "-yp2jfUt2x-O"
      },
      "outputs": [],
      "source": [
        "key=[]\n",
        "for i in range(len(bband18)):\n",
        "  key.append(int(bband18.iloc[i].GEOID[7:]))\n",
        "bband18['key']=key"
      ]
    },
    {
      "cell_type": "code",
      "execution_count": null,
      "metadata": {
        "id": "FH6Yx91k2x-O"
      },
      "outputs": [],
      "source": [
        "bband18['bband_score']=bband18.has_broadband/bband18.households*10"
      ]
    },
    {
      "cell_type": "code",
      "execution_count": null,
      "metadata": {
        "id": "CR-3odxf2x-O"
      },
      "outputs": [],
      "source": [
        "b_score=[]\n",
        "for i in range(len(bband18)):\n",
        "  if bband18.iloc[i].bband_score==0:\n",
        "    b_score.append(0)\n",
        "  elif bband18.iloc[i].bband_score<= 2:\n",
        "    b_score.append(1)\n",
        "  elif bband18.iloc[i].bband_score<= 4:\n",
        "    b_score.append(2)\n",
        "  elif bband18.iloc[i].bband_score<= 6:\n",
        "    b_score.append(3)\n",
        "  elif bband18.iloc[i].bband_score<= 8:\n",
        "    b_score.append(4)\n",
        "  elif bband18.iloc[i].bband_score>8:\n",
        "    b_score.append(5)\n",
        "  else:\n",
        "    b_score.append(0)\n",
        "\n",
        "bband18['bband_score']=b_score  "
      ]
    },
    {
      "cell_type": "code",
      "execution_count": null,
      "metadata": {
        "id": "sBNs1M6Y2x-P"
      },
      "outputs": [],
      "source": [
        "df=df.merge(fcc18[['pcat_10x1','score','tractcode']],left_on='tract_fips',right_on='tractcode')\n",
        "df=df.merge(bband18[['key','bband_score']],left_on='tract_fips',right_on='key')\n",
        "df['score18']=current*(nanda_weight*df.pcat_10x1+nanda_weight*df.score+nanda_weight*df.bband_score)/3+lag*(df.score17)\n",
        "df=df.drop(columns=['pcat_10x1','score','tractcode','key','bband_score'])"
      ]
    },
    {
      "cell_type": "markdown",
      "metadata": {
        "id": "1Z0ncUze4pOx"
      },
      "source": [
        "#### 2019 Score"
      ]
    },
    {
      "cell_type": "code",
      "execution_count": null,
      "metadata": {
        "colab": {
          "base_uri": "https://localhost:8080/",
          "height": 268
        },
        "id": "t-ZPdRLH4pOz",
        "outputId": "4a0afd87-41ff-4372-9023-03d95feecb43"
      },
      "outputs": [
        {
          "data": {
            "text/html": [
              "\n",
              "  <div id=\"df-6888eaa3-3ec2-4e02-93be-0072f3e224b3\">\n",
              "    <div class=\"colab-df-container\">\n",
              "      <div>\n",
              "<style scoped>\n",
              "    .dataframe tbody tr th:only-of-type {\n",
              "        vertical-align: middle;\n",
              "    }\n",
              "\n",
              "    .dataframe tbody tr th {\n",
              "        vertical-align: top;\n",
              "    }\n",
              "\n",
              "    .dataframe thead th {\n",
              "        text-align: right;\n",
              "    }\n",
              "</style>\n",
              "<table border=\"1\" class=\"dataframe\">\n",
              "  <thead>\n",
              "    <tr style=\"text-align: right;\">\n",
              "      <th></th>\n",
              "      <th>tractcode</th>\n",
              "      <th>pcat_all</th>\n",
              "      <th>pcat_10x1</th>\n",
              "    </tr>\n",
              "  </thead>\n",
              "  <tbody>\n",
              "    <tr>\n",
              "      <th>0</th>\n",
              "      <td>1001020100</td>\n",
              "      <td>4</td>\n",
              "      <td>4</td>\n",
              "    </tr>\n",
              "    <tr>\n",
              "      <th>1</th>\n",
              "      <td>1001020200</td>\n",
              "      <td>5</td>\n",
              "      <td>4</td>\n",
              "    </tr>\n",
              "    <tr>\n",
              "      <th>2</th>\n",
              "      <td>1001020300</td>\n",
              "      <td>4</td>\n",
              "      <td>4</td>\n",
              "    </tr>\n",
              "    <tr>\n",
              "      <th>3</th>\n",
              "      <td>1001020400</td>\n",
              "      <td>5</td>\n",
              "      <td>5</td>\n",
              "    </tr>\n",
              "    <tr>\n",
              "      <th>4</th>\n",
              "      <td>1001020500</td>\n",
              "      <td>5</td>\n",
              "      <td>5</td>\n",
              "    </tr>\n",
              "  </tbody>\n",
              "</table>\n",
              "</div>\n",
              "      <button class=\"colab-df-convert\" onclick=\"convertToInteractive('df-6888eaa3-3ec2-4e02-93be-0072f3e224b3')\"\n",
              "              title=\"Convert this dataframe to an interactive table.\"\n",
              "              style=\"display:none;\">\n",
              "        \n",
              "  <svg xmlns=\"http://www.w3.org/2000/svg\" height=\"24px\"viewBox=\"0 0 24 24\"\n",
              "       width=\"24px\">\n",
              "    <path d=\"M0 0h24v24H0V0z\" fill=\"none\"/>\n",
              "    <path d=\"M18.56 5.44l.94 2.06.94-2.06 2.06-.94-2.06-.94-.94-2.06-.94 2.06-2.06.94zm-11 1L8.5 8.5l.94-2.06 2.06-.94-2.06-.94L8.5 2.5l-.94 2.06-2.06.94zm10 10l.94 2.06.94-2.06 2.06-.94-2.06-.94-.94-2.06-.94 2.06-2.06.94z\"/><path d=\"M17.41 7.96l-1.37-1.37c-.4-.4-.92-.59-1.43-.59-.52 0-1.04.2-1.43.59L10.3 9.45l-7.72 7.72c-.78.78-.78 2.05 0 2.83L4 21.41c.39.39.9.59 1.41.59.51 0 1.02-.2 1.41-.59l7.78-7.78 2.81-2.81c.8-.78.8-2.07 0-2.86zM5.41 20L4 18.59l7.72-7.72 1.47 1.35L5.41 20z\"/>\n",
              "  </svg>\n",
              "      </button>\n",
              "      \n",
              "  <style>\n",
              "    .colab-df-container {\n",
              "      display:flex;\n",
              "      flex-wrap:wrap;\n",
              "      gap: 12px;\n",
              "    }\n",
              "\n",
              "    .colab-df-convert {\n",
              "      background-color: #E8F0FE;\n",
              "      border: none;\n",
              "      border-radius: 50%;\n",
              "      cursor: pointer;\n",
              "      display: none;\n",
              "      fill: #1967D2;\n",
              "      height: 32px;\n",
              "      padding: 0 0 0 0;\n",
              "      width: 32px;\n",
              "    }\n",
              "\n",
              "    .colab-df-convert:hover {\n",
              "      background-color: #E2EBFA;\n",
              "      box-shadow: 0px 1px 2px rgba(60, 64, 67, 0.3), 0px 1px 3px 1px rgba(60, 64, 67, 0.15);\n",
              "      fill: #174EA6;\n",
              "    }\n",
              "\n",
              "    [theme=dark] .colab-df-convert {\n",
              "      background-color: #3B4455;\n",
              "      fill: #D2E3FC;\n",
              "    }\n",
              "\n",
              "    [theme=dark] .colab-df-convert:hover {\n",
              "      background-color: #434B5C;\n",
              "      box-shadow: 0px 1px 3px 1px rgba(0, 0, 0, 0.15);\n",
              "      filter: drop-shadow(0px 1px 2px rgba(0, 0, 0, 0.3));\n",
              "      fill: #FFFFFF;\n",
              "    }\n",
              "  </style>\n",
              "\n",
              "      <script>\n",
              "        const buttonEl =\n",
              "          document.querySelector('#df-6888eaa3-3ec2-4e02-93be-0072f3e224b3 button.colab-df-convert');\n",
              "        buttonEl.style.display =\n",
              "          google.colab.kernel.accessAllowed ? 'block' : 'none';\n",
              "\n",
              "        async function convertToInteractive(key) {\n",
              "          const element = document.querySelector('#df-6888eaa3-3ec2-4e02-93be-0072f3e224b3');\n",
              "          const dataTable =\n",
              "            await google.colab.kernel.invokeFunction('convertToInteractive',\n",
              "                                                     [key], {});\n",
              "          if (!dataTable) return;\n",
              "\n",
              "          const docLinkHtml = 'Like what you see? Visit the ' +\n",
              "            '<a target=\"_blank\" href=https://colab.research.google.com/notebooks/data_table.ipynb>data table notebook</a>'\n",
              "            + ' to learn more about interactive tables.';\n",
              "          element.innerHTML = '';\n",
              "          dataTable['output_type'] = 'display_data';\n",
              "          await google.colab.output.renderOutput(dataTable, element);\n",
              "          const docLink = document.createElement('div');\n",
              "          docLink.innerHTML = docLinkHtml;\n",
              "          element.appendChild(docLink);\n",
              "        }\n",
              "      </script>\n",
              "    </div>\n",
              "  </div>\n",
              "  "
            ],
            "text/plain": [
              "    tractcode  pcat_all  pcat_10x1\n",
              "0  1001020100         4          4\n",
              "1  1001020200         5          4\n",
              "2  1001020300         4          4\n",
              "3  1001020400         5          5\n",
              "4  1001020500         5          5"
            ]
          },
          "execution_count": 60,
          "metadata": {},
          "output_type": "execute_result"
        }
      ],
      "source": [
        "fcc19.head()"
      ]
    },
    {
      "cell_type": "code",
      "execution_count": null,
      "metadata": {
        "id": "3VPktDRJ4pOz"
      },
      "outputs": [],
      "source": [
        "key=[]\n",
        "for i in range(len(bband19)):\n",
        "  key.append(int(bband19.iloc[i].GEOID[7:]))\n",
        "bband19['key']=key"
      ]
    },
    {
      "cell_type": "code",
      "execution_count": null,
      "metadata": {
        "id": "NPhAINx74pOz"
      },
      "outputs": [],
      "source": [
        "bband19['bband_score']=bband19.has_broadband/bband19.households*10"
      ]
    },
    {
      "cell_type": "code",
      "execution_count": null,
      "metadata": {
        "id": "WuO7jgqd4pOz"
      },
      "outputs": [],
      "source": [
        "b_score=[]\n",
        "for i in range(len(bband19)):\n",
        "  if bband19.iloc[i].bband_score==0:\n",
        "    b_score.append(0)\n",
        "  elif bband19.iloc[i].bband_score<= 200:\n",
        "    b_score.append(1)\n",
        "  elif bband19.iloc[i].bband_score<= 400:\n",
        "    b_score.append(2)\n",
        "  elif bband19.iloc[i].bband_score<= 600:\n",
        "    b_score.append(3)\n",
        "  elif bband19.iloc[i].bband_score<= 800:\n",
        "    b_score.append(4)\n",
        "  elif bband19.iloc[i].bband_score>800:\n",
        "    b_score.append(5)\n",
        "  else:\n",
        "    b_score.append(0)\n",
        "\n",
        "bband19['bband_score']=b_score  "
      ]
    },
    {
      "cell_type": "code",
      "execution_count": null,
      "metadata": {
        "id": "4l9_cVs_4pOz"
      },
      "outputs": [],
      "source": [
        "df=df.merge(fcc19[['pcat_10x1','tractcode']],left_on='tract_fips',right_on='tractcode')\n",
        "df=df.merge(bband19[['key','bband_score']],left_on='tract_fips',right_on='key')\n",
        "df['score19']=current*(nanda_weight*df.pcat_10x1+nanda_weight*df.bband_score)/2+lag*(df.score18)\n",
        "df=df.drop(columns=['pcat_10x1','tractcode','key','bband_score'])"
      ]
    },
    {
      "cell_type": "code",
      "execution_count": null,
      "metadata": {
        "colab": {
          "base_uri": "https://localhost:8080/",
          "height": 209
        },
        "id": "_njfQbWn4pOz",
        "outputId": "8c12c320-ed35-4da2-d08f-3826b66ba6f9"
      },
      "outputs": [
        {
          "data": {
            "text/html": [
              "\n",
              "  <div id=\"df-f524e614-fca8-4f79-b5fb-a2c44e7eb396\">\n",
              "    <div class=\"colab-df-container\">\n",
              "      <div>\n",
              "<style scoped>\n",
              "    .dataframe tbody tr th:only-of-type {\n",
              "        vertical-align: middle;\n",
              "    }\n",
              "\n",
              "    .dataframe tbody tr th {\n",
              "        vertical-align: top;\n",
              "    }\n",
              "\n",
              "    .dataframe thead th {\n",
              "        text-align: right;\n",
              "    }\n",
              "</style>\n",
              "<table border=\"1\" class=\"dataframe\">\n",
              "  <thead>\n",
              "    <tr style=\"text-align: right;\">\n",
              "      <th></th>\n",
              "      <th>tract_fips</th>\n",
              "      <th>state</th>\n",
              "      <th>county</th>\n",
              "      <th>tract</th>\n",
              "      <th>statename</th>\n",
              "      <th>countyname</th>\n",
              "      <th>score11</th>\n",
              "      <th>score12</th>\n",
              "      <th>score13</th>\n",
              "      <th>score14</th>\n",
              "      <th>score15</th>\n",
              "      <th>score16</th>\n",
              "      <th>score17</th>\n",
              "      <th>score18</th>\n",
              "      <th>score19</th>\n",
              "    </tr>\n",
              "  </thead>\n",
              "  <tbody>\n",
              "    <tr>\n",
              "      <th>0</th>\n",
              "      <td>1001020100</td>\n",
              "      <td>1</td>\n",
              "      <td>1</td>\n",
              "      <td>20100</td>\n",
              "      <td>Alabama</td>\n",
              "      <td>Autauga County</td>\n",
              "      <td>4.5</td>\n",
              "      <td>6.75</td>\n",
              "      <td>7.3125</td>\n",
              "      <td>7.078125</td>\n",
              "      <td>7.769531</td>\n",
              "      <td>7.942383</td>\n",
              "      <td>7.985596</td>\n",
              "      <td>7.996399</td>\n",
              "      <td>5.749100</td>\n",
              "    </tr>\n",
              "    <tr>\n",
              "      <th>1</th>\n",
              "      <td>1001020200</td>\n",
              "      <td>1</td>\n",
              "      <td>1</td>\n",
              "      <td>20200</td>\n",
              "      <td>Alabama</td>\n",
              "      <td>Autauga County</td>\n",
              "      <td>4.5</td>\n",
              "      <td>4.50</td>\n",
              "      <td>4.5000</td>\n",
              "      <td>5.062500</td>\n",
              "      <td>5.765625</td>\n",
              "      <td>7.441406</td>\n",
              "      <td>7.860352</td>\n",
              "      <td>7.965088</td>\n",
              "      <td>5.741272</td>\n",
              "    </tr>\n",
              "  </tbody>\n",
              "</table>\n",
              "</div>\n",
              "      <button class=\"colab-df-convert\" onclick=\"convertToInteractive('df-f524e614-fca8-4f79-b5fb-a2c44e7eb396')\"\n",
              "              title=\"Convert this dataframe to an interactive table.\"\n",
              "              style=\"display:none;\">\n",
              "        \n",
              "  <svg xmlns=\"http://www.w3.org/2000/svg\" height=\"24px\"viewBox=\"0 0 24 24\"\n",
              "       width=\"24px\">\n",
              "    <path d=\"M0 0h24v24H0V0z\" fill=\"none\"/>\n",
              "    <path d=\"M18.56 5.44l.94 2.06.94-2.06 2.06-.94-2.06-.94-.94-2.06-.94 2.06-2.06.94zm-11 1L8.5 8.5l.94-2.06 2.06-.94-2.06-.94L8.5 2.5l-.94 2.06-2.06.94zm10 10l.94 2.06.94-2.06 2.06-.94-2.06-.94-.94-2.06-.94 2.06-2.06.94z\"/><path d=\"M17.41 7.96l-1.37-1.37c-.4-.4-.92-.59-1.43-.59-.52 0-1.04.2-1.43.59L10.3 9.45l-7.72 7.72c-.78.78-.78 2.05 0 2.83L4 21.41c.39.39.9.59 1.41.59.51 0 1.02-.2 1.41-.59l7.78-7.78 2.81-2.81c.8-.78.8-2.07 0-2.86zM5.41 20L4 18.59l7.72-7.72 1.47 1.35L5.41 20z\"/>\n",
              "  </svg>\n",
              "      </button>\n",
              "      \n",
              "  <style>\n",
              "    .colab-df-container {\n",
              "      display:flex;\n",
              "      flex-wrap:wrap;\n",
              "      gap: 12px;\n",
              "    }\n",
              "\n",
              "    .colab-df-convert {\n",
              "      background-color: #E8F0FE;\n",
              "      border: none;\n",
              "      border-radius: 50%;\n",
              "      cursor: pointer;\n",
              "      display: none;\n",
              "      fill: #1967D2;\n",
              "      height: 32px;\n",
              "      padding: 0 0 0 0;\n",
              "      width: 32px;\n",
              "    }\n",
              "\n",
              "    .colab-df-convert:hover {\n",
              "      background-color: #E2EBFA;\n",
              "      box-shadow: 0px 1px 2px rgba(60, 64, 67, 0.3), 0px 1px 3px 1px rgba(60, 64, 67, 0.15);\n",
              "      fill: #174EA6;\n",
              "    }\n",
              "\n",
              "    [theme=dark] .colab-df-convert {\n",
              "      background-color: #3B4455;\n",
              "      fill: #D2E3FC;\n",
              "    }\n",
              "\n",
              "    [theme=dark] .colab-df-convert:hover {\n",
              "      background-color: #434B5C;\n",
              "      box-shadow: 0px 1px 3px 1px rgba(0, 0, 0, 0.15);\n",
              "      filter: drop-shadow(0px 1px 2px rgba(0, 0, 0, 0.3));\n",
              "      fill: #FFFFFF;\n",
              "    }\n",
              "  </style>\n",
              "\n",
              "      <script>\n",
              "        const buttonEl =\n",
              "          document.querySelector('#df-f524e614-fca8-4f79-b5fb-a2c44e7eb396 button.colab-df-convert');\n",
              "        buttonEl.style.display =\n",
              "          google.colab.kernel.accessAllowed ? 'block' : 'none';\n",
              "\n",
              "        async function convertToInteractive(key) {\n",
              "          const element = document.querySelector('#df-f524e614-fca8-4f79-b5fb-a2c44e7eb396');\n",
              "          const dataTable =\n",
              "            await google.colab.kernel.invokeFunction('convertToInteractive',\n",
              "                                                     [key], {});\n",
              "          if (!dataTable) return;\n",
              "\n",
              "          const docLinkHtml = 'Like what you see? Visit the ' +\n",
              "            '<a target=\"_blank\" href=https://colab.research.google.com/notebooks/data_table.ipynb>data table notebook</a>'\n",
              "            + ' to learn more about interactive tables.';\n",
              "          element.innerHTML = '';\n",
              "          dataTable['output_type'] = 'display_data';\n",
              "          await google.colab.output.renderOutput(dataTable, element);\n",
              "          const docLink = document.createElement('div');\n",
              "          docLink.innerHTML = docLinkHtml;\n",
              "          element.appendChild(docLink);\n",
              "        }\n",
              "      </script>\n",
              "    </div>\n",
              "  </div>\n",
              "  "
            ],
            "text/plain": [
              "   tract_fips  state  county  tract statename      countyname  score11  \\\n",
              "0  1001020100      1       1  20100   Alabama  Autauga County      4.5   \n",
              "1  1001020200      1       1  20200   Alabama  Autauga County      4.5   \n",
              "\n",
              "   score12  score13   score14   score15   score16   score17   score18  \\\n",
              "0     6.75   7.3125  7.078125  7.769531  7.942383  7.985596  7.996399   \n",
              "1     4.50   4.5000  5.062500  5.765625  7.441406  7.860352  7.965088   \n",
              "\n",
              "    score19  \n",
              "0  5.749100  \n",
              "1  5.741272  "
            ]
          },
          "execution_count": 65,
          "metadata": {},
          "output_type": "execute_result"
        }
      ],
      "source": [
        "df.head(2)"
      ]
    },
    {
      "cell_type": "markdown",
      "metadata": {
        "id": "muHAkzCBEqZR"
      },
      "source": [
        "## Create New Dataset for Comparison"
      ]
    },
    {
      "cell_type": "code",
      "execution_count": null,
      "metadata": {
        "colab": {
          "base_uri": "https://localhost:8080/",
          "height": 282
        },
        "id": "biDCmeGA6pWf",
        "outputId": "2a37c904-2747-4010-fe23-f6b536ffa808"
      },
      "outputs": [
        {
          "data": {
            "text/plain": [
              "[<matplotlib.lines.Line2D at 0x7f5c7235ff50>]"
            ]
          },
          "execution_count": 66,
          "metadata": {},
          "output_type": "execute_result"
        },
        {
          "data": {
            "image/png": "[encoded data removed]",
            "text/plain": [
              "<Figure size 432x288 with 1 Axes>"
            ]
          },
          "metadata": {
            "needs_background": "light"
          },
          "output_type": "display_data"
        }
      ],
      "source": [
        "# Examine what the general trend looks like\n",
        "means=[df.score11.mean(),df.score12.mean(),df.score13.mean(),df.score14.mean(),\n",
        "       df.score15.mean(),df.score16.mean(),df.score17.mean(),df.score18.mean(),\n",
        "       df.score19.mean()]\n",
        "plt.plot(means)"
      ]
    },
    {
      "cell_type": "code",
      "execution_count": null,
      "metadata": {
        "id": "NxaI-jFIDvHk"
      },
      "outputs": [],
      "source": [
        "#standardize to mitigate effects of discontinuities\n",
        "df['2011']=(df.score11-df.score11.mean())/df.score11.std()\n",
        "df['2012']=(df.score12-df.score12.mean())/df.score12.std()\n",
        "df['2013']=(df.score13-df.score13.mean())/df.score13.std()\n",
        "df['2014']=(df.score14-df.score14.mean())/df.score14.std()\n",
        "df['2015']=(df.score15-df.score15.mean())/df.score15.std()\n",
        "df['2016']=(df.score16-df.score16.mean())/df.score16.std()\n",
        "df['2017']=(df.score17-df.score17.mean())/df.score17.std()\n",
        "df['2018']=(df.score18-df.score18.mean())/df.score18.std()\n",
        "df['2019']=(df.score19-df.score19.mean())/df.score19.std()"
      ]
    },
    {
      "cell_type": "code",
      "execution_count": null,
      "metadata": {
        "colab": {
          "base_uri": "https://localhost:8080/"
        },
        "id": "Mk5OhAaXWACK",
        "outputId": "652324e6-aced-4133-8e8f-373e50a8e3eb"
      },
      "outputs": [
        {
          "data": {
            "text/plain": [
              "Index(['tract_fips', 'state', 'county', 'tract', 'statename', 'countyname',\n",
              "       'score11', 'score12', 'score13', 'score14', 'score15', 'score16',\n",
              "       'score17', 'score18', 'score19', '2011', '2012', '2013', '2014', '2015',\n",
              "       '2016', '2017', '2018', '2019'],\n",
              "      dtype='object')"
            ]
          },
          "execution_count": 68,
          "metadata": {},
          "output_type": "execute_result"
        }
      ],
      "source": [
        "df.columns"
      ]
    },
    {
      "cell_type": "code",
      "execution_count": null,
      "metadata": {
        "id": "kFqIfcBkX_Wb"
      },
      "outputs": [],
      "source": [
        "# Keep just standardized scores\n",
        "df2=df[['tract_fips', 'state', 'county', 'tract', 'statename', 'countyname',\n",
        "        '2011', '2012', '2013','2014', '2015', '2016', '2017', '2018', '2019']]"
      ]
    },
    {
      "cell_type": "code",
      "execution_count": null,
      "metadata": {
        "id": "qg8qmGifYQdg"
      },
      "outputs": [],
      "source": [
        "# Make a column for the year of each score, create new column called \"normalized score\"\n",
        "df_comp=df2.melt(id_vars=['tract_fips', 'state', 'county', 'tract', 'statename', 'countyname'],\n",
        "         var_name='year',value_name='normalized_score')"
      ]
    },
    {
      "cell_type": "code",
      "execution_count": null,
      "metadata": {
        "id": "APD5fXS9ZuY6"
      },
      "outputs": [],
      "source": [
        "# Attach a column of the normalized score one year before\n",
        "df_comp['lag1_diff']=df_comp[['normalized_score']].diff(periods=len(df2), axis=0)"
      ]
    },
    {
      "cell_type": "code",
      "execution_count": null,
      "metadata": {
        "id": "zBOdRLWIaUHK"
      },
      "outputs": [],
      "source": [
        "# Attach a column of the normalized score two year before\n",
        "df_comp['lag2_diff']=df_comp[['normalized_score']].diff(periods=2*len(df2), axis=0)"
      ]
    },
    {
      "cell_type": "code",
      "execution_count": null,
      "metadata": {
        "id": "iXRIpKOlatdU"
      },
      "outputs": [],
      "source": [
        "# Attach a column of the normalized score three year before\n",
        "df_comp['lag3_diff']=df_comp[['normalized_score']].diff(periods=3*len(df2), axis=0)"
      ]
    },
    {
      "cell_type": "code",
      "execution_count": null,
      "metadata": {
        "colab": {
          "base_uri": "https://localhost:8080/",
          "height": 155
        },
        "id": "Mz4VvdgHbWUT",
        "outputId": "24dc49ac-4620-43b7-d247-ba4c2afff968"
      },
      "outputs": [
        {
          "data": {
            "text/html": [
              "\n",
              "  <div id=\"df-ee7bb6e2-7edb-4af8-90aa-bbe6f8e0b6b2\">\n",
              "    <div class=\"colab-df-container\">\n",
              "      <div>\n",
              "<style scoped>\n",
              "    .dataframe tbody tr th:only-of-type {\n",
              "        vertical-align: middle;\n",
              "    }\n",
              "\n",
              "    .dataframe tbody tr th {\n",
              "        vertical-align: top;\n",
              "    }\n",
              "\n",
              "    .dataframe thead th {\n",
              "        text-align: right;\n",
              "    }\n",
              "</style>\n",
              "<table border=\"1\" class=\"dataframe\">\n",
              "  <thead>\n",
              "    <tr style=\"text-align: right;\">\n",
              "      <th></th>\n",
              "      <th>tract_fips</th>\n",
              "      <th>state</th>\n",
              "      <th>county</th>\n",
              "      <th>tract</th>\n",
              "      <th>statename</th>\n",
              "      <th>countyname</th>\n",
              "      <th>year</th>\n",
              "      <th>normalized_score</th>\n",
              "      <th>lag1_diff</th>\n",
              "      <th>lag2_diff</th>\n",
              "      <th>lag3_diff</th>\n",
              "    </tr>\n",
              "  </thead>\n",
              "  <tbody>\n",
              "    <tr>\n",
              "      <th>0</th>\n",
              "      <td>1001020100</td>\n",
              "      <td>1</td>\n",
              "      <td>1</td>\n",
              "      <td>20100</td>\n",
              "      <td>Alabama</td>\n",
              "      <td>Autauga County</td>\n",
              "      <td>2011</td>\n",
              "      <td>0.452813</td>\n",
              "      <td>NaN</td>\n",
              "      <td>NaN</td>\n",
              "      <td>NaN</td>\n",
              "    </tr>\n",
              "    <tr>\n",
              "      <th>1</th>\n",
              "      <td>1001020200</td>\n",
              "      <td>1</td>\n",
              "      <td>1</td>\n",
              "      <td>20200</td>\n",
              "      <td>Alabama</td>\n",
              "      <td>Autauga County</td>\n",
              "      <td>2011</td>\n",
              "      <td>0.452813</td>\n",
              "      <td>NaN</td>\n",
              "      <td>NaN</td>\n",
              "      <td>NaN</td>\n",
              "    </tr>\n",
              "  </tbody>\n",
              "</table>\n",
              "</div>\n",
              "      <button class=\"colab-df-convert\" onclick=\"convertToInteractive('df-ee7bb6e2-7edb-4af8-90aa-bbe6f8e0b6b2')\"\n",
              "              title=\"Convert this dataframe to an interactive table.\"\n",
              "              style=\"display:none;\">\n",
              "        \n",
              "  <svg xmlns=\"http://www.w3.org/2000/svg\" height=\"24px\"viewBox=\"0 0 24 24\"\n",
              "       width=\"24px\">\n",
              "    <path d=\"M0 0h24v24H0V0z\" fill=\"none\"/>\n",
              "    <path d=\"M18.56 5.44l.94 2.06.94-2.06 2.06-.94-2.06-.94-.94-2.06-.94 2.06-2.06.94zm-11 1L8.5 8.5l.94-2.06 2.06-.94-2.06-.94L8.5 2.5l-.94 2.06-2.06.94zm10 10l.94 2.06.94-2.06 2.06-.94-2.06-.94-.94-2.06-.94 2.06-2.06.94z\"/><path d=\"M17.41 7.96l-1.37-1.37c-.4-.4-.92-.59-1.43-.59-.52 0-1.04.2-1.43.59L10.3 9.45l-7.72 7.72c-.78.78-.78 2.05 0 2.83L4 21.41c.39.39.9.59 1.41.59.51 0 1.02-.2 1.41-.59l7.78-7.78 2.81-2.81c.8-.78.8-2.07 0-2.86zM5.41 20L4 18.59l7.72-7.72 1.47 1.35L5.41 20z\"/>\n",
              "  </svg>\n",
              "      </button>\n",
              "      \n",
              "  <style>\n",
              "    .colab-df-container {\n",
              "      display:flex;\n",
              "      flex-wrap:wrap;\n",
              "      gap: 12px;\n",
              "    }\n",
              "\n",
              "    .colab-df-convert {\n",
              "      background-color: #E8F0FE;\n",
              "      border: none;\n",
              "      border-radius: 50%;\n",
              "      cursor: pointer;\n",
              "      display: none;\n",
              "      fill: #1967D2;\n",
              "      height: 32px;\n",
              "      padding: 0 0 0 0;\n",
              "      width: 32px;\n",
              "    }\n",
              "\n",
              "    .colab-df-convert:hover {\n",
              "      background-color: #E2EBFA;\n",
              "      box-shadow: 0px 1px 2px rgba(60, 64, 67, 0.3), 0px 1px 3px 1px rgba(60, 64, 67, 0.15);\n",
              "      fill: #174EA6;\n",
              "    }\n",
              "\n",
              "    [theme=dark] .colab-df-convert {\n",
              "      background-color: #3B4455;\n",
              "      fill: #D2E3FC;\n",
              "    }\n",
              "\n",
              "    [theme=dark] .colab-df-convert:hover {\n",
              "      background-color: #434B5C;\n",
              "      box-shadow: 0px 1px 3px 1px rgba(0, 0, 0, 0.15);\n",
              "      filter: drop-shadow(0px 1px 2px rgba(0, 0, 0, 0.3));\n",
              "      fill: #FFFFFF;\n",
              "    }\n",
              "  </style>\n",
              "\n",
              "      <script>\n",
              "        const buttonEl =\n",
              "          document.querySelector('#df-ee7bb6e2-7edb-4af8-90aa-bbe6f8e0b6b2 button.colab-df-convert');\n",
              "        buttonEl.style.display =\n",
              "          google.colab.kernel.accessAllowed ? 'block' : 'none';\n",
              "\n",
              "        async function convertToInteractive(key) {\n",
              "          const element = document.querySelector('#df-ee7bb6e2-7edb-4af8-90aa-bbe6f8e0b6b2');\n",
              "          const dataTable =\n",
              "            await google.colab.kernel.invokeFunction('convertToInteractive',\n",
              "                                                     [key], {});\n",
              "          if (!dataTable) return;\n",
              "\n",
              "          const docLinkHtml = 'Like what you see? Visit the ' +\n",
              "            '<a target=\"_blank\" href=https://colab.research.google.com/notebooks/data_table.ipynb>data table notebook</a>'\n",
              "            + ' to learn more about interactive tables.';\n",
              "          element.innerHTML = '';\n",
              "          dataTable['output_type'] = 'display_data';\n",
              "          await google.colab.output.renderOutput(dataTable, element);\n",
              "          const docLink = document.createElement('div');\n",
              "          docLink.innerHTML = docLinkHtml;\n",
              "          element.appendChild(docLink);\n",
              "        }\n",
              "      </script>\n",
              "    </div>\n",
              "  </div>\n",
              "  "
            ],
            "text/plain": [
              "   tract_fips  state  county  tract statename      countyname  year  \\\n",
              "0  1001020100      1       1  20100   Alabama  Autauga County  2011   \n",
              "1  1001020200      1       1  20200   Alabama  Autauga County  2011   \n",
              "\n",
              "   normalized_score  lag1_diff  lag2_diff  lag3_diff  \n",
              "0          0.452813        NaN        NaN        NaN  \n",
              "1          0.452813        NaN        NaN        NaN  "
            ]
          },
          "execution_count": 74,
          "metadata": {},
          "output_type": "execute_result"
        }
      ],
      "source": [
        "df_comp.head(2)"
      ]
    },
    {
      "cell_type": "code",
      "execution_count": null,
      "metadata": {
        "id": "D8yBhd-feQqr"
      },
      "outputs": [],
      "source": [
        "df_comp.to_csv('processed data/bband_score.csv')"
      ]
    }
  ],
  "metadata": {
    "colab": {
      "collapsed_sections": [
        "J-bmJ7Ini7yP",
        "E7SgKrwqjITh",
        "wiEXzgH6jeg1",
        "x3F9ls1AjhpC",
        "Bejc2M8HjiOI",
        "qJUTxShkjiwv",
        "Lj6XX8q4G5IR",
        "S8qnErRDG-w5",
        "rn-4H8nPkqFP",
        "Gqe_n_b2J8fN",
        "AeimWY0fKJpU",
        "_d1L3UlKLY2L",
        "Q08SbUMyoNel",
        "ITpsBXv02x-F",
        "1Z0ncUze4pOx"
      ],
      "name": "01_Broadband_Score.ipynb",
      "provenance": []
    },
    "kernelspec": {
      "display_name": "Python 3 (ipykernel)",
      "language": "python",
      "name": "python3"
    },
    "language_info": {
      "codemirror_mode": {
        "name": "ipython",
        "version": 3
      },
      "file_extension": ".py",
      "mimetype": "text/x-python",
      "name": "python",
      "nbconvert_exporter": "python",
      "pygments_lexer": "ipython3",
      "version": "3.10.4"
    }
  },
  "nbformat": 4,
  "nbformat_minor": 0
}
