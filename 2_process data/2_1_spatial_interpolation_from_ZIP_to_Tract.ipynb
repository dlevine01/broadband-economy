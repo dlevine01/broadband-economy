{
  "cells": [
    {
      "cell_type": "markdown",
      "metadata": {
        "id": "uGjgQlCckXEO"
      },
      "source": [
        "## set environment"
      ]
    },
    {
      "cell_type": "code",
      "execution_count": 2,
      "metadata": {
        "colab": {
          "base_uri": "https://localhost:8080/"
        },
        "id": "xnXHoxt_EsGd",
        "outputId": "05271710-cf7c-4658-c11e-d1d537af22d2"
      },
      "outputs": [
        {
          "name": "stdout",
          "output_type": "stream",
          "text": [
            "\u001b[K     |████████████████████████████████| 1.0 MB 5.4 MB/s \n",
            "\u001b[K     |████████████████████████████████| 2.4 MB 34.8 MB/s \n",
            "\u001b[K     |████████████████████████████████| 2.1 MB 20.6 MB/s \n",
            "\u001b[K     |████████████████████████████████| 16.7 MB 332 kB/s \n",
            "\u001b[K     |████████████████████████████████| 6.3 MB 7.8 MB/s \n",
            "\u001b[K     |████████████████████████████████| 19.3 MB 378 kB/s \n",
            "\u001b[K     |████████████████████████████████| 1.6 MB 36.6 MB/s \n",
            "\u001b[K     |████████████████████████████████| 130 kB 46.3 MB/s \n",
            "\u001b[?25h"
          ]
        }
      ],
      "source": [
        "pip install geopandas libpysal tobler pygeos watermark -q"
      ]
    },
    {
      "cell_type": "code",
      "execution_count": null,
      "metadata": {
        "id": "xR1lOF5BEuWF"
      },
      "outputs": [],
      "source": [
        "import pandas as pd\n",
        "import numpy as np\n",
        "import geopandas as gpd\n",
        "from tobler.area_weighted import area_interpolate\n",
        "from libpysal.weights import Queen"
      ]
    },
    {
      "cell_type": "code",
      "execution_count": 4,
      "metadata": {
        "colab": {
          "base_uri": "https://localhost:8080/"
        },
        "id": "gszM8-oKJ_Bz",
        "outputId": "1f218ea3-4535-4dde-bc92-29cd2dea0213"
      },
      "outputs": [
        {
          "name": "stdout",
          "output_type": "stream",
          "text": [
            "Author: Dan Levine\n",
            "\n",
            "Last updated: 2022-08-22\n",
            "\n",
            "Python implementation: CPython\n",
            "Python version       : 3.7.13\n",
            "IPython version      : 7.9.0\n",
            "\n",
            "pandas   : 1.3.5\n",
            "geopandas: 0.10.2\n",
            "numpy    : 1.21.6\n",
            "\n"
          ]
        }
      ],
      "source": [
        "%reload_ext watermark\n",
        "%watermark -iv -a 'Dan Levine' -u -d -v"
      ]
    },
    {
      "cell_type": "markdown",
      "metadata": {
        "id": "NPUH1F5JpMJH"
      },
      "source": [
        "## read in data"
      ]
    },
    {
      "cell_type": "code",
      "execution_count": null,
      "metadata": {
        "id": "tblAga5ErJeX"
      },
      "outputs": [],
      "source": [
        "zip_geom = gpd.read_file('raw data/ZIPs.zip')"
      ]
    },
    {
      "cell_type": "code",
      "execution_count": null,
      "metadata": {
        "id": "-3K88OtUBtGf"
      },
      "outputs": [],
      "source": [
        "tracts_geom = gpd.read_file('raw data/tracts_clipped.zip')"
      ]
    },
    {
      "cell_type": "code",
      "execution_count": null,
      "metadata": {
        "id": "GwcSm7YbNzwf"
      },
      "outputs": [],
      "source": [
        "tracts_geom['GEOID'] = pd.to_numeric(tracts_geom['GEOID'])"
      ]
    },
    {
      "cell_type": "code",
      "execution_count": null,
      "metadata": {
        "id": "Oh8pBQM7IoUX"
      },
      "outputs": [],
      "source": [
        "broadband_now_data = pd.read_csv('raw data/broadband_now.csv', encoding = \"ISO-8859-1\")"
      ]
    },
    {
      "cell_type": "code",
      "execution_count": null,
      "metadata": {
        "id": "49sFQpaDpONZ"
      },
      "outputs": [],
      "source": [
        "microsoft_data = pd.read_csv('raw data/microsoft_broadband_usage_zip.csv')"
      ]
    },
    {
      "cell_type": "code",
      "execution_count": null,
      "metadata": {
        "id": "SKprGh0bjaZY"
      },
      "outputs": [],
      "source": [
        "microsoft_data = microsoft_data.drop_duplicates(subset='POSTAL CODE')"
      ]
    },
    {
      "cell_type": "code",
      "execution_count": null,
      "metadata": {
        "colab": {
          "base_uri": "https://localhost:8080/",
          "height": 424
        },
        "id": "Zltl0RkovpqB",
        "outputId": "edc19ae7-9c84-4a32-a8b8-52b820a7e13d"
      },
      "outputs": [
        {
          "data": {
            "text/html": [
              "\n",
              "  <div id=\"df-1df3d8bc-a0dd-4c2a-b8ad-fc502d15f3b7\">\n",
              "    <div class=\"colab-df-container\">\n",
              "      <div>\n",
              "<style scoped>\n",
              "    .dataframe tbody tr th:only-of-type {\n",
              "        vertical-align: middle;\n",
              "    }\n",
              "\n",
              "    .dataframe tbody tr th {\n",
              "        vertical-align: top;\n",
              "    }\n",
              "\n",
              "    .dataframe thead th {\n",
              "        text-align: right;\n",
              "    }\n",
              "</style>\n",
              "<table border=\"1\" class=\"dataframe\">\n",
              "  <thead>\n",
              "    <tr style=\"text-align: right;\">\n",
              "      <th></th>\n",
              "      <th>ST</th>\n",
              "      <th>COUNTY NAME</th>\n",
              "      <th>COUNTY ID</th>\n",
              "      <th>POSTAL CODE</th>\n",
              "      <th>BROADBAND USAGE</th>\n",
              "      <th>ERROR RANGE (MAE)(+/-)</th>\n",
              "      <th>ERROR RANGE (95%)(+/-)</th>\n",
              "      <th>MSD</th>\n",
              "    </tr>\n",
              "  </thead>\n",
              "  <tbody>\n",
              "    <tr>\n",
              "      <th>0</th>\n",
              "      <td>SC</td>\n",
              "      <td>Abbeville</td>\n",
              "      <td>45001</td>\n",
              "      <td>29639</td>\n",
              "      <td>0.948</td>\n",
              "      <td>0.034</td>\n",
              "      <td>0.110</td>\n",
              "      <td>0.002</td>\n",
              "    </tr>\n",
              "    <tr>\n",
              "      <th>1</th>\n",
              "      <td>SC</td>\n",
              "      <td>Abbeville</td>\n",
              "      <td>45001</td>\n",
              "      <td>29620</td>\n",
              "      <td>0.398</td>\n",
              "      <td>0.002</td>\n",
              "      <td>0.007</td>\n",
              "      <td>0.000</td>\n",
              "    </tr>\n",
              "    <tr>\n",
              "      <th>2</th>\n",
              "      <td>SC</td>\n",
              "      <td>Abbeville</td>\n",
              "      <td>45001</td>\n",
              "      <td>29659</td>\n",
              "      <td>0.206</td>\n",
              "      <td>0.152</td>\n",
              "      <td>0.608</td>\n",
              "      <td>0.043</td>\n",
              "    </tr>\n",
              "    <tr>\n",
              "      <th>3</th>\n",
              "      <td>SC</td>\n",
              "      <td>Abbeville</td>\n",
              "      <td>45001</td>\n",
              "      <td>29638</td>\n",
              "      <td>0.369</td>\n",
              "      <td>0.010</td>\n",
              "      <td>0.031</td>\n",
              "      <td>-0.001</td>\n",
              "    </tr>\n",
              "    <tr>\n",
              "      <th>4</th>\n",
              "      <td>SC</td>\n",
              "      <td>Abbeville</td>\n",
              "      <td>45001</td>\n",
              "      <td>29628</td>\n",
              "      <td>0.221</td>\n",
              "      <td>0.014</td>\n",
              "      <td>0.043</td>\n",
              "      <td>0.000</td>\n",
              "    </tr>\n",
              "    <tr>\n",
              "      <th>...</th>\n",
              "      <td>...</td>\n",
              "      <td>...</td>\n",
              "      <td>...</td>\n",
              "      <td>...</td>\n",
              "      <td>...</td>\n",
              "      <td>...</td>\n",
              "      <td>...</td>\n",
              "      <td>...</td>\n",
              "    </tr>\n",
              "    <tr>\n",
              "      <th>32730</th>\n",
              "      <td>TX</td>\n",
              "      <td>Zavala</td>\n",
              "      <td>48507</td>\n",
              "      <td>78839</td>\n",
              "      <td>0.514</td>\n",
              "      <td>0.006</td>\n",
              "      <td>0.018</td>\n",
              "      <td>-0.001</td>\n",
              "    </tr>\n",
              "    <tr>\n",
              "      <th>32731</th>\n",
              "      <td>TX</td>\n",
              "      <td>Zavala</td>\n",
              "      <td>48507</td>\n",
              "      <td>78872</td>\n",
              "      <td>0.071</td>\n",
              "      <td>0.020</td>\n",
              "      <td>0.061</td>\n",
              "      <td>0.000</td>\n",
              "    </tr>\n",
              "    <tr>\n",
              "      <th>32732</th>\n",
              "      <td>SD</td>\n",
              "      <td>Ziebach</td>\n",
              "      <td>46137</td>\n",
              "      <td>57622</td>\n",
              "      <td>0.000</td>\n",
              "      <td>0.110</td>\n",
              "      <td>0.406</td>\n",
              "      <td>0.031</td>\n",
              "    </tr>\n",
              "    <tr>\n",
              "      <th>32733</th>\n",
              "      <td>SD</td>\n",
              "      <td>Ziebach</td>\n",
              "      <td>46137</td>\n",
              "      <td>57748</td>\n",
              "      <td>0.000</td>\n",
              "      <td>0.065</td>\n",
              "      <td>0.228</td>\n",
              "      <td>0.013</td>\n",
              "    </tr>\n",
              "    <tr>\n",
              "      <th>32734</th>\n",
              "      <td>SD</td>\n",
              "      <td>Ziebach</td>\n",
              "      <td>46137</td>\n",
              "      <td>57623</td>\n",
              "      <td>0.299</td>\n",
              "      <td>0.034</td>\n",
              "      <td>0.110</td>\n",
              "      <td>0.002</td>\n",
              "    </tr>\n",
              "  </tbody>\n",
              "</table>\n",
              "<p>32653 rows × 8 columns</p>\n",
              "</div>\n",
              "      <button class=\"colab-df-convert\" onclick=\"convertToInteractive('df-1df3d8bc-a0dd-4c2a-b8ad-fc502d15f3b7')\"\n",
              "              title=\"Convert this dataframe to an interactive table.\"\n",
              "              style=\"display:none;\">\n",
              "        \n",
              "  <svg xmlns=\"http://www.w3.org/2000/svg\" height=\"24px\"viewBox=\"0 0 24 24\"\n",
              "       width=\"24px\">\n",
              "    <path d=\"M0 0h24v24H0V0z\" fill=\"none\"/>\n",
              "    <path d=\"M18.56 5.44l.94 2.06.94-2.06 2.06-.94-2.06-.94-.94-2.06-.94 2.06-2.06.94zm-11 1L8.5 8.5l.94-2.06 2.06-.94-2.06-.94L8.5 2.5l-.94 2.06-2.06.94zm10 10l.94 2.06.94-2.06 2.06-.94-2.06-.94-.94-2.06-.94 2.06-2.06.94z\"/><path d=\"M17.41 7.96l-1.37-1.37c-.4-.4-.92-.59-1.43-.59-.52 0-1.04.2-1.43.59L10.3 9.45l-7.72 7.72c-.78.78-.78 2.05 0 2.83L4 21.41c.39.39.9.59 1.41.59.51 0 1.02-.2 1.41-.59l7.78-7.78 2.81-2.81c.8-.78.8-2.07 0-2.86zM5.41 20L4 18.59l7.72-7.72 1.47 1.35L5.41 20z\"/>\n",
              "  </svg>\n",
              "      </button>\n",
              "      \n",
              "  <style>\n",
              "    .colab-df-container {\n",
              "      display:flex;\n",
              "      flex-wrap:wrap;\n",
              "      gap: 12px;\n",
              "    }\n",
              "\n",
              "    .colab-df-convert {\n",
              "      background-color: #E8F0FE;\n",
              "      border: none;\n",
              "      border-radius: 50%;\n",
              "      cursor: pointer;\n",
              "      display: none;\n",
              "      fill: #1967D2;\n",
              "      height: 32px;\n",
              "      padding: 0 0 0 0;\n",
              "      width: 32px;\n",
              "    }\n",
              "\n",
              "    .colab-df-convert:hover {\n",
              "      background-color: #E2EBFA;\n",
              "      box-shadow: 0px 1px 2px rgba(60, 64, 67, 0.3), 0px 1px 3px 1px rgba(60, 64, 67, 0.15);\n",
              "      fill: #174EA6;\n",
              "    }\n",
              "\n",
              "    [theme=dark] .colab-df-convert {\n",
              "      background-color: #3B4455;\n",
              "      fill: #D2E3FC;\n",
              "    }\n",
              "\n",
              "    [theme=dark] .colab-df-convert:hover {\n",
              "      background-color: #434B5C;\n",
              "      box-shadow: 0px 1px 3px 1px rgba(0, 0, 0, 0.15);\n",
              "      filter: drop-shadow(0px 1px 2px rgba(0, 0, 0, 0.3));\n",
              "      fill: #FFFFFF;\n",
              "    }\n",
              "  </style>\n",
              "\n",
              "      <script>\n",
              "        const buttonEl =\n",
              "          document.querySelector('#df-1df3d8bc-a0dd-4c2a-b8ad-fc502d15f3b7 button.colab-df-convert');\n",
              "        buttonEl.style.display =\n",
              "          google.colab.kernel.accessAllowed ? 'block' : 'none';\n",
              "\n",
              "        async function convertToInteractive(key) {\n",
              "          const element = document.querySelector('#df-1df3d8bc-a0dd-4c2a-b8ad-fc502d15f3b7');\n",
              "          const dataTable =\n",
              "            await google.colab.kernel.invokeFunction('convertToInteractive',\n",
              "                                                     [key], {});\n",
              "          if (!dataTable) return;\n",
              "\n",
              "          const docLinkHtml = 'Like what you see? Visit the ' +\n",
              "            '<a target=\"_blank\" href=https://colab.research.google.com/notebooks/data_table.ipynb>data table notebook</a>'\n",
              "            + ' to learn more about interactive tables.';\n",
              "          element.innerHTML = '';\n",
              "          dataTable['output_type'] = 'display_data';\n",
              "          await google.colab.output.renderOutput(dataTable, element);\n",
              "          const docLink = document.createElement('div');\n",
              "          docLink.innerHTML = docLinkHtml;\n",
              "          element.appendChild(docLink);\n",
              "        }\n",
              "      </script>\n",
              "    </div>\n",
              "  </div>\n",
              "  "
            ],
            "text/plain": [
              "       ST COUNTY NAME  COUNTY ID  POSTAL CODE  BROADBAND USAGE  \\\n",
              "0      SC   Abbeville      45001        29639            0.948   \n",
              "1      SC   Abbeville      45001        29620            0.398   \n",
              "2      SC   Abbeville      45001        29659            0.206   \n",
              "3      SC   Abbeville      45001        29638            0.369   \n",
              "4      SC   Abbeville      45001        29628            0.221   \n",
              "...    ..         ...        ...          ...              ...   \n",
              "32730  TX      Zavala      48507        78839            0.514   \n",
              "32731  TX      Zavala      48507        78872            0.071   \n",
              "32732  SD     Ziebach      46137        57622            0.000   \n",
              "32733  SD     Ziebach      46137        57748            0.000   \n",
              "32734  SD     Ziebach      46137        57623            0.299   \n",
              "\n",
              "       ERROR RANGE (MAE)(+/-)  ERROR RANGE (95%)(+/-)    MSD  \n",
              "0                       0.034                   0.110  0.002  \n",
              "1                       0.002                   0.007  0.000  \n",
              "2                       0.152                   0.608  0.043  \n",
              "3                       0.010                   0.031 -0.001  \n",
              "4                       0.014                   0.043  0.000  \n",
              "...                       ...                     ...    ...  \n",
              "32730                   0.006                   0.018 -0.001  \n",
              "32731                   0.020                   0.061  0.000  \n",
              "32732                   0.110                   0.406  0.031  \n",
              "32733                   0.065                   0.228  0.013  \n",
              "32734                   0.034                   0.110  0.002  \n",
              "\n",
              "[32653 rows x 8 columns]"
            ]
          },
          "execution_count": 19,
          "metadata": {},
          "output_type": "execute_result"
        }
      ],
      "source": [
        "microsoft_data"
      ]
    },
    {
      "cell_type": "markdown",
      "metadata": {
        "id": "6SkMGgAMFRbU"
      },
      "source": [
        "## merge ZIP-level data"
      ]
    },
    {
      "cell_type": "code",
      "execution_count": null,
      "metadata": {
        "id": "Wqp283JvwOkz"
      },
      "outputs": [],
      "source": [
        "zip_geom = zip_geom.rename(columns={'GEOID10':'ZIP'})"
      ]
    },
    {
      "cell_type": "code",
      "execution_count": null,
      "metadata": {
        "id": "uS_iFyD0uaGj"
      },
      "outputs": [],
      "source": [
        "zip_geom['ZIP'] = zip_geom['ZIP'].astype(int)"
      ]
    },
    {
      "cell_type": "code",
      "execution_count": null,
      "metadata": {
        "colab": {
          "base_uri": "https://localhost:8080/"
        },
        "id": "Ah9q8SG0hQGb",
        "outputId": "f9f0d24b-43a6-46a8-af60-3b6a5bd1d2da"
      },
      "outputs": [
        {
          "data": {
            "text/plain": [
              "False"
            ]
          },
          "execution_count": 22,
          "metadata": {},
          "output_type": "execute_result"
        }
      ],
      "source": [
        "zip_geom['ZIP'].duplicated().any()"
      ]
    },
    {
      "cell_type": "code",
      "execution_count": null,
      "metadata": {
        "id": "Q1H5fgopt6xc"
      },
      "outputs": [],
      "source": [
        "zip_data = zip_geom.merge(broadband_now_data, left_on='ZIP', right_on='Zip', how='left', validate='1:1')"
      ]
    },
    {
      "cell_type": "code",
      "execution_count": null,
      "metadata": {
        "id": "5jpHsG-sv-7w"
      },
      "outputs": [],
      "source": [
        "zip_data = zip_data.merge(microsoft_data, left_on='ZIP', right_on='POSTAL CODE', how='left', validate='1:1')"
      ]
    },
    {
      "cell_type": "code",
      "execution_count": null,
      "metadata": {
        "id": "b_B9rXRVwZAQ"
      },
      "outputs": [],
      "source": [
        "zip_data = zip_data.drop(['Zip', 'POSTAL CODE'], axis=1)"
      ]
    },
    {
      "cell_type": "code",
      "execution_count": null,
      "metadata": {
        "colab": {
          "base_uri": "https://localhost:8080/"
        },
        "id": "kn_T0j0Nv0Yb",
        "outputId": "68b22cb9-d03f-4824-a0e5-1d5b175d87ee"
      },
      "outputs": [
        {
          "data": {
            "text/plain": [
              "Index(['ZCTA5CE10', 'ZIP', 'CLASSFP10', 'MTFCC10', 'FUNCSTAT10', 'ALAND10',\n",
              "       'AWATER10', 'INTPTLAT10', 'INTPTLON10', 'geometry', 'Population',\n",
              "       'County', 'State', 'WiredCount_2020', 'Fwcount_2020',\n",
              "       'AllProviderCount_2020', 'Wired25_3_2020', 'Wired100_3_2020',\n",
              "       'All25_3_2020', 'All100_3', 'TestCount', 'AverageMbps',\n",
              "       'FastestAverageMbps', '%Access to Terrestrial Broadband',\n",
              "       'Lowest Priced Terrestrial Broadband Plan', 'WiredCount_2015',\n",
              "       'Fwcount_2015', 'AllProviderCount_2015', 'Wired25_3_2015',\n",
              "       'Wired100_3_2015', 'All25_3_2015', 'All100_3.1', 'ST', 'COUNTY NAME',\n",
              "       'COUNTY ID', 'BROADBAND USAGE', 'ERROR RANGE (MAE)(+/-)',\n",
              "       'ERROR RANGE (95%)(+/-)', 'MSD'],\n",
              "      dtype='object')"
            ]
          },
          "execution_count": 26,
          "metadata": {},
          "output_type": "execute_result"
        }
      ],
      "source": [
        "zip_data.columns"
      ]
    },
    {
      "cell_type": "code",
      "execution_count": null,
      "metadata": {
        "colab": {
          "base_uri": "https://localhost:8080/"
        },
        "id": "IlL-aeQurtS4",
        "outputId": "d079ea3e-3921-474a-ae35-7e64dfbee690"
      },
      "outputs": [
        {
          "data": {
            "text/plain": [
              "ZCTA5CE10                                   False\n",
              "ZIP                                         False\n",
              "CLASSFP10                                   False\n",
              "MTFCC10                                     False\n",
              "FUNCSTAT10                                  False\n",
              "ALAND10                                     False\n",
              "AWATER10                                    False\n",
              "INTPTLAT10                                  False\n",
              "INTPTLON10                                  False\n",
              "geometry                                    False\n",
              "Population                                   True\n",
              "County                                       True\n",
              "State                                        True\n",
              "WiredCount_2020                              True\n",
              "Fwcount_2020                                 True\n",
              "AllProviderCount_2020                        True\n",
              "Wired25_3_2020                               True\n",
              "Wired100_3_2020                              True\n",
              "All25_3_2020                                 True\n",
              "All100_3                                     True\n",
              "TestCount                                    True\n",
              "AverageMbps                                  True\n",
              "FastestAverageMbps                           True\n",
              "%Access to Terrestrial Broadband             True\n",
              "Lowest Priced Terrestrial Broadband Plan     True\n",
              "WiredCount_2015                              True\n",
              "Fwcount_2015                                 True\n",
              "AllProviderCount_2015                        True\n",
              "Wired25_3_2015                               True\n",
              "Wired100_3_2015                              True\n",
              "All25_3_2015                                 True\n",
              "All100_3.1                                   True\n",
              "ST                                           True\n",
              "COUNTY NAME                                  True\n",
              "COUNTY ID                                    True\n",
              "BROADBAND USAGE                              True\n",
              "ERROR RANGE (MAE)(+/-)                       True\n",
              "ERROR RANGE (95%)(+/-)                       True\n",
              "MSD                                          True\n",
              "dtype: bool"
            ]
          },
          "execution_count": 27,
          "metadata": {},
          "output_type": "execute_result"
        }
      ],
      "source": [
        "zip_data.isna().any()"
      ]
    },
    {
      "cell_type": "markdown",
      "metadata": {
        "id": "A3fceJBwaFXH"
      },
      "source": [
        "#### check and fill NaN"
      ]
    },
    {
      "cell_type": "code",
      "execution_count": null,
      "metadata": {
        "colab": {
          "base_uri": "https://localhost:8080/"
        },
        "id": "D1TLbIQZpS5y",
        "outputId": "a59030dc-8bae-4b39-bc25-0f874f1bd474"
      },
      "outputs": [
        {
          "data": {
            "text/plain": [
              "<matplotlib.axes._subplots.AxesSubplot at 0x7f97bb1df1d0>"
            ]
          },
          "execution_count": 28,
          "metadata": {},
          "output_type": "execute_result"
        },
        {
          "data": {
            "image/png": "[encoded data removed]",
            "text/plain": [
              "<Figure size 432x288 with 1 Axes>"
            ]
          },
          "metadata": {
            "needs_background": "light"
          },
          "output_type": "display_data"
        }
      ],
      "source": [
        "zip_data[(zip_data['AverageMbps'].isna())| (zip_data['FastestAverageMbps'].isna())].plot()"
      ]
    },
    {
      "cell_type": "code",
      "execution_count": null,
      "metadata": {
        "id": "bZtdlI-C4nhh"
      },
      "outputs": [],
      "source": []
    },
    {
      "cell_type": "markdown",
      "metadata": {
        "id": "6j05raJVpND9"
      },
      "source": [
        "filling based on neighbors became intractable. \n",
        "NaN values are where there are fewer tests. Assume this means they are on the lower side of speed also. so fill with first quartile speed. (This is a somewhat arbitrary assumption. It affects 11% of rows but will be somewhat smoothed by the spatial resampling/interpolation)\n",
        "\n"
      ]
    },
    {
      "cell_type": "code",
      "execution_count": null,
      "metadata": {
        "colab": {
          "base_uri": "https://localhost:8080/"
        },
        "id": "eJvptbsHnfE0",
        "outputId": "b50c3abf-76f0-4059-bcce-a7926fc53398"
      },
      "outputs": [
        {
          "data": {
            "text/plain": [
              "count    26368.000000\n",
              "mean        54.349508\n",
              "std         50.247723\n",
              "min          0.000000\n",
              "25%         14.160000\n",
              "50%         43.910000\n",
              "75%         82.552500\n",
              "max       2289.330000\n",
              "Name: AverageMbps, dtype: float64"
            ]
          },
          "execution_count": 29,
          "metadata": {},
          "output_type": "execute_result"
        }
      ],
      "source": [
        "zip_data['AverageMbps'].describe()"
      ]
    },
    {
      "cell_type": "code",
      "execution_count": null,
      "metadata": {
        "colab": {
          "base_uri": "https://localhost:8080/"
        },
        "id": "BQNJRp9Nn8Wr",
        "outputId": "3fed84f1-e5ff-4c7b-b16b-226cae90f3ff"
      },
      "outputs": [
        {
          "data": {
            "text/plain": [
              "count    26368.000000\n",
              "mean       134.514536\n",
              "std        128.442304\n",
              "min          0.000000\n",
              "25%         30.650000\n",
              "50%        102.750000\n",
              "75%        216.857500\n",
              "max       6802.470000\n",
              "Name: FastestAverageMbps, dtype: float64"
            ]
          },
          "execution_count": 30,
          "metadata": {},
          "output_type": "execute_result"
        }
      ],
      "source": [
        "zip_data['FastestAverageMbps'].describe()"
      ]
    },
    {
      "cell_type": "code",
      "execution_count": null,
      "metadata": {
        "id": "gEI-6OM7oIpu"
      },
      "outputs": [],
      "source": [
        "average_speed_first_quartile = zip_data['AverageMbps'].quantile(0.25)"
      ]
    },
    {
      "cell_type": "code",
      "execution_count": null,
      "metadata": {
        "id": "KTusNTfQob7x"
      },
      "outputs": [],
      "source": [
        "average_fastest_speed_first_quartile = zip_data['FastestAverageMbps'].quantile(0.25)"
      ]
    },
    {
      "cell_type": "code",
      "execution_count": null,
      "metadata": {
        "id": "yqVdw3QpaE6g"
      },
      "outputs": [],
      "source": [
        "zip_data['AverageMbps'] = zip_data['AverageMbps'].fillna(average_speed_first_quartile)"
      ]
    },
    {
      "cell_type": "code",
      "execution_count": null,
      "metadata": {
        "id": "SZcjuYzLo5Hs"
      },
      "outputs": [],
      "source": [
        "zip_data['FastestAverageMbps'] = zip_data['FastestAverageMbps'].fillna(average_fastest_speed_first_quartile)"
      ]
    },
    {
      "cell_type": "markdown",
      "metadata": {
        "id": "f7ZvS5vzFNee"
      },
      "source": [
        "## spatial interpolation"
      ]
    },
    {
      "cell_type": "markdown",
      "metadata": {
        "id": "qb3fk1hMxgGn"
      },
      "source": [
        "#### reproject"
      ]
    },
    {
      "cell_type": "code",
      "execution_count": null,
      "metadata": {
        "id": "0f4o0vk3xhmn"
      },
      "outputs": [],
      "source": [
        "# Equal Earth Americas\n",
        "projection = 'EPSG:8858'"
      ]
    },
    {
      "cell_type": "code",
      "execution_count": null,
      "metadata": {
        "id": "Gad3otv9x4tV"
      },
      "outputs": [],
      "source": [
        "zip_data = zip_data.to_crs(projection)\n",
        "tracts_geom = tracts_geom.to_crs(projection)"
      ]
    },
    {
      "cell_type": "markdown",
      "metadata": {
        "id": "m1-JLiFDSQWa"
      },
      "source": [
        "#### interpolate"
      ]
    },
    {
      "cell_type": "code",
      "execution_count": null,
      "metadata": {
        "colab": {
          "base_uri": "https://localhost:8080/"
        },
        "id": "3Ff3ERRSuxIf",
        "outputId": "6209a5e1-d19d-4ad9-9d0f-cb7d5ae06480"
      },
      "outputs": [
        {
          "name": "stderr",
          "output_type": "stream",
          "text": [
            "/usr/local/lib/python3.7/dist-packages/tobler/util/util.py:32: UserWarning: nan values in variable: TestCount, replacing with 0\n",
            "  warn(f\"nan values in variable: {column}, replacing with 0\")\n",
            "/usr/local/lib/python3.7/dist-packages/tobler/util/util.py:32: UserWarning: nan values in variable: BROADBAND USAGE, replacing with 0\n",
            "  warn(f\"nan values in variable: {column}, replacing with 0\")\n",
            "/usr/local/lib/python3.7/dist-packages/tobler/util/util.py:32: UserWarning: nan values in variable: WiredCount_2020, replacing with 0\n",
            "  warn(f\"nan values in variable: {column}, replacing with 0\")\n",
            "/usr/local/lib/python3.7/dist-packages/tobler/util/util.py:32: UserWarning: nan values in variable: Wired25_3_2020, replacing with 0\n",
            "  warn(f\"nan values in variable: {column}, replacing with 0\")\n",
            "/usr/local/lib/python3.7/dist-packages/tobler/util/util.py:32: UserWarning: nan values in variable: Wired100_3_2020, replacing with 0\n",
            "  warn(f\"nan values in variable: {column}, replacing with 0\")\n"
          ]
        },
        {
          "name": "stdout",
          "output_type": "stream",
          "text": [
            "CPU times: user 23 s, sys: 1.89 s, total: 24.9 s\n",
            "Wall time: 1min 21s\n"
          ]
        }
      ],
      "source": [
        "%%time\n",
        "\n",
        "data_interpolated = area_interpolate(\n",
        "    source_df=zip_data,\n",
        "    target_df=tracts_geom,\n",
        "    intensive_variables=[\n",
        "      'BROADBAND USAGE',\n",
        "      'WiredCount_2020',\n",
        "      'Wired25_3_2020',\n",
        "      'Wired100_3_2020',\n",
        "      'AverageMbps',\n",
        "      'FastestAverageMbps',   \n",
        "      ],\n",
        "    extensive_variables=[\n",
        "       'TestCount' \n",
        "    ],\n",
        "    n_jobs=-1\n",
        ")"
      ]
    },
    {
      "cell_type": "code",
      "execution_count": null,
      "metadata": {
        "colab": {
          "base_uri": "https://localhost:8080/",
          "height": 936
        },
        "id": "UekaUaDRAMAz",
        "outputId": "e4bfe495-3325-4e64-9508-da2fdb65c103"
      },
      "outputs": [
        {
          "data": {
            "text/html": [
              "\n",
              "  <div id=\"df-212d0d52-6d67-4a8f-b4ed-6a872bb6191b\">\n",
              "    <div class=\"colab-df-container\">\n",
              "      <div>\n",
              "<style scoped>\n",
              "    .dataframe tbody tr th:only-of-type {\n",
              "        vertical-align: middle;\n",
              "    }\n",
              "\n",
              "    .dataframe tbody tr th {\n",
              "        vertical-align: top;\n",
              "    }\n",
              "\n",
              "    .dataframe thead th {\n",
              "        text-align: right;\n",
              "    }\n",
              "</style>\n",
              "<table border=\"1\" class=\"dataframe\">\n",
              "  <thead>\n",
              "    <tr style=\"text-align: right;\">\n",
              "      <th></th>\n",
              "      <th>TestCount</th>\n",
              "      <th>BROADBAND USAGE</th>\n",
              "      <th>WiredCount_2020</th>\n",
              "      <th>Wired25_3_2020</th>\n",
              "      <th>Wired100_3_2020</th>\n",
              "      <th>AverageMbps</th>\n",
              "      <th>FastestAverageMbps</th>\n",
              "      <th>geometry</th>\n",
              "    </tr>\n",
              "  </thead>\n",
              "  <tbody>\n",
              "    <tr>\n",
              "      <th>0</th>\n",
              "      <td>2189.380919</td>\n",
              "      <td>1.000000</td>\n",
              "      <td>4.000000</td>\n",
              "      <td>2.000000</td>\n",
              "      <td>2.000000</td>\n",
              "      <td>99.520000</td>\n",
              "      <td>234.930000</td>\n",
              "      <td>POLYGON ((1282181.401 4924645.993, 1282408.907...</td>\n",
              "    </tr>\n",
              "    <tr>\n",
              "      <th>1</th>\n",
              "      <td>64.260787</td>\n",
              "      <td>0.327040</td>\n",
              "      <td>3.000314</td>\n",
              "      <td>3.000314</td>\n",
              "      <td>3.000314</td>\n",
              "      <td>33.191817</td>\n",
              "      <td>105.690772</td>\n",
              "      <td>POLYGON ((715937.267 5038730.329, 715924.414 5...</td>\n",
              "    </tr>\n",
              "    <tr>\n",
              "      <th>2</th>\n",
              "      <td>584.342512</td>\n",
              "      <td>0.864404</td>\n",
              "      <td>6.000000</td>\n",
              "      <td>4.979500</td>\n",
              "      <td>3.989750</td>\n",
              "      <td>119.719226</td>\n",
              "      <td>281.941103</td>\n",
              "      <td>POLYGON ((1344868.004 5086556.451, 1344871.665...</td>\n",
              "    </tr>\n",
              "    <tr>\n",
              "      <th>3</th>\n",
              "      <td>882.561159</td>\n",
              "      <td>0.421460</td>\n",
              "      <td>5.000839</td>\n",
              "      <td>5.000839</td>\n",
              "      <td>5.000839</td>\n",
              "      <td>91.383568</td>\n",
              "      <td>236.867713</td>\n",
              "      <td>POLYGON ((-2781492.770 4688702.493, -2781377.0...</td>\n",
              "    </tr>\n",
              "    <tr>\n",
              "      <th>4</th>\n",
              "      <td>7103.061717</td>\n",
              "      <td>0.926883</td>\n",
              "      <td>9.997749</td>\n",
              "      <td>8.998523</td>\n",
              "      <td>7.999297</td>\n",
              "      <td>142.144526</td>\n",
              "      <td>371.430960</td>\n",
              "      <td>POLYGON ((-598414.903 4112968.767, -598399.117...</td>\n",
              "    </tr>\n",
              "    <tr>\n",
              "      <th>...</th>\n",
              "      <td>...</td>\n",
              "      <td>...</td>\n",
              "      <td>...</td>\n",
              "      <td>...</td>\n",
              "      <td>...</td>\n",
              "      <td>...</td>\n",
              "      <td>...</td>\n",
              "      <td>...</td>\n",
              "    </tr>\n",
              "    <tr>\n",
              "      <th>73863</th>\n",
              "      <td>1407.698674</td>\n",
              "      <td>0.496744</td>\n",
              "      <td>7.683893</td>\n",
              "      <td>4.873377</td>\n",
              "      <td>4.873377</td>\n",
              "      <td>64.672147</td>\n",
              "      <td>181.668107</td>\n",
              "      <td>POLYGON ((-384240.520 3750014.621, -382283.717...</td>\n",
              "    </tr>\n",
              "    <tr>\n",
              "      <th>73864</th>\n",
              "      <td>967.905346</td>\n",
              "      <td>0.194160</td>\n",
              "      <td>4.999610</td>\n",
              "      <td>4.999610</td>\n",
              "      <td>4.999610</td>\n",
              "      <td>85.217296</td>\n",
              "      <td>235.726194</td>\n",
              "      <td>POLYGON ((250118.223 4176977.637, 250211.224 4...</td>\n",
              "    </tr>\n",
              "    <tr>\n",
              "      <th>73865</th>\n",
              "      <td>900.233275</td>\n",
              "      <td>0.000000</td>\n",
              "      <td>2.227884</td>\n",
              "      <td>2.227884</td>\n",
              "      <td>1.113931</td>\n",
              "      <td>20.830893</td>\n",
              "      <td>55.188890</td>\n",
              "      <td>POLYGON ((2190981.310 2298516.917, 2191025.103...</td>\n",
              "    </tr>\n",
              "    <tr>\n",
              "      <th>73866</th>\n",
              "      <td>3263.507805</td>\n",
              "      <td>1.000000</td>\n",
              "      <td>5.003539</td>\n",
              "      <td>5.003539</td>\n",
              "      <td>5.003539</td>\n",
              "      <td>110.467788</td>\n",
              "      <td>291.475775</td>\n",
              "      <td>POLYGON ((-2783672.849 4644481.968, -2783424.6...</td>\n",
              "    </tr>\n",
              "    <tr>\n",
              "      <th>73867</th>\n",
              "      <td>1313.779657</td>\n",
              "      <td>0.671514</td>\n",
              "      <td>4.000042</td>\n",
              "      <td>4.000042</td>\n",
              "      <td>3.000043</td>\n",
              "      <td>83.296677</td>\n",
              "      <td>200.276358</td>\n",
              "      <td>POLYGON ((-2584614.282 5761589.086, -2584499.8...</td>\n",
              "    </tr>\n",
              "  </tbody>\n",
              "</table>\n",
              "<p>73868 rows × 8 columns</p>\n",
              "</div>\n",
              "      <button class=\"colab-df-convert\" onclick=\"convertToInteractive('df-212d0d52-6d67-4a8f-b4ed-6a872bb6191b')\"\n",
              "              title=\"Convert this dataframe to an interactive table.\"\n",
              "              style=\"display:none;\">\n",
              "        \n",
              "  <svg xmlns=\"http://www.w3.org/2000/svg\" height=\"24px\"viewBox=\"0 0 24 24\"\n",
              "       width=\"24px\">\n",
              "    <path d=\"M0 0h24v24H0V0z\" fill=\"none\"/>\n",
              "    <path d=\"M18.56 5.44l.94 2.06.94-2.06 2.06-.94-2.06-.94-.94-2.06-.94 2.06-2.06.94zm-11 1L8.5 8.5l.94-2.06 2.06-.94-2.06-.94L8.5 2.5l-.94 2.06-2.06.94zm10 10l.94 2.06.94-2.06 2.06-.94-2.06-.94-.94-2.06-.94 2.06-2.06.94z\"/><path d=\"M17.41 7.96l-1.37-1.37c-.4-.4-.92-.59-1.43-.59-.52 0-1.04.2-1.43.59L10.3 9.45l-7.72 7.72c-.78.78-.78 2.05 0 2.83L4 21.41c.39.39.9.59 1.41.59.51 0 1.02-.2 1.41-.59l7.78-7.78 2.81-2.81c.8-.78.8-2.07 0-2.86zM5.41 20L4 18.59l7.72-7.72 1.47 1.35L5.41 20z\"/>\n",
              "  </svg>\n",
              "      </button>\n",
              "      \n",
              "  <style>\n",
              "    .colab-df-container {\n",
              "      display:flex;\n",
              "      flex-wrap:wrap;\n",
              "      gap: 12px;\n",
              "    }\n",
              "\n",
              "    .colab-df-convert {\n",
              "      background-color: #E8F0FE;\n",
              "      border: none;\n",
              "      border-radius: 50%;\n",
              "      cursor: pointer;\n",
              "      display: none;\n",
              "      fill: #1967D2;\n",
              "      height: 32px;\n",
              "      padding: 0 0 0 0;\n",
              "      width: 32px;\n",
              "    }\n",
              "\n",
              "    .colab-df-convert:hover {\n",
              "      background-color: #E2EBFA;\n",
              "      box-shadow: 0px 1px 2px rgba(60, 64, 67, 0.3), 0px 1px 3px 1px rgba(60, 64, 67, 0.15);\n",
              "      fill: #174EA6;\n",
              "    }\n",
              "\n",
              "    [theme=dark] .colab-df-convert {\n",
              "      background-color: #3B4455;\n",
              "      fill: #D2E3FC;\n",
              "    }\n",
              "\n",
              "    [theme=dark] .colab-df-convert:hover {\n",
              "      background-color: #434B5C;\n",
              "      box-shadow: 0px 1px 3px 1px rgba(0, 0, 0, 0.15);\n",
              "      filter: drop-shadow(0px 1px 2px rgba(0, 0, 0, 0.3));\n",
              "      fill: #FFFFFF;\n",
              "    }\n",
              "  </style>\n",
              "\n",
              "      <script>\n",
              "        const buttonEl =\n",
              "          document.querySelector('#df-212d0d52-6d67-4a8f-b4ed-6a872bb6191b button.colab-df-convert');\n",
              "        buttonEl.style.display =\n",
              "          google.colab.kernel.accessAllowed ? 'block' : 'none';\n",
              "\n",
              "        async function convertToInteractive(key) {\n",
              "          const element = document.querySelector('#df-212d0d52-6d67-4a8f-b4ed-6a872bb6191b');\n",
              "          const dataTable =\n",
              "            await google.colab.kernel.invokeFunction('convertToInteractive',\n",
              "                                                     [key], {});\n",
              "          if (!dataTable) return;\n",
              "\n",
              "          const docLinkHtml = 'Like what you see? Visit the ' +\n",
              "            '<a target=\"_blank\" href=https://colab.research.google.com/notebooks/data_table.ipynb>data table notebook</a>'\n",
              "            + ' to learn more about interactive tables.';\n",
              "          element.innerHTML = '';\n",
              "          dataTable['output_type'] = 'display_data';\n",
              "          await google.colab.output.renderOutput(dataTable, element);\n",
              "          const docLink = document.createElement('div');\n",
              "          docLink.innerHTML = docLinkHtml;\n",
              "          element.appendChild(docLink);\n",
              "        }\n",
              "      </script>\n",
              "    </div>\n",
              "  </div>\n",
              "  "
            ],
            "text/plain": [
              "         TestCount  BROADBAND USAGE  WiredCount_2020  Wired25_3_2020  \\\n",
              "0      2189.380919         1.000000         4.000000        2.000000   \n",
              "1        64.260787         0.327040         3.000314        3.000314   \n",
              "2       584.342512         0.864404         6.000000        4.979500   \n",
              "3       882.561159         0.421460         5.000839        5.000839   \n",
              "4      7103.061717         0.926883         9.997749        8.998523   \n",
              "...            ...              ...              ...             ...   \n",
              "73863  1407.698674         0.496744         7.683893        4.873377   \n",
              "73864   967.905346         0.194160         4.999610        4.999610   \n",
              "73865   900.233275         0.000000         2.227884        2.227884   \n",
              "73866  3263.507805         1.000000         5.003539        5.003539   \n",
              "73867  1313.779657         0.671514         4.000042        4.000042   \n",
              "\n",
              "       Wired100_3_2020  AverageMbps  FastestAverageMbps  \\\n",
              "0             2.000000    99.520000          234.930000   \n",
              "1             3.000314    33.191817          105.690772   \n",
              "2             3.989750   119.719226          281.941103   \n",
              "3             5.000839    91.383568          236.867713   \n",
              "4             7.999297   142.144526          371.430960   \n",
              "...                ...          ...                 ...   \n",
              "73863         4.873377    64.672147          181.668107   \n",
              "73864         4.999610    85.217296          235.726194   \n",
              "73865         1.113931    20.830893           55.188890   \n",
              "73866         5.003539   110.467788          291.475775   \n",
              "73867         3.000043    83.296677          200.276358   \n",
              "\n",
              "                                                geometry  \n",
              "0      POLYGON ((1282181.401 4924645.993, 1282408.907...  \n",
              "1      POLYGON ((715937.267 5038730.329, 715924.414 5...  \n",
              "2      POLYGON ((1344868.004 5086556.451, 1344871.665...  \n",
              "3      POLYGON ((-2781492.770 4688702.493, -2781377.0...  \n",
              "4      POLYGON ((-598414.903 4112968.767, -598399.117...  \n",
              "...                                                  ...  \n",
              "73863  POLYGON ((-384240.520 3750014.621, -382283.717...  \n",
              "73864  POLYGON ((250118.223 4176977.637, 250211.224 4...  \n",
              "73865  POLYGON ((2190981.310 2298516.917, 2191025.103...  \n",
              "73866  POLYGON ((-2783672.849 4644481.968, -2783424.6...  \n",
              "73867  POLYGON ((-2584614.282 5761589.086, -2584499.8...  \n",
              "\n",
              "[73868 rows x 8 columns]"
            ]
          },
          "execution_count": 42,
          "metadata": {},
          "output_type": "execute_result"
        }
      ],
      "source": [
        "data_interpolated"
      ]
    },
    {
      "cell_type": "code",
      "execution_count": null,
      "metadata": {
        "id": "9x5VP46C2TCO"
      },
      "outputs": [],
      "source": [
        "data_interpolated = data_interpolated.drop(columns=['geometry'])"
      ]
    },
    {
      "cell_type": "code",
      "execution_count": null,
      "metadata": {
        "id": "65X2PIfI1vIw"
      },
      "outputs": [],
      "source": [
        "data_interpolated = data_interpolated.add_prefix('area_weighted_')"
      ]
    },
    {
      "cell_type": "code",
      "execution_count": null,
      "metadata": {
        "id": "oQmBoNIUtizT"
      },
      "outputs": [],
      "source": [
        "data_interpolated['GEOID'] = tracts_geom['GEOID'].astype(int)"
      ]
    },
    {
      "cell_type": "code",
      "execution_count": null,
      "metadata": {
        "id": "OGbGRkldsQJ5"
      },
      "outputs": [],
      "source": [
        "data_interpolated.to_csv('processed data/coverage_and_usage__area_weighted.csv')"
      ]
    },
    {
      "cell_type": "markdown",
      "metadata": {
        "id": "kRniXxKoLXAU"
      },
      "source": [
        "### in batches dropping the NaN rows from each source dataset"
      ]
    },
    {
      "cell_type": "code",
      "execution_count": null,
      "metadata": {
        "id": "XQ3pGmtzLf3U"
      },
      "outputs": [],
      "source": [
        "zip_data_providers = zip_data.dropna(subset=[\n",
        "    'WiredCount_2020',\n",
        "    'Wired25_3_2020',\n",
        "    'Wired100_3_2020']\n",
        ")"
      ]
    },
    {
      "cell_type": "code",
      "execution_count": null,
      "metadata": {
        "colab": {
          "base_uri": "https://localhost:8080/"
        },
        "id": "Ig96iD8KLfIk",
        "outputId": "9a0a8557-be22-4630-c4f1-8b12ab07e154"
      },
      "outputs": [
        {
          "name": "stdout",
          "output_type": "stream",
          "text": [
            "CPU times: user 19.5 s, sys: 1.55 s, total: 21 s\n",
            "Wall time: 1min 14s\n"
          ]
        }
      ],
      "source": [
        "%%time\n",
        "\n",
        "providers_data_interpolated = area_interpolate(\n",
        "    source_df=zip_data_providers,\n",
        "    target_df=tracts_geom,\n",
        "    intensive_variables=[\n",
        "      'WiredCount_2020',\n",
        "      'Wired25_3_2020',\n",
        "      'Wired100_3_2020' \n",
        "      ],\n",
        "    n_jobs=-1\n",
        ").drop(columns='geometry')"
      ]
    },
    {
      "cell_type": "code",
      "execution_count": null,
      "metadata": {
        "id": "gYJC9atIL-ak"
      },
      "outputs": [],
      "source": [
        "zip_data_usage = zip_data.dropna(subset=['BROADBAND USAGE'])"
      ]
    },
    {
      "cell_type": "code",
      "execution_count": null,
      "metadata": {
        "colab": {
          "base_uri": "https://localhost:8080/"
        },
        "id": "RuMJ9aKrLwME",
        "outputId": "37367eed-9af5-44d3-b597-8590bb09f061"
      },
      "outputs": [
        {
          "name": "stdout",
          "output_type": "stream",
          "text": [
            "CPU times: user 20.8 s, sys: 2.13 s, total: 23 s\n",
            "Wall time: 1min 18s\n"
          ]
        }
      ],
      "source": [
        "%%time\n",
        "\n",
        "usage_data_interpolated = area_interpolate(\n",
        "    source_df=zip_data_usage,\n",
        "    target_df=tracts_geom,\n",
        "    intensive_variables=[\n",
        "      'BROADBAND USAGE' \n",
        "      ],\n",
        "    n_jobs=-1\n",
        ").drop(columns='geometry')"
      ]
    },
    {
      "cell_type": "code",
      "execution_count": null,
      "metadata": {
        "id": "NmVTiJuuMKxc"
      },
      "outputs": [],
      "source": [
        "zip_data_mlab_speed = zip_data.dropna(subset=[\n",
        "      'AverageMbps',\n",
        "      'FastestAverageMbps'\n",
        "      ]\n",
        ")"
      ]
    },
    {
      "cell_type": "code",
      "execution_count": null,
      "metadata": {
        "colab": {
          "base_uri": "https://localhost:8080/"
        },
        "id": "nVpikiRcLwyc",
        "outputId": "de71382a-4b4b-4f5c-8601-3380911c2d2a"
      },
      "outputs": [
        {
          "name": "stdout",
          "output_type": "stream",
          "text": [
            "CPU times: user 21.4 s, sys: 2.44 s, total: 23.8 s\n",
            "Wall time: 1min 17s\n"
          ]
        }
      ],
      "source": [
        "%%time\n",
        "\n",
        "mlab_speed_data_interpolated = area_interpolate(\n",
        "    source_df=zip_data_mlab_speed,\n",
        "    target_df=tracts_geom,\n",
        "    intensive_variables=[\n",
        "      'AverageMbps',\n",
        "      'FastestAverageMbps',   \n",
        "      ],\n",
        "    n_jobs=-1\n",
        ").drop(columns='geometry').add_prefix('mlab_')"
      ]
    },
    {
      "cell_type": "code",
      "execution_count": null,
      "metadata": {
        "colab": {
          "base_uri": "https://localhost:8080/"
        },
        "id": "t4AH8yFKMoA2",
        "outputId": "08e12954-f9e1-426a-f10c-af0a7a07acb1"
      },
      "outputs": [
        {
          "name": "stderr",
          "output_type": "stream",
          "text": [
            "/usr/local/lib/python3.7/dist-packages/tobler/util/util.py:32: UserWarning: nan values in variable: TestCount, replacing with 0\n",
            "  warn(f\"nan values in variable: {column}, replacing with 0\")\n"
          ]
        }
      ],
      "source": [
        "mlab_test_count_data_interpolated = area_interpolate(\n",
        "    source_df=zip_data,\n",
        "    target_df=tracts_geom,\n",
        "    extensive_variables=[\n",
        "       'TestCount' \n",
        "      ],\n",
        "    n_jobs=-1\n",
        ").drop(columns='geometry').add_prefix('mlab_')"
      ]
    },
    {
      "cell_type": "code",
      "execution_count": null,
      "metadata": {
        "id": "S9iVPSlIT-67"
      },
      "outputs": [],
      "source": [
        "data_interpolated = pd.concat([\n",
        "        providers_data_interpolated,\n",
        "        usage_data_interpolated,\n",
        "        mlab_speed_data_interpolated,\n",
        "        mlab_test_count_data_interpolated\n",
        "    ], axis=1\n",
        "    ).add_prefix(\n",
        "        'area_weighted_'\n",
        "      ).join(\n",
        "        tracts_geom['GEOID']\n",
        "    )"
      ]
    },
    {
      "cell_type": "code",
      "execution_count": null,
      "metadata": {
        "colab": {
          "base_uri": "https://localhost:8080/",
          "height": 505
        },
        "id": "NcLTUVFPUjYV",
        "outputId": "88f6f760-df63-4cf7-900e-b114279c231b"
      },
      "outputs": [
        {
          "data": {
            "text/html": [
              "\n",
              "  <div id=\"df-ebd9c9ed-89ce-468e-a5a2-bcdd863dc8b6\">\n",
              "    <div class=\"colab-df-container\">\n",
              "      <div>\n",
              "<style scoped>\n",
              "    .dataframe tbody tr th:only-of-type {\n",
              "        vertical-align: middle;\n",
              "    }\n",
              "\n",
              "    .dataframe tbody tr th {\n",
              "        vertical-align: top;\n",
              "    }\n",
              "\n",
              "    .dataframe thead th {\n",
              "        text-align: right;\n",
              "    }\n",
              "</style>\n",
              "<table border=\"1\" class=\"dataframe\">\n",
              "  <thead>\n",
              "    <tr style=\"text-align: right;\">\n",
              "      <th></th>\n",
              "      <th>area_weighted_WiredCount_2020</th>\n",
              "      <th>area_weighted_Wired25_3_2020</th>\n",
              "      <th>area_weighted_Wired100_3_2020</th>\n",
              "      <th>area_weighted_BROADBAND USAGE</th>\n",
              "      <th>area_weighted_mlab_AverageMbps</th>\n",
              "      <th>area_weighted_mlab_FastestAverageMbps</th>\n",
              "      <th>area_weighted_mlab_TestCount</th>\n",
              "      <th>GEOID</th>\n",
              "    </tr>\n",
              "  </thead>\n",
              "  <tbody>\n",
              "    <tr>\n",
              "      <th>0</th>\n",
              "      <td>4.000000</td>\n",
              "      <td>2.000000</td>\n",
              "      <td>2.000000</td>\n",
              "      <td>1.000000</td>\n",
              "      <td>99.520000</td>\n",
              "      <td>234.930000</td>\n",
              "      <td>2189.380919</td>\n",
              "      <td>34005702808</td>\n",
              "    </tr>\n",
              "    <tr>\n",
              "      <th>1</th>\n",
              "      <td>3.000314</td>\n",
              "      <td>3.000314</td>\n",
              "      <td>3.000314</td>\n",
              "      <td>0.327040</td>\n",
              "      <td>33.191817</td>\n",
              "      <td>105.690772</td>\n",
              "      <td>64.260787</td>\n",
              "      <td>39153504200</td>\n",
              "    </tr>\n",
              "    <tr>\n",
              "      <th>2</th>\n",
              "      <td>6.000000</td>\n",
              "      <td>4.979500</td>\n",
              "      <td>3.989750</td>\n",
              "      <td>0.864404</td>\n",
              "      <td>119.719226</td>\n",
              "      <td>281.941103</td>\n",
              "      <td>584.342512</td>\n",
              "      <td>36071000502</td>\n",
              "    </tr>\n",
              "    <tr>\n",
              "      <th>3</th>\n",
              "      <td>5.000839</td>\n",
              "      <td>5.000839</td>\n",
              "      <td>5.000839</td>\n",
              "      <td>0.421460</td>\n",
              "      <td>91.383568</td>\n",
              "      <td>236.867713</td>\n",
              "      <td>882.561159</td>\n",
              "      <td>6013370000</td>\n",
              "    </tr>\n",
              "    <tr>\n",
              "      <th>4</th>\n",
              "      <td>9.997749</td>\n",
              "      <td>8.998523</td>\n",
              "      <td>7.999297</td>\n",
              "      <td>0.926883</td>\n",
              "      <td>142.144526</td>\n",
              "      <td>371.430960</td>\n",
              "      <td>7103.061717</td>\n",
              "      <td>48113019204</td>\n",
              "    </tr>\n",
              "    <tr>\n",
              "      <th>...</th>\n",
              "      <td>...</td>\n",
              "      <td>...</td>\n",
              "      <td>...</td>\n",
              "      <td>...</td>\n",
              "      <td>...</td>\n",
              "      <td>...</td>\n",
              "      <td>...</td>\n",
              "      <td>...</td>\n",
              "    </tr>\n",
              "    <tr>\n",
              "      <th>73863</th>\n",
              "      <td>7.683893</td>\n",
              "      <td>4.873377</td>\n",
              "      <td>4.873377</td>\n",
              "      <td>0.496744</td>\n",
              "      <td>64.672147</td>\n",
              "      <td>181.668107</td>\n",
              "      <td>1407.698674</td>\n",
              "      <td>48245011303</td>\n",
              "    </tr>\n",
              "    <tr>\n",
              "      <th>73864</th>\n",
              "      <td>4.999610</td>\n",
              "      <td>4.999610</td>\n",
              "      <td>4.999610</td>\n",
              "      <td>0.194160</td>\n",
              "      <td>85.217296</td>\n",
              "      <td>235.726194</td>\n",
              "      <td>967.905346</td>\n",
              "      <td>1073012302</td>\n",
              "    </tr>\n",
              "    <tr>\n",
              "      <th>73865</th>\n",
              "      <td>2.227884</td>\n",
              "      <td>2.227884</td>\n",
              "      <td>1.113931</td>\n",
              "      <td>0.000000</td>\n",
              "      <td>20.830893</td>\n",
              "      <td>55.188890</td>\n",
              "      <td>900.233275</td>\n",
              "      <td>72113072400</td>\n",
              "    </tr>\n",
              "    <tr>\n",
              "      <th>73866</th>\n",
              "      <td>5.003539</td>\n",
              "      <td>5.003539</td>\n",
              "      <td>5.003539</td>\n",
              "      <td>1.000000</td>\n",
              "      <td>110.467788</td>\n",
              "      <td>291.475775</td>\n",
              "      <td>3263.507805</td>\n",
              "      <td>6081608023</td>\n",
              "    </tr>\n",
              "    <tr>\n",
              "      <th>73867</th>\n",
              "      <td>4.000042</td>\n",
              "      <td>4.000042</td>\n",
              "      <td>3.000043</td>\n",
              "      <td>0.671514</td>\n",
              "      <td>83.296677</td>\n",
              "      <td>200.276358</td>\n",
              "      <td>1313.779657</td>\n",
              "      <td>53061052112</td>\n",
              "    </tr>\n",
              "  </tbody>\n",
              "</table>\n",
              "<p>73868 rows × 8 columns</p>\n",
              "</div>\n",
              "      <button class=\"colab-df-convert\" onclick=\"convertToInteractive('df-ebd9c9ed-89ce-468e-a5a2-bcdd863dc8b6')\"\n",
              "              title=\"Convert this dataframe to an interactive table.\"\n",
              "              style=\"display:none;\">\n",
              "        \n",
              "  <svg xmlns=\"http://www.w3.org/2000/svg\" height=\"24px\"viewBox=\"0 0 24 24\"\n",
              "       width=\"24px\">\n",
              "    <path d=\"M0 0h24v24H0V0z\" fill=\"none\"/>\n",
              "    <path d=\"M18.56 5.44l.94 2.06.94-2.06 2.06-.94-2.06-.94-.94-2.06-.94 2.06-2.06.94zm-11 1L8.5 8.5l.94-2.06 2.06-.94-2.06-.94L8.5 2.5l-.94 2.06-2.06.94zm10 10l.94 2.06.94-2.06 2.06-.94-2.06-.94-.94-2.06-.94 2.06-2.06.94z\"/><path d=\"M17.41 7.96l-1.37-1.37c-.4-.4-.92-.59-1.43-.59-.52 0-1.04.2-1.43.59L10.3 9.45l-7.72 7.72c-.78.78-.78 2.05 0 2.83L4 21.41c.39.39.9.59 1.41.59.51 0 1.02-.2 1.41-.59l7.78-7.78 2.81-2.81c.8-.78.8-2.07 0-2.86zM5.41 20L4 18.59l7.72-7.72 1.47 1.35L5.41 20z\"/>\n",
              "  </svg>\n",
              "      </button>\n",
              "      \n",
              "  <style>\n",
              "    .colab-df-container {\n",
              "      display:flex;\n",
              "      flex-wrap:wrap;\n",
              "      gap: 12px;\n",
              "    }\n",
              "\n",
              "    .colab-df-convert {\n",
              "      background-color: #E8F0FE;\n",
              "      border: none;\n",
              "      border-radius: 50%;\n",
              "      cursor: pointer;\n",
              "      display: none;\n",
              "      fill: #1967D2;\n",
              "      height: 32px;\n",
              "      padding: 0 0 0 0;\n",
              "      width: 32px;\n",
              "    }\n",
              "\n",
              "    .colab-df-convert:hover {\n",
              "      background-color: #E2EBFA;\n",
              "      box-shadow: 0px 1px 2px rgba(60, 64, 67, 0.3), 0px 1px 3px 1px rgba(60, 64, 67, 0.15);\n",
              "      fill: #174EA6;\n",
              "    }\n",
              "\n",
              "    [theme=dark] .colab-df-convert {\n",
              "      background-color: #3B4455;\n",
              "      fill: #D2E3FC;\n",
              "    }\n",
              "\n",
              "    [theme=dark] .colab-df-convert:hover {\n",
              "      background-color: #434B5C;\n",
              "      box-shadow: 0px 1px 3px 1px rgba(0, 0, 0, 0.15);\n",
              "      filter: drop-shadow(0px 1px 2px rgba(0, 0, 0, 0.3));\n",
              "      fill: #FFFFFF;\n",
              "    }\n",
              "  </style>\n",
              "\n",
              "      <script>\n",
              "        const buttonEl =\n",
              "          document.querySelector('#df-ebd9c9ed-89ce-468e-a5a2-bcdd863dc8b6 button.colab-df-convert');\n",
              "        buttonEl.style.display =\n",
              "          google.colab.kernel.accessAllowed ? 'block' : 'none';\n",
              "\n",
              "        async function convertToInteractive(key) {\n",
              "          const element = document.querySelector('#df-ebd9c9ed-89ce-468e-a5a2-bcdd863dc8b6');\n",
              "          const dataTable =\n",
              "            await google.colab.kernel.invokeFunction('convertToInteractive',\n",
              "                                                     [key], {});\n",
              "          if (!dataTable) return;\n",
              "\n",
              "          const docLinkHtml = 'Like what you see? Visit the ' +\n",
              "            '<a target=\"_blank\" href=https://colab.research.google.com/notebooks/data_table.ipynb>data table notebook</a>'\n",
              "            + ' to learn more about interactive tables.';\n",
              "          element.innerHTML = '';\n",
              "          dataTable['output_type'] = 'display_data';\n",
              "          await google.colab.output.renderOutput(dataTable, element);\n",
              "          const docLink = document.createElement('div');\n",
              "          docLink.innerHTML = docLinkHtml;\n",
              "          element.appendChild(docLink);\n",
              "        }\n",
              "      </script>\n",
              "    </div>\n",
              "  </div>\n",
              "  "
            ],
            "text/plain": [
              "       area_weighted_WiredCount_2020  area_weighted_Wired25_3_2020  \\\n",
              "0                           4.000000                      2.000000   \n",
              "1                           3.000314                      3.000314   \n",
              "2                           6.000000                      4.979500   \n",
              "3                           5.000839                      5.000839   \n",
              "4                           9.997749                      8.998523   \n",
              "...                              ...                           ...   \n",
              "73863                       7.683893                      4.873377   \n",
              "73864                       4.999610                      4.999610   \n",
              "73865                       2.227884                      2.227884   \n",
              "73866                       5.003539                      5.003539   \n",
              "73867                       4.000042                      4.000042   \n",
              "\n",
              "       area_weighted_Wired100_3_2020  area_weighted_BROADBAND USAGE  \\\n",
              "0                           2.000000                       1.000000   \n",
              "1                           3.000314                       0.327040   \n",
              "2                           3.989750                       0.864404   \n",
              "3                           5.000839                       0.421460   \n",
              "4                           7.999297                       0.926883   \n",
              "...                              ...                            ...   \n",
              "73863                       4.873377                       0.496744   \n",
              "73864                       4.999610                       0.194160   \n",
              "73865                       1.113931                       0.000000   \n",
              "73866                       5.003539                       1.000000   \n",
              "73867                       3.000043                       0.671514   \n",
              "\n",
              "       area_weighted_mlab_AverageMbps  area_weighted_mlab_FastestAverageMbps  \\\n",
              "0                           99.520000                             234.930000   \n",
              "1                           33.191817                             105.690772   \n",
              "2                          119.719226                             281.941103   \n",
              "3                           91.383568                             236.867713   \n",
              "4                          142.144526                             371.430960   \n",
              "...                               ...                                    ...   \n",
              "73863                       64.672147                             181.668107   \n",
              "73864                       85.217296                             235.726194   \n",
              "73865                       20.830893                              55.188890   \n",
              "73866                      110.467788                             291.475775   \n",
              "73867                       83.296677                             200.276358   \n",
              "\n",
              "       area_weighted_mlab_TestCount        GEOID  \n",
              "0                       2189.380919  34005702808  \n",
              "1                         64.260787  39153504200  \n",
              "2                        584.342512  36071000502  \n",
              "3                        882.561159   6013370000  \n",
              "4                       7103.061717  48113019204  \n",
              "...                             ...          ...  \n",
              "73863                   1407.698674  48245011303  \n",
              "73864                    967.905346   1073012302  \n",
              "73865                    900.233275  72113072400  \n",
              "73866                   3263.507805   6081608023  \n",
              "73867                   1313.779657  53061052112  \n",
              "\n",
              "[73868 rows x 8 columns]"
            ]
          },
          "execution_count": 55,
          "metadata": {},
          "output_type": "execute_result"
        }
      ],
      "source": [
        "data_interpolated"
      ]
    },
    {
      "cell_type": "code",
      "execution_count": null,
      "metadata": {
        "id": "hKhEz9izUv1E"
      },
      "outputs": [],
      "source": [
        "data_interpolated.to_csv('processed data/coverage_usage_mlab_speed__area_weighted.csv')"
      ]
    }
  ],
  "metadata": {
    "colab": {
      "collapsed_sections": [
        "uGjgQlCckXEO",
        "6SkMGgAMFRbU",
        "A3fceJBwaFXH",
        "qb3fk1hMxgGn"
      ],
      "machine_shape": "hm",
      "name": "01_spatial interpolation from ZIP to Tract.ipynb",
      "provenance": []
    },
    "gpuClass": "standard",
    "kernelspec": {
      "display_name": "Python 3",
      "name": "python3"
    },
    "language_info": {
      "name": "python"
    }
  },
  "nbformat": 4,
  "nbformat_minor": 0
}
