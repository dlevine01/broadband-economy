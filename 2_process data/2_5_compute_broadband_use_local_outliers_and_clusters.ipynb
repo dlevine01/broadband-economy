{
  "cells": [
    {
      "cell_type": "markdown",
      "metadata": {
        "id": "0h1GtyWduGYO"
      },
      "source": [
        "## set environment, import packages"
      ]
    },
    {
      "cell_type": "code",
      "execution_count": null,
      "metadata": {
        "colab": {
          "base_uri": "https://localhost:8080/"
        },
        "id": "Y_w0DLVgL2hw",
        "outputId": "5bc3b762-bb75-40a6-9002-1d2c300839f6"
      },
      "outputs": [
        {
          "name": "stdout",
          "output_type": "stream",
          "text": [
            "Mounted at /content/drive\n"
          ]
        }
      ],
      "source": [
        "# if in Google Colab, uncomment and run this cell to connect to Google Drive data directory\n",
        "\n",
        "# import os\n",
        "# from google.colab import drive\n",
        "# drive.mount('/content/drive')\n",
        "# os.chdir('/content/drive/MyDrive/Economic Recovery Tool Capstone')"
      ]
    },
    {
      "cell_type": "code",
      "execution_count": 1,
      "metadata": {
        "colab": {
          "base_uri": "https://localhost:8080/"
        },
        "id": "9oIbBe9gSWit",
        "outputId": "d3af1940-d266-4611-ae7a-1721dc23088a"
      },
      "outputs": [
        {
          "name": "stdout",
          "output_type": "stream",
          "text": [
            "\u001b[K     |████████████████████████████████| 1.0 MB 17.6 MB/s \n",
            "\u001b[K     |████████████████████████████████| 245 kB 7.9 MB/s \n",
            "\u001b[K     |████████████████████████████████| 2.4 MB 31.6 MB/s \n",
            "\u001b[K     |████████████████████████████████| 116 kB 31.3 MB/s \n",
            "\u001b[K     |████████████████████████████████| 6.3 MB 33.1 MB/s \n",
            "\u001b[K     |████████████████████████████████| 16.7 MB 355 kB/s \n",
            "\u001b[K     |████████████████████████████████| 235 kB 35.6 MB/s \n",
            "\u001b[K     |████████████████████████████████| 209 kB 18.3 MB/s \n",
            "\u001b[K     |████████████████████████████████| 60 kB 3.1 MB/s \n",
            "\u001b[K     |████████████████████████████████| 179 kB 40.3 MB/s \n",
            "\u001b[K     |████████████████████████████████| 1.6 MB 41.5 MB/s \n",
            "\u001b[?25h  Building wheel for carto (setup.py) ... \u001b[?25l\u001b[?25hdone\n",
            "  Building wheel for pyrestcli (setup.py) ... \u001b[?25l\u001b[?25hdone\n",
            "  Building wheel for esda (setup.py) ... \u001b[?25l\u001b[?25hdone\n"
          ]
        }
      ],
      "source": [
        "pip install geopandas cartoframes libpysal esda splot watermark -q"
      ]
    },
    {
      "cell_type": "code",
      "execution_count": 2,
      "metadata": {
        "id": "6eS3KsfMBt9k"
      },
      "outputs": [],
      "source": [
        "import pandas as pd\n",
        "import numpy as np\n",
        "import geopandas as gpd"
      ]
    },
    {
      "cell_type": "code",
      "execution_count": 3,
      "metadata": {
        "id": "sUO-p0YxFOg4"
      },
      "outputs": [],
      "source": [
        "import cartoframes\n",
        "from cartoframes import to_carto, read_carto"
      ]
    },
    {
      "cell_type": "code",
      "execution_count": null,
      "metadata": {
        "id": "-3xvOjqzE2ac"
      },
      "outputs": [],
      "source": [
        "credentials = pd.read_csv('credentials.csv', names=[0,1])"
      ]
    },
    {
      "cell_type": "code",
      "execution_count": null,
      "metadata": {
        "id": "RdW8q-VgGJhR"
      },
      "outputs": [],
      "source": [
        "cartoframes.auth.set_default_credentials(\n",
        "    username=credentials[1][0],\n",
        "    api_key=credentials[1][1]\n",
        ")"
      ]
    },
    {
      "cell_type": "code",
      "execution_count": 4,
      "metadata": {
        "id": "ebLEW-I1XFuz"
      },
      "outputs": [],
      "source": [
        "from libpysal.weights import Queen, KNN\n",
        "from esda.moran import Moran_Local\n",
        "from splot.esda import moran_scatterplot, lisa_cluster\n",
        "from splot._viz_utils import moran_hot_cold_spots"
      ]
    },
    {
      "cell_type": "code",
      "execution_count": 5,
      "metadata": {
        "colab": {
          "base_uri": "https://localhost:8080/"
        },
        "id": "cqHdAFxCXHFw",
        "outputId": "4fa456b2-81d0-4f5a-e426-db3238ddefbb"
      },
      "outputs": [
        {
          "name": "stdout",
          "output_type": "stream",
          "text": [
            "Author: Dan Levine\n",
            "\n",
            "Last updated: 2022-08-22\n",
            "\n",
            "Python implementation: CPython\n",
            "Python version       : 3.7.13\n",
            "IPython version      : 7.9.0\n",
            "\n",
            "numpy      : 1.21.6\n",
            "pandas     : 1.3.5\n",
            "cartoframes: 1.2.4\n",
            "geopandas  : 0.10.2\n",
            "\n"
          ]
        }
      ],
      "source": [
        "%reload_ext watermark\n",
        "%watermark -iv -a 'Dan Levine' -u -d -v"
      ]
    },
    {
      "cell_type": "markdown",
      "metadata": {
        "id": "MMjD_vWRuNet"
      },
      "source": [
        "## read in and join data"
      ]
    },
    {
      "cell_type": "code",
      "execution_count": null,
      "metadata": {
        "id": "5Bzuk7hTGcpz"
      },
      "outputs": [],
      "source": [
        "tracts = gpd.read_file('raw data/all_tracts_2019/all_tracts_2019.shp')"
      ]
    },
    {
      "cell_type": "code",
      "execution_count": null,
      "metadata": {
        "id": "yuejV5icJOGf"
      },
      "outputs": [],
      "source": [
        "tracts['GEOID'] = pd.to_numeric(tracts['GEOID'])"
      ]
    },
    {
      "cell_type": "code",
      "execution_count": null,
      "metadata": {
        "id": "w3Vq7xD7IKet"
      },
      "outputs": [],
      "source": [
        "broadband_data = pd.read_csv('processed data/coverage_usage_mlab_speed__area_weighted.csv', index_col=0)"
      ]
    },
    {
      "cell_type": "code",
      "execution_count": null,
      "metadata": {
        "colab": {
          "base_uri": "https://localhost:8080/",
          "height": 505
        },
        "id": "c30J8deZIXQo",
        "outputId": "69df9821-895f-417b-aedc-9a54ffb218e6"
      },
      "outputs": [
        {
          "data": {
            "text/html": [
              "\n",
              "  <div id=\"df-5998ce9f-6789-4ca3-9109-583b63695325\">\n",
              "    <div class=\"colab-df-container\">\n",
              "      <div>\n",
              "<style scoped>\n",
              "    .dataframe tbody tr th:only-of-type {\n",
              "        vertical-align: middle;\n",
              "    }\n",
              "\n",
              "    .dataframe tbody tr th {\n",
              "        vertical-align: top;\n",
              "    }\n",
              "\n",
              "    .dataframe thead th {\n",
              "        text-align: right;\n",
              "    }\n",
              "</style>\n",
              "<table border=\"1\" class=\"dataframe\">\n",
              "  <thead>\n",
              "    <tr style=\"text-align: right;\">\n",
              "      <th></th>\n",
              "      <th>area_weighted_WiredCount_2020</th>\n",
              "      <th>area_weighted_Wired25_3_2020</th>\n",
              "      <th>area_weighted_Wired100_3_2020</th>\n",
              "      <th>area_weighted_BROADBAND USAGE</th>\n",
              "      <th>area_weighted_mlab_AverageMbps</th>\n",
              "      <th>area_weighted_mlab_FastestAverageMbps</th>\n",
              "      <th>area_weighted_mlab_TestCount</th>\n",
              "      <th>GEOID</th>\n",
              "    </tr>\n",
              "  </thead>\n",
              "  <tbody>\n",
              "    <tr>\n",
              "      <th>0</th>\n",
              "      <td>4.000000</td>\n",
              "      <td>2.000000</td>\n",
              "      <td>2.000000</td>\n",
              "      <td>1.000000</td>\n",
              "      <td>99.520000</td>\n",
              "      <td>234.930000</td>\n",
              "      <td>2189.380919</td>\n",
              "      <td>34005702808</td>\n",
              "    </tr>\n",
              "    <tr>\n",
              "      <th>1</th>\n",
              "      <td>3.000314</td>\n",
              "      <td>3.000314</td>\n",
              "      <td>3.000314</td>\n",
              "      <td>0.327040</td>\n",
              "      <td>33.191817</td>\n",
              "      <td>105.690772</td>\n",
              "      <td>64.260787</td>\n",
              "      <td>39153504200</td>\n",
              "    </tr>\n",
              "    <tr>\n",
              "      <th>2</th>\n",
              "      <td>6.000000</td>\n",
              "      <td>4.979500</td>\n",
              "      <td>3.989750</td>\n",
              "      <td>0.864404</td>\n",
              "      <td>119.719226</td>\n",
              "      <td>281.941103</td>\n",
              "      <td>584.342512</td>\n",
              "      <td>36071000502</td>\n",
              "    </tr>\n",
              "    <tr>\n",
              "      <th>3</th>\n",
              "      <td>5.000839</td>\n",
              "      <td>5.000839</td>\n",
              "      <td>5.000839</td>\n",
              "      <td>0.421460</td>\n",
              "      <td>91.383568</td>\n",
              "      <td>236.867713</td>\n",
              "      <td>882.561159</td>\n",
              "      <td>6013370000</td>\n",
              "    </tr>\n",
              "    <tr>\n",
              "      <th>4</th>\n",
              "      <td>9.997749</td>\n",
              "      <td>8.998523</td>\n",
              "      <td>7.999297</td>\n",
              "      <td>0.926883</td>\n",
              "      <td>142.144526</td>\n",
              "      <td>371.430960</td>\n",
              "      <td>7103.061717</td>\n",
              "      <td>48113019204</td>\n",
              "    </tr>\n",
              "    <tr>\n",
              "      <th>...</th>\n",
              "      <td>...</td>\n",
              "      <td>...</td>\n",
              "      <td>...</td>\n",
              "      <td>...</td>\n",
              "      <td>...</td>\n",
              "      <td>...</td>\n",
              "      <td>...</td>\n",
              "      <td>...</td>\n",
              "    </tr>\n",
              "    <tr>\n",
              "      <th>73863</th>\n",
              "      <td>7.683893</td>\n",
              "      <td>4.873377</td>\n",
              "      <td>4.873377</td>\n",
              "      <td>0.496744</td>\n",
              "      <td>64.672147</td>\n",
              "      <td>181.668107</td>\n",
              "      <td>1407.698674</td>\n",
              "      <td>48245011303</td>\n",
              "    </tr>\n",
              "    <tr>\n",
              "      <th>73864</th>\n",
              "      <td>4.999610</td>\n",
              "      <td>4.999610</td>\n",
              "      <td>4.999610</td>\n",
              "      <td>0.194160</td>\n",
              "      <td>85.217296</td>\n",
              "      <td>235.726194</td>\n",
              "      <td>967.905346</td>\n",
              "      <td>1073012302</td>\n",
              "    </tr>\n",
              "    <tr>\n",
              "      <th>73865</th>\n",
              "      <td>2.227884</td>\n",
              "      <td>2.227884</td>\n",
              "      <td>1.113931</td>\n",
              "      <td>0.000000</td>\n",
              "      <td>20.830893</td>\n",
              "      <td>55.188890</td>\n",
              "      <td>900.233275</td>\n",
              "      <td>72113072400</td>\n",
              "    </tr>\n",
              "    <tr>\n",
              "      <th>73866</th>\n",
              "      <td>5.003539</td>\n",
              "      <td>5.003539</td>\n",
              "      <td>5.003539</td>\n",
              "      <td>1.000000</td>\n",
              "      <td>110.467788</td>\n",
              "      <td>291.475775</td>\n",
              "      <td>3263.507805</td>\n",
              "      <td>6081608023</td>\n",
              "    </tr>\n",
              "    <tr>\n",
              "      <th>73867</th>\n",
              "      <td>4.000042</td>\n",
              "      <td>4.000042</td>\n",
              "      <td>3.000043</td>\n",
              "      <td>0.671514</td>\n",
              "      <td>83.296677</td>\n",
              "      <td>200.276358</td>\n",
              "      <td>1313.779657</td>\n",
              "      <td>53061052112</td>\n",
              "    </tr>\n",
              "  </tbody>\n",
              "</table>\n",
              "<p>73868 rows × 8 columns</p>\n",
              "</div>\n",
              "      <button class=\"colab-df-convert\" onclick=\"convertToInteractive('df-5998ce9f-6789-4ca3-9109-583b63695325')\"\n",
              "              title=\"Convert this dataframe to an interactive table.\"\n",
              "              style=\"display:none;\">\n",
              "        \n",
              "  <svg xmlns=\"http://www.w3.org/2000/svg\" height=\"24px\"viewBox=\"0 0 24 24\"\n",
              "       width=\"24px\">\n",
              "    <path d=\"M0 0h24v24H0V0z\" fill=\"none\"/>\n",
              "    <path d=\"M18.56 5.44l.94 2.06.94-2.06 2.06-.94-2.06-.94-.94-2.06-.94 2.06-2.06.94zm-11 1L8.5 8.5l.94-2.06 2.06-.94-2.06-.94L8.5 2.5l-.94 2.06-2.06.94zm10 10l.94 2.06.94-2.06 2.06-.94-2.06-.94-.94-2.06-.94 2.06-2.06.94z\"/><path d=\"M17.41 7.96l-1.37-1.37c-.4-.4-.92-.59-1.43-.59-.52 0-1.04.2-1.43.59L10.3 9.45l-7.72 7.72c-.78.78-.78 2.05 0 2.83L4 21.41c.39.39.9.59 1.41.59.51 0 1.02-.2 1.41-.59l7.78-7.78 2.81-2.81c.8-.78.8-2.07 0-2.86zM5.41 20L4 18.59l7.72-7.72 1.47 1.35L5.41 20z\"/>\n",
              "  </svg>\n",
              "      </button>\n",
              "      \n",
              "  <style>\n",
              "    .colab-df-container {\n",
              "      display:flex;\n",
              "      flex-wrap:wrap;\n",
              "      gap: 12px;\n",
              "    }\n",
              "\n",
              "    .colab-df-convert {\n",
              "      background-color: #E8F0FE;\n",
              "      border: none;\n",
              "      border-radius: 50%;\n",
              "      cursor: pointer;\n",
              "      display: none;\n",
              "      fill: #1967D2;\n",
              "      height: 32px;\n",
              "      padding: 0 0 0 0;\n",
              "      width: 32px;\n",
              "    }\n",
              "\n",
              "    .colab-df-convert:hover {\n",
              "      background-color: #E2EBFA;\n",
              "      box-shadow: 0px 1px 2px rgba(60, 64, 67, 0.3), 0px 1px 3px 1px rgba(60, 64, 67, 0.15);\n",
              "      fill: #174EA6;\n",
              "    }\n",
              "\n",
              "    [theme=dark] .colab-df-convert {\n",
              "      background-color: #3B4455;\n",
              "      fill: #D2E3FC;\n",
              "    }\n",
              "\n",
              "    [theme=dark] .colab-df-convert:hover {\n",
              "      background-color: #434B5C;\n",
              "      box-shadow: 0px 1px 3px 1px rgba(0, 0, 0, 0.15);\n",
              "      filter: drop-shadow(0px 1px 2px rgba(0, 0, 0, 0.3));\n",
              "      fill: #FFFFFF;\n",
              "    }\n",
              "  </style>\n",
              "\n",
              "      <script>\n",
              "        const buttonEl =\n",
              "          document.querySelector('#df-5998ce9f-6789-4ca3-9109-583b63695325 button.colab-df-convert');\n",
              "        buttonEl.style.display =\n",
              "          google.colab.kernel.accessAllowed ? 'block' : 'none';\n",
              "\n",
              "        async function convertToInteractive(key) {\n",
              "          const element = document.querySelector('#df-5998ce9f-6789-4ca3-9109-583b63695325');\n",
              "          const dataTable =\n",
              "            await google.colab.kernel.invokeFunction('convertToInteractive',\n",
              "                                                     [key], {});\n",
              "          if (!dataTable) return;\n",
              "\n",
              "          const docLinkHtml = 'Like what you see? Visit the ' +\n",
              "            '<a target=\"_blank\" href=https://colab.research.google.com/notebooks/data_table.ipynb>data table notebook</a>'\n",
              "            + ' to learn more about interactive tables.';\n",
              "          element.innerHTML = '';\n",
              "          dataTable['output_type'] = 'display_data';\n",
              "          await google.colab.output.renderOutput(dataTable, element);\n",
              "          const docLink = document.createElement('div');\n",
              "          docLink.innerHTML = docLinkHtml;\n",
              "          element.appendChild(docLink);\n",
              "        }\n",
              "      </script>\n",
              "    </div>\n",
              "  </div>\n",
              "  "
            ],
            "text/plain": [
              "       area_weighted_WiredCount_2020  area_weighted_Wired25_3_2020  \\\n",
              "0                           4.000000                      2.000000   \n",
              "1                           3.000314                      3.000314   \n",
              "2                           6.000000                      4.979500   \n",
              "3                           5.000839                      5.000839   \n",
              "4                           9.997749                      8.998523   \n",
              "...                              ...                           ...   \n",
              "73863                       7.683893                      4.873377   \n",
              "73864                       4.999610                      4.999610   \n",
              "73865                       2.227884                      2.227884   \n",
              "73866                       5.003539                      5.003539   \n",
              "73867                       4.000042                      4.000042   \n",
              "\n",
              "       area_weighted_Wired100_3_2020  area_weighted_BROADBAND USAGE  \\\n",
              "0                           2.000000                       1.000000   \n",
              "1                           3.000314                       0.327040   \n",
              "2                           3.989750                       0.864404   \n",
              "3                           5.000839                       0.421460   \n",
              "4                           7.999297                       0.926883   \n",
              "...                              ...                            ...   \n",
              "73863                       4.873377                       0.496744   \n",
              "73864                       4.999610                       0.194160   \n",
              "73865                       1.113931                       0.000000   \n",
              "73866                       5.003539                       1.000000   \n",
              "73867                       3.000043                       0.671514   \n",
              "\n",
              "       area_weighted_mlab_AverageMbps  area_weighted_mlab_FastestAverageMbps  \\\n",
              "0                           99.520000                             234.930000   \n",
              "1                           33.191817                             105.690772   \n",
              "2                          119.719226                             281.941103   \n",
              "3                           91.383568                             236.867713   \n",
              "4                          142.144526                             371.430960   \n",
              "...                               ...                                    ...   \n",
              "73863                       64.672147                             181.668107   \n",
              "73864                       85.217296                             235.726194   \n",
              "73865                       20.830893                              55.188890   \n",
              "73866                      110.467788                             291.475775   \n",
              "73867                       83.296677                             200.276358   \n",
              "\n",
              "       area_weighted_mlab_TestCount        GEOID  \n",
              "0                       2189.380919  34005702808  \n",
              "1                         64.260787  39153504200  \n",
              "2                        584.342512  36071000502  \n",
              "3                        882.561159   6013370000  \n",
              "4                       7103.061717  48113019204  \n",
              "...                             ...          ...  \n",
              "73863                   1407.698674  48245011303  \n",
              "73864                    967.905346   1073012302  \n",
              "73865                    900.233275  72113072400  \n",
              "73866                   3263.507805   6081608023  \n",
              "73867                   1313.779657  53061052112  \n",
              "\n",
              "[73868 rows x 8 columns]"
            ]
          },
          "execution_count": 25,
          "metadata": {},
          "output_type": "execute_result"
        }
      ],
      "source": [
        "broadband_data"
      ]
    },
    {
      "cell_type": "code",
      "execution_count": null,
      "metadata": {
        "id": "juV8BIe3J9JR"
      },
      "outputs": [],
      "source": [
        "broadband = tracts[['GEOID', 'geometry']].merge(broadband_data, on='GEOID', how='left')"
      ]
    },
    {
      "cell_type": "markdown",
      "metadata": {
        "id": "9HMGpFvzW99y"
      },
      "source": [
        "## find outliers"
      ]
    },
    {
      "cell_type": "code",
      "execution_count": null,
      "metadata": {
        "id": "Uif3gqlHq0Qm"
      },
      "outputs": [],
      "source": [
        "broadband_dropna = broadband.dropna(subset=['area_weighted_BROADBAND USAGE']).reset_index()"
      ]
    },
    {
      "cell_type": "code",
      "execution_count": null,
      "metadata": {
        "colab": {
          "base_uri": "https://localhost:8080/"
        },
        "id": "nvGWaDzYXah3",
        "outputId": "8f86a470-3c0b-49d9-9a60-a6d5bdc185ec"
      },
      "outputs": [
        {
          "name": "stderr",
          "output_type": "stream",
          "text": [
            "/usr/local/lib/python3.7/dist-packages/libpysal/weights/weights.py:172: UserWarning: The weights matrix is not fully connected: \n",
            " There are 9 disconnected components.\n",
            "  warnings.warn(message)\n"
          ]
        }
      ],
      "source": [
        "knn_w = KNN.from_dataframe(\n",
        "    broadband_dropna,\n",
        "    k=5,\n",
        "    geom_col='geometry',\n",
        "    ids='GEOID')"
      ]
    },
    {
      "cell_type": "code",
      "execution_count": null,
      "metadata": {
        "id": "70uWamN1axc2"
      },
      "outputs": [],
      "source": [
        "lisa = Moran_Local(\n",
        "    y=broadband_dropna['area_weighted_BROADBAND USAGE'],\n",
        "    w=knn_w,\n",
        "    n_jobs=-1\n",
        ")"
      ]
    },
    {
      "cell_type": "code",
      "execution_count": null,
      "metadata": {
        "colab": {
          "base_uri": "https://localhost:8080/",
          "height": 477
        },
        "id": "HCj4LREJbs8Q",
        "outputId": "0e514054-be0c-43a1-a348-7614490242c6"
      },
      "outputs": [
        {
          "data": {
            "image/png": "[encoded data removed]",
            "text/plain": [
              "<Figure size 504x504 with 1 Axes>"
            ]
          },
          "metadata": {
            "needs_background": "light"
          },
          "output_type": "display_data"
        }
      ],
      "source": [
        "fig, ax = moran_scatterplot(\n",
        "    lisa,\n",
        "    p=0.01\n",
        ")"
      ]
    },
    {
      "cell_type": "code",
      "execution_count": null,
      "metadata": {
        "id": "BJ37k6i9rpay"
      },
      "outputs": [],
      "source": [
        "lisa_quadrants = {\n",
        "    0:np.nan,\n",
        "    1:'HH',\n",
        "    2:'LH',\n",
        "    3:'LL',\n",
        "    4:'HL'\n",
        "}"
      ]
    },
    {
      "cell_type": "code",
      "execution_count": null,
      "metadata": {
        "id": "CVNzsUX4rz-w"
      },
      "outputs": [],
      "source": [
        "lisa_outlier = pd.Series(moran_hot_cold_spots(lisa,0.01)).map(lisa_quadrants)"
      ]
    },
    {
      "cell_type": "code",
      "execution_count": null,
      "metadata": {
        "id": "owgBeEJ-tH03"
      },
      "outputs": [],
      "source": [
        "broadband_dropna['lisa_outlier'] = lisa_outlier"
      ]
    },
    {
      "cell_type": "code",
      "execution_count": null,
      "metadata": {
        "id": "48omMSOVnNse"
      },
      "outputs": [],
      "source": [
        "broadband = broadband.merge(broadband_dropna[['GEOID','lisa_outlier']], on='GEOID', how='left')"
      ]
    },
    {
      "cell_type": "code",
      "execution_count": null,
      "metadata": {
        "colab": {
          "base_uri": "https://localhost:8080/",
          "height": 1000
        },
        "id": "dnZjH_xit9um",
        "outputId": "fe9a1d77-0bac-49ab-b85d-484babb10bc2"
      },
      "outputs": [
        {
          "data": {
            "text/html": [
              "\n",
              "  <div id=\"df-d8334a72-1d63-404c-b4ee-d258d69c7ad1\">\n",
              "    <div class=\"colab-df-container\">\n",
              "      <div>\n",
              "<style scoped>\n",
              "    .dataframe tbody tr th:only-of-type {\n",
              "        vertical-align: middle;\n",
              "    }\n",
              "\n",
              "    .dataframe tbody tr th {\n",
              "        vertical-align: top;\n",
              "    }\n",
              "\n",
              "    .dataframe thead th {\n",
              "        text-align: right;\n",
              "    }\n",
              "</style>\n",
              "<table border=\"1\" class=\"dataframe\">\n",
              "  <thead>\n",
              "    <tr style=\"text-align: right;\">\n",
              "      <th></th>\n",
              "      <th>GEOID</th>\n",
              "      <th>geometry</th>\n",
              "      <th>area_weighted_WiredCount_2020</th>\n",
              "      <th>area_weighted_Wired25_3_2020</th>\n",
              "      <th>area_weighted_Wired100_3_2020</th>\n",
              "      <th>area_weighted_BROADBAND USAGE</th>\n",
              "      <th>area_weighted_mlab_AverageMbps</th>\n",
              "      <th>area_weighted_mlab_FastestAverageMbps</th>\n",
              "      <th>area_weighted_mlab_TestCount</th>\n",
              "      <th>lisa_outlier</th>\n",
              "    </tr>\n",
              "  </thead>\n",
              "  <tbody>\n",
              "    <tr>\n",
              "      <th>0</th>\n",
              "      <td>1055010700</td>\n",
              "      <td>POLYGON ((-85.98699 34.04413, -85.98606 34.045...</td>\n",
              "      <td>7.998633</td>\n",
              "      <td>6.001346</td>\n",
              "      <td>5.999991</td>\n",
              "      <td>0.790294</td>\n",
              "      <td>88.107253</td>\n",
              "      <td>234.700064</td>\n",
              "      <td>4472.096953</td>\n",
              "      <td>NaN</td>\n",
              "    </tr>\n",
              "    <tr>\n",
              "      <th>1</th>\n",
              "      <td>1055001300</td>\n",
              "      <td>POLYGON ((-86.00068 34.00537, -86.00023 34.006...</td>\n",
              "      <td>7.055336</td>\n",
              "      <td>6.944664</td>\n",
              "      <td>6.000000</td>\n",
              "      <td>0.299775</td>\n",
              "      <td>72.382451</td>\n",
              "      <td>186.308738</td>\n",
              "      <td>57.048870</td>\n",
              "      <td>NaN</td>\n",
              "    </tr>\n",
              "    <tr>\n",
              "      <th>2</th>\n",
              "      <td>1055000900</td>\n",
              "      <td>POLYGON ((-86.07079 34.00011, -86.07076 34.000...</td>\n",
              "      <td>4.015455</td>\n",
              "      <td>3.012513</td>\n",
              "      <td>3.012513</td>\n",
              "      <td>0.434867</td>\n",
              "      <td>77.257196</td>\n",
              "      <td>225.299216</td>\n",
              "      <td>219.307307</td>\n",
              "      <td>NaN</td>\n",
              "    </tr>\n",
              "    <tr>\n",
              "      <th>3</th>\n",
              "      <td>1055001700</td>\n",
              "      <td>POLYGON ((-85.96885 33.98825, -85.96884 33.988...</td>\n",
              "      <td>7.000000</td>\n",
              "      <td>7.000000</td>\n",
              "      <td>6.031913</td>\n",
              "      <td>0.274159</td>\n",
              "      <td>70.404340</td>\n",
              "      <td>180.538852</td>\n",
              "      <td>66.753127</td>\n",
              "      <td>NaN</td>\n",
              "    </tr>\n",
              "    <tr>\n",
              "      <th>4</th>\n",
              "      <td>1055010501</td>\n",
              "      <td>POLYGON ((-86.07352 33.90549, -86.07337 33.906...</td>\n",
              "      <td>6.001636</td>\n",
              "      <td>5.999795</td>\n",
              "      <td>5.999427</td>\n",
              "      <td>0.669724</td>\n",
              "      <td>70.610174</td>\n",
              "      <td>151.972623</td>\n",
              "      <td>4844.645190</td>\n",
              "      <td>NaN</td>\n",
              "    </tr>\n",
              "    <tr>\n",
              "      <th>...</th>\n",
              "      <td>...</td>\n",
              "      <td>...</td>\n",
              "      <td>...</td>\n",
              "      <td>...</td>\n",
              "      <td>...</td>\n",
              "      <td>...</td>\n",
              "      <td>...</td>\n",
              "      <td>...</td>\n",
              "      <td>...</td>\n",
              "      <td>...</td>\n",
              "    </tr>\n",
              "    <tr>\n",
              "      <th>74096</th>\n",
              "      <td>72005400900</td>\n",
              "      <td>POLYGON ((-67.15551 18.44182, -67.15539 18.442...</td>\n",
              "      <td>2.000000</td>\n",
              "      <td>2.000000</td>\n",
              "      <td>1.000000</td>\n",
              "      <td>0.000000</td>\n",
              "      <td>36.870000</td>\n",
              "      <td>161.040000</td>\n",
              "      <td>113.890803</td>\n",
              "      <td>LL</td>\n",
              "    </tr>\n",
              "    <tr>\n",
              "      <th>74097</th>\n",
              "      <td>72127008900</td>\n",
              "      <td>POLYGON ((-66.05311 18.39677, -66.05293 18.396...</td>\n",
              "      <td>3.000000</td>\n",
              "      <td>2.152785</td>\n",
              "      <td>2.000000</td>\n",
              "      <td>0.000000</td>\n",
              "      <td>26.515406</td>\n",
              "      <td>52.670857</td>\n",
              "      <td>122.058130</td>\n",
              "      <td>LL</td>\n",
              "    </tr>\n",
              "    <tr>\n",
              "      <th>74098</th>\n",
              "      <td>72127009000</td>\n",
              "      <td>POLYGON ((-66.04196 18.39833, -66.04193 18.398...</td>\n",
              "      <td>3.000000</td>\n",
              "      <td>3.000000</td>\n",
              "      <td>2.000000</td>\n",
              "      <td>0.000000</td>\n",
              "      <td>41.850000</td>\n",
              "      <td>88.830000</td>\n",
              "      <td>46.534617</td>\n",
              "      <td>LL</td>\n",
              "    </tr>\n",
              "    <tr>\n",
              "      <th>74099</th>\n",
              "      <td>72119130702</td>\n",
              "      <td>POLYGON ((-65.86800 18.33762, -65.86785 18.338...</td>\n",
              "      <td>3.000000</td>\n",
              "      <td>3.000000</td>\n",
              "      <td>1.000000</td>\n",
              "      <td>0.000000</td>\n",
              "      <td>43.460000</td>\n",
              "      <td>121.800000</td>\n",
              "      <td>70.675774</td>\n",
              "      <td>LL</td>\n",
              "    </tr>\n",
              "    <tr>\n",
              "      <th>74100</th>\n",
              "      <td>72119130300</td>\n",
              "      <td>POLYGON ((-65.85254 18.40170, -65.84992 18.403...</td>\n",
              "      <td>3.000000</td>\n",
              "      <td>3.000000</td>\n",
              "      <td>1.013554</td>\n",
              "      <td>0.000000</td>\n",
              "      <td>43.009462</td>\n",
              "      <td>120.818956</td>\n",
              "      <td>6.006185</td>\n",
              "      <td>LL</td>\n",
              "    </tr>\n",
              "  </tbody>\n",
              "</table>\n",
              "<p>74101 rows × 10 columns</p>\n",
              "</div>\n",
              "      <button class=\"colab-df-convert\" onclick=\"convertToInteractive('df-d8334a72-1d63-404c-b4ee-d258d69c7ad1')\"\n",
              "              title=\"Convert this dataframe to an interactive table.\"\n",
              "              style=\"display:none;\">\n",
              "        \n",
              "  <svg xmlns=\"http://www.w3.org/2000/svg\" height=\"24px\"viewBox=\"0 0 24 24\"\n",
              "       width=\"24px\">\n",
              "    <path d=\"M0 0h24v24H0V0z\" fill=\"none\"/>\n",
              "    <path d=\"M18.56 5.44l.94 2.06.94-2.06 2.06-.94-2.06-.94-.94-2.06-.94 2.06-2.06.94zm-11 1L8.5 8.5l.94-2.06 2.06-.94-2.06-.94L8.5 2.5l-.94 2.06-2.06.94zm10 10l.94 2.06.94-2.06 2.06-.94-2.06-.94-.94-2.06-.94 2.06-2.06.94z\"/><path d=\"M17.41 7.96l-1.37-1.37c-.4-.4-.92-.59-1.43-.59-.52 0-1.04.2-1.43.59L10.3 9.45l-7.72 7.72c-.78.78-.78 2.05 0 2.83L4 21.41c.39.39.9.59 1.41.59.51 0 1.02-.2 1.41-.59l7.78-7.78 2.81-2.81c.8-.78.8-2.07 0-2.86zM5.41 20L4 18.59l7.72-7.72 1.47 1.35L5.41 20z\"/>\n",
              "  </svg>\n",
              "      </button>\n",
              "      \n",
              "  <style>\n",
              "    .colab-df-container {\n",
              "      display:flex;\n",
              "      flex-wrap:wrap;\n",
              "      gap: 12px;\n",
              "    }\n",
              "\n",
              "    .colab-df-convert {\n",
              "      background-color: #E8F0FE;\n",
              "      border: none;\n",
              "      border-radius: 50%;\n",
              "      cursor: pointer;\n",
              "      display: none;\n",
              "      fill: #1967D2;\n",
              "      height: 32px;\n",
              "      padding: 0 0 0 0;\n",
              "      width: 32px;\n",
              "    }\n",
              "\n",
              "    .colab-df-convert:hover {\n",
              "      background-color: #E2EBFA;\n",
              "      box-shadow: 0px 1px 2px rgba(60, 64, 67, 0.3), 0px 1px 3px 1px rgba(60, 64, 67, 0.15);\n",
              "      fill: #174EA6;\n",
              "    }\n",
              "\n",
              "    [theme=dark] .colab-df-convert {\n",
              "      background-color: #3B4455;\n",
              "      fill: #D2E3FC;\n",
              "    }\n",
              "\n",
              "    [theme=dark] .colab-df-convert:hover {\n",
              "      background-color: #434B5C;\n",
              "      box-shadow: 0px 1px 3px 1px rgba(0, 0, 0, 0.15);\n",
              "      filter: drop-shadow(0px 1px 2px rgba(0, 0, 0, 0.3));\n",
              "      fill: #FFFFFF;\n",
              "    }\n",
              "  </style>\n",
              "\n",
              "      <script>\n",
              "        const buttonEl =\n",
              "          document.querySelector('#df-d8334a72-1d63-404c-b4ee-d258d69c7ad1 button.colab-df-convert');\n",
              "        buttonEl.style.display =\n",
              "          google.colab.kernel.accessAllowed ? 'block' : 'none';\n",
              "\n",
              "        async function convertToInteractive(key) {\n",
              "          const element = document.querySelector('#df-d8334a72-1d63-404c-b4ee-d258d69c7ad1');\n",
              "          const dataTable =\n",
              "            await google.colab.kernel.invokeFunction('convertToInteractive',\n",
              "                                                     [key], {});\n",
              "          if (!dataTable) return;\n",
              "\n",
              "          const docLinkHtml = 'Like what you see? Visit the ' +\n",
              "            '<a target=\"_blank\" href=https://colab.research.google.com/notebooks/data_table.ipynb>data table notebook</a>'\n",
              "            + ' to learn more about interactive tables.';\n",
              "          element.innerHTML = '';\n",
              "          dataTable['output_type'] = 'display_data';\n",
              "          await google.colab.output.renderOutput(dataTable, element);\n",
              "          const docLink = document.createElement('div');\n",
              "          docLink.innerHTML = docLinkHtml;\n",
              "          element.appendChild(docLink);\n",
              "        }\n",
              "      </script>\n",
              "    </div>\n",
              "  </div>\n",
              "  "
            ],
            "text/plain": [
              "             GEOID                                           geometry  \\\n",
              "0       1055010700  POLYGON ((-85.98699 34.04413, -85.98606 34.045...   \n",
              "1       1055001300  POLYGON ((-86.00068 34.00537, -86.00023 34.006...   \n",
              "2       1055000900  POLYGON ((-86.07079 34.00011, -86.07076 34.000...   \n",
              "3       1055001700  POLYGON ((-85.96885 33.98825, -85.96884 33.988...   \n",
              "4       1055010501  POLYGON ((-86.07352 33.90549, -86.07337 33.906...   \n",
              "...            ...                                                ...   \n",
              "74096  72005400900  POLYGON ((-67.15551 18.44182, -67.15539 18.442...   \n",
              "74097  72127008900  POLYGON ((-66.05311 18.39677, -66.05293 18.396...   \n",
              "74098  72127009000  POLYGON ((-66.04196 18.39833, -66.04193 18.398...   \n",
              "74099  72119130702  POLYGON ((-65.86800 18.33762, -65.86785 18.338...   \n",
              "74100  72119130300  POLYGON ((-65.85254 18.40170, -65.84992 18.403...   \n",
              "\n",
              "       area_weighted_WiredCount_2020  area_weighted_Wired25_3_2020  \\\n",
              "0                           7.998633                      6.001346   \n",
              "1                           7.055336                      6.944664   \n",
              "2                           4.015455                      3.012513   \n",
              "3                           7.000000                      7.000000   \n",
              "4                           6.001636                      5.999795   \n",
              "...                              ...                           ...   \n",
              "74096                       2.000000                      2.000000   \n",
              "74097                       3.000000                      2.152785   \n",
              "74098                       3.000000                      3.000000   \n",
              "74099                       3.000000                      3.000000   \n",
              "74100                       3.000000                      3.000000   \n",
              "\n",
              "       area_weighted_Wired100_3_2020  area_weighted_BROADBAND USAGE  \\\n",
              "0                           5.999991                       0.790294   \n",
              "1                           6.000000                       0.299775   \n",
              "2                           3.012513                       0.434867   \n",
              "3                           6.031913                       0.274159   \n",
              "4                           5.999427                       0.669724   \n",
              "...                              ...                            ...   \n",
              "74096                       1.000000                       0.000000   \n",
              "74097                       2.000000                       0.000000   \n",
              "74098                       2.000000                       0.000000   \n",
              "74099                       1.000000                       0.000000   \n",
              "74100                       1.013554                       0.000000   \n",
              "\n",
              "       area_weighted_mlab_AverageMbps  area_weighted_mlab_FastestAverageMbps  \\\n",
              "0                           88.107253                             234.700064   \n",
              "1                           72.382451                             186.308738   \n",
              "2                           77.257196                             225.299216   \n",
              "3                           70.404340                             180.538852   \n",
              "4                           70.610174                             151.972623   \n",
              "...                               ...                                    ...   \n",
              "74096                       36.870000                             161.040000   \n",
              "74097                       26.515406                              52.670857   \n",
              "74098                       41.850000                              88.830000   \n",
              "74099                       43.460000                             121.800000   \n",
              "74100                       43.009462                             120.818956   \n",
              "\n",
              "       area_weighted_mlab_TestCount lisa_outlier  \n",
              "0                       4472.096953          NaN  \n",
              "1                         57.048870          NaN  \n",
              "2                        219.307307          NaN  \n",
              "3                         66.753127          NaN  \n",
              "4                       4844.645190          NaN  \n",
              "...                             ...          ...  \n",
              "74096                    113.890803           LL  \n",
              "74097                    122.058130           LL  \n",
              "74098                     46.534617           LL  \n",
              "74099                     70.675774           LL  \n",
              "74100                      6.006185           LL  \n",
              "\n",
              "[74101 rows x 10 columns]"
            ]
          },
          "execution_count": 35,
          "metadata": {},
          "output_type": "execute_result"
        }
      ],
      "source": [
        "broadband"
      ]
    },
    {
      "cell_type": "code",
      "execution_count": null,
      "metadata": {
        "id": "pt77nkxMvX6H"
      },
      "outputs": [],
      "source": [
        "broadband = broadband.rename(columns={'lisa_outlier':'broadband_usage_lisa_outlier'})"
      ]
    },
    {
      "cell_type": "code",
      "execution_count": null,
      "metadata": {
        "id": "e_CWJ5Fht1Pi"
      },
      "outputs": [],
      "source": [
        "broadband.to_csv('processed data/broadband usage with outliers.csv')"
      ]
    },
    {
      "cell_type": "code",
      "execution_count": null,
      "metadata": {
        "colab": {
          "base_uri": "https://localhost:8080/",
          "height": 35
        },
        "id": "zzlsDB1ovDoJ",
        "outputId": "dd25eeb0-2feb-4b84-9850-5fa127000123"
      },
      "outputs": [
        {
          "data": {
            "application/vnd.google.colaboratory.intrinsic+json": {
              "type": "string"
            },
            "text/plain": [
              "'broadband_percent_usage_and_number_of_providers'"
            ]
          },
          "execution_count": 38,
          "metadata": {},
          "output_type": "execute_result"
        }
      ],
      "source": [
        "to_carto(\n",
        "    broadband,\n",
        "    table_name='broadband percent usage and number of providers',\n",
        "    if_exists='replace'\n",
        ")"
      ]
    }
  ],
  "metadata": {
    "colab": {
      "collapsed_sections": [],
      "name": "05_compute broadband use local outliers and clusters.ipynb",
      "provenance": []
    },
    "kernelspec": {
      "display_name": "Python 3",
      "name": "python3"
    },
    "language_info": {
      "name": "python"
    }
  },
  "nbformat": 4,
  "nbformat_minor": 0
}
