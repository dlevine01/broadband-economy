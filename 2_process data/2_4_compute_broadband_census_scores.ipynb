{
  "cells": [
    {
      "cell_type": "markdown",
      "metadata": {
        "id": "6YUcugROCVfW"
      },
      "source": [
        "## Dependencies"
      ]
    },
    {
      "cell_type": "code",
      "source": [
        "pip install geopandas fiona watermark"
      ],
      "metadata": {
        "id": "5lEOQ4neyQLg"
      },
      "execution_count": null,
      "outputs": []
    },
    {
      "cell_type": "code",
      "execution_count": 2,
      "metadata": {
        "id": "kJ0kuZXqaiB7"
      },
      "outputs": [],
      "source": [
        "import pandas as pd\n",
        "import geopandas as gpd\n",
        "import numpy as np\n",
        "import matplotlib.pyplot as plt\n",
        "import seaborn as sb\n",
        "import fiona\n",
        "import glob"
      ]
    },
    {
      "cell_type": "code",
      "source": [
        "%reload_ext watermark\n",
        "%watermark -iv -a 'Max Magid' -u -d -v"
      ],
      "metadata": {
        "colab": {
          "base_uri": "https://localhost:8080/"
        },
        "id": "y5YsmmseWowT",
        "outputId": "e3ff9968-8cb3-42c1-8b9d-5991aab01630"
      },
      "execution_count": 3,
      "outputs": [
        {
          "output_type": "stream",
          "name": "stdout",
          "text": [
            "Author: Max Magid\n",
            "\n",
            "Last updated: 2022-08-22\n",
            "\n",
            "Python implementation: CPython\n",
            "Python version       : 3.7.13\n",
            "IPython version      : 7.9.0\n",
            "\n",
            "fiona     : 1.8.21\n",
            "seaborn   : 0.11.2\n",
            "numpy     : 1.21.6\n",
            "matplotlib: 3.2.2\n",
            "pandas    : 1.3.5\n",
            "geopandas : 0.10.2\n",
            "\n"
          ]
        }
      ]
    },
    {
      "cell_type": "code",
      "source": [
        "####---------------------------\n",
        "# run in colab only \n",
        "import os\n",
        "from google.colab import drive\n",
        "drive.mount('/content/drive')\n",
        "os.chdir('/content/drive/MyDrive/Economic Recovery Tool Capstone/git repo - fresh start to test')\n",
        "####-------------------------"
      ],
      "metadata": {
        "colab": {
          "base_uri": "https://localhost:8080/"
        },
        "id": "OUjkQyetxvLl",
        "outputId": "a3d41b25-ac09-43c9-da50-c64ff374d6ab"
      },
      "execution_count": null,
      "outputs": [
        {
          "output_type": "stream",
          "name": "stdout",
          "text": [
            "Mounted at /content/drive\n"
          ]
        }
      ]
    },
    {
      "cell_type": "markdown",
      "metadata": {
        "id": "5IWfTL0Gmuq7"
      },
      "source": [
        "## Preparing Columns to keep from ACS"
      ]
    },
    {
      "cell_type": "markdown",
      "metadata": {
        "id": "6v8jhiWpsgs8"
      },
      "source": [
        "**Columns to keep:** B28002e1, B28002e2, B28002e4"
      ]
    },
    {
      "cell_type": "code",
      "execution_count": null,
      "metadata": {
        "id": "slUh0f_IwEbp"
      },
      "outputs": [],
      "source": [
        "# Get a list of the names of each gdb\n",
        "file12=glob.glob(\"raw data/ACS_2012/*\")"
      ]
    },
    {
      "cell_type": "code",
      "execution_count": null,
      "metadata": {
        "id": "VJ3m6bD0pzp9",
        "colab": {
          "base_uri": "https://localhost:8080/"
        },
        "outputId": "d76a2ef2-dde2-411c-ebd8-6434213eddbf"
      },
      "outputs": [
        {
          "output_type": "execute_result",
          "data": {
            "text/plain": [
              "['55_WISCONSIN',\n",
              " '56_WYOMING',\n",
              " '72_PUERTO_RICO',\n",
              " '01_ALABAMA',\n",
              " '02_ALASKA',\n",
              " '04_ARIZONA',\n",
              " '05_ARKANSAS',\n",
              " '06_CALIFORNIA',\n",
              " '08_COLORADO',\n",
              " '09_CONNECTICUT',\n",
              " '10_DELAWARE',\n",
              " '11_DISTRICT_OF_COLUMBIA',\n",
              " '12_FLORIDA',\n",
              " '13_GEORGIA',\n",
              " '15_HAWAII',\n",
              " '16_IDAHO',\n",
              " '17_ILLINOIS',\n",
              " '18_INDIANA',\n",
              " '19_IOWA',\n",
              " '20_KANSAS',\n",
              " '21_KENTUCKY',\n",
              " '22_LOUISIANA',\n",
              " '23_MAINE',\n",
              " '24_MARYLAND',\n",
              " '25_MASSACHUSETTS',\n",
              " '26_MICHIGAN',\n",
              " '27_MINNESOTA',\n",
              " '28_MISSISSIPPI',\n",
              " '29_MISSOURI',\n",
              " '30_MONTANA',\n",
              " '31_NEBRASKA',\n",
              " '32_NEVADA',\n",
              " '33_NEW_HAMPSHIRE',\n",
              " '34_NEW_JERSEY',\n",
              " '35_NEW_MEXICO',\n",
              " '36_NEW_YORK',\n",
              " '37_NORTH_CAROLINA',\n",
              " '38_NORTH_DAKOTA',\n",
              " '39_OHIO',\n",
              " '40_OKLAHOMA',\n",
              " '41_OREGON',\n",
              " '42_PENNSYLVANIA',\n",
              " '44_RHODE_ISLAND',\n",
              " '45_SOUTH_CAROLINA',\n",
              " '46_SOUTH_DAKOTA',\n",
              " '47_TENNESSEE',\n",
              " '48_TEXAS',\n",
              " '49_UTAH',\n",
              " '50_VERMONT',\n",
              " '51_VIRGINIA',\n",
              " '53_WASHINGTON',\n",
              " '54_WEST_VIRGINIA']"
            ]
          },
          "metadata": {},
          "execution_count": 10
        }
      ],
      "source": [
        "# This returns just the names and numbers of each state in the file- we can use this in our loop below\n",
        "exten=[]\n",
        "for i in range(len(file12)):\n",
        "  exten.append(file12[i][37:-4])\n",
        "exten"
      ]
    },
    {
      "cell_type": "markdown",
      "metadata": {
        "id": "r5vSeyCDwBFE"
      },
      "source": [
        "## Creating 2019 Dataset"
      ]
    },
    {
      "cell_type": "code",
      "execution_count": null,
      "metadata": {
        "id": "10sa_yOtwPO5"
      },
      "outputs": [],
      "source": [
        "# Create a list of the dataframe I created for each state\n",
        "ls_19=fiona.listlayers('raw data/ACS_2019/ACS_2019_5YR_TRACT_01_ALABAMA.gdb')\n",
        "combo_lists=[]\n",
        "for n in exten:\n",
        "  df28=gpd.read_file(f'raw data/ACS_2019/ACS_2019_5YR_TRACT_{n}.gdb',\n",
        "                     layer=ls_19.index('X28_COMPUTER_AND_INTERNET_USE'))\n",
        "  df28=df28[['GEOID','B28002e1', 'B28002e2', 'B28002e4']].rename(columns={'B28002e1':'households','B28002e2':'has_internet','B28002e4':'has_broadband'})\n",
        "  combo_lists.append(df28)"
      ]
    },
    {
      "cell_type": "code",
      "execution_count": null,
      "metadata": {
        "id": "lrPOyDYm0Www"
      },
      "outputs": [],
      "source": [
        "#Concatenate into one large dataframe\n",
        "bband19=pd.concat(combo_lists)"
      ]
    },
    {
      "cell_type": "code",
      "execution_count": null,
      "metadata": {
        "id": "qOty54YJytvm"
      },
      "outputs": [],
      "source": [
        "#Export\n",
        "bband19.to_csv('processed data/bband_2019.csv')"
      ]
    },
    {
      "cell_type": "markdown",
      "metadata": {
        "id": "RJSTFGcz0eBa"
      },
      "source": [
        "## Creating 2018 Dataset"
      ]
    },
    {
      "cell_type": "code",
      "execution_count": null,
      "metadata": {
        "id": "CwYVruRM0l5g",
        "scrolled": true
      },
      "outputs": [],
      "source": [
        "# Create a list of the dataframe I created for each state\n",
        "ls_18=fiona.listlayers('raw data/ACS_2018/ACS_2018_5YR_TRACT_01_ALABAMA.gdb')\n",
        "combo_lists=[]\n",
        "for n in exten:\n",
        "  df28=gpd.read_file(f'raw data/ACS_2018/ACS_2018_5YR_TRACT_{n}.gdb',\n",
        "                     layer=ls_18.index('X28_COMPUTER_AND_INTERNET_USE'))\n",
        "  df28=df28[['GEOID','B28002e1', 'B28002e2', 'B28002e4']].rename(columns={'B28002e1':'households','B28002e2':'has_internet','B28002e4':'has_broadband'})\n",
        "  combo_lists.append(df28)\n",
        "\n"
      ]
    },
    {
      "cell_type": "code",
      "execution_count": null,
      "metadata": {
        "id": "C9kYbTjjxnV1"
      },
      "outputs": [],
      "source": [
        "#Concatenate into one large dataframe\n",
        "bband18=pd.concat(combo_lists)"
      ]
    },
    {
      "cell_type": "code",
      "execution_count": null,
      "metadata": {
        "id": "5-Ot2ZFj4yVM"
      },
      "outputs": [],
      "source": [
        "#Export\n",
        "bband18.to_csv('processed data/bband_2018.csv')"
      ]
    },
    {
      "cell_type": "markdown",
      "metadata": {
        "id": "gR2wm-TP09RE"
      },
      "source": [
        "## Creating 2017 Dataset"
      ]
    },
    {
      "cell_type": "code",
      "execution_count": null,
      "metadata": {
        "id": "928qcu6L09RF"
      },
      "outputs": [],
      "source": [
        "ls_17=fiona.listlayers('raw data/ACS_2017/ACS_2017_5YR_TRACT_01_ALABAMA.gdb')\n",
        "combo_lists=[]\n",
        "for n in exten:\n",
        "  df28=gpd.read_file(f'raw data/ACS_2017/ACS_2017_5YR_TRACT_{n}.gdb',\n",
        "                     layer=ls_17.index('X28_COMPUTER_AND_INTERNET_USE'))\n",
        "  df28=df28[['GEOID','B28002e1', 'B28002e2', 'B28002e4']].rename(columns={'B28002e1':'households','B28002e2':'has_internet','B28002e4':'has_broadband'})\n",
        "  combo_lists.append(df28)\n"
      ]
    },
    {
      "cell_type": "code",
      "execution_count": null,
      "metadata": {
        "id": "4Ff-G_-wxnV3"
      },
      "outputs": [],
      "source": [
        "#Concatenate into one large dataframe\n",
        "bband17=pd.concat(combo_lists)"
      ]
    },
    {
      "cell_type": "code",
      "execution_count": null,
      "metadata": {
        "id": "eVcyxzwt_yI3"
      },
      "outputs": [],
      "source": [
        "#Export\n",
        "bband17.to_csv('processed data/bband_2017.csv')"
      ]
    }
  ],
  "metadata": {
    "colab": {
      "name": "04_compute broadband census scores.ipynb",
      "provenance": []
    },
    "kernelspec": {
      "display_name": "Python 3 (ipykernel)",
      "language": "python",
      "name": "python3"
    },
    "language_info": {
      "codemirror_mode": {
        "name": "ipython",
        "version": 3
      },
      "file_extension": ".py",
      "mimetype": "text/x-python",
      "name": "python",
      "nbconvert_exporter": "python",
      "pygments_lexer": "ipython3",
      "version": "3.10.4"
    }
  },
  "nbformat": 4,
  "nbformat_minor": 0
}