{
  "cells": [
    {
      "cell_type": "markdown",
      "metadata": {
        "id": "uGjgQlCckXEO"
      },
      "source": [
        "## set environment"
      ]
    },
    {
      "cell_type": "code",
      "execution_count": null,
      "metadata": {
        "id": "xnXHoxt_EsGd"
      },
      "outputs": [],
      "source": [
        "pip install geopandas pygeos watermark"
      ]
    },
    {
      "cell_type": "code",
      "execution_count": 2,
      "metadata": {
        "colab": {
          "base_uri": "https://localhost:8080/"
        },
        "id": "xR1lOF5BEuWF",
        "outputId": "a5a2b264-9c97-48e9-ab42-df27f9e9bbe4"
      },
      "outputs": [
        {
          "name": "stderr",
          "output_type": "stream",
          "text": [
            "/usr/local/lib/python3.7/dist-packages/geopandas/_compat.py:115: UserWarning: The Shapely GEOS version (3.10.3-CAPI-1.16.1) is incompatible with the GEOS version PyGEOS was compiled with (3.10.1-CAPI-1.16.0). Conversions between both will be slow.\n",
            "  shapely_geos_version, geos_capi_version_string\n"
          ]
        }
      ],
      "source": [
        "import pandas as pd\n",
        "import numpy as np\n",
        "import geopandas as gpd\n",
        "import pygeos\n",
        "from tqdm import tqdm"
      ]
    },
    {
      "cell_type": "code",
      "execution_count": 3,
      "metadata": {
        "colab": {
          "base_uri": "https://localhost:8080/"
        },
        "id": "gszM8-oKJ_Bz",
        "outputId": "0f58471a-6ca0-454a-8993-235fb8cde0a1"
      },
      "outputs": [
        {
          "name": "stdout",
          "output_type": "stream",
          "text": [
            "Author: Dan Levine\n",
            "\n",
            "Last updated: 2022-08-22\n",
            "\n",
            "Python implementation: CPython\n",
            "Python version       : 3.7.13\n",
            "IPython version      : 7.9.0\n",
            "\n",
            "pandas   : 1.3.5\n",
            "numpy    : 1.21.6\n",
            "pygeos   : 0.12.0\n",
            "geopandas: 0.10.2\n",
            "\n"
          ]
        }
      ],
      "source": [
        "%reload_ext watermark\n",
        "%watermark -iv -a 'Dan Levine' -u -d -v"
      ]
    },
    {
      "cell_type": "markdown",
      "metadata": {
        "id": "NPUH1F5JpMJH"
      },
      "source": [
        "## read in tracts geom"
      ]
    },
    {
      "cell_type": "code",
      "execution_count": null,
      "metadata": {
        "id": "5liwD9rDnG1n"
      },
      "outputs": [],
      "source": [
        "tracts_geom = gpd.read_file(\n",
        "    'raw data/tracts_clipped.zip',\n",
        "    ignore_fields=['STATEFP', 'COUNTYFP', 'TRACTCE', 'AFFGEOID','NAME', 'LSAD',\n",
        "       'ALAND', 'AWATER'])"
      ]
    },
    {
      "cell_type": "code",
      "execution_count": null,
      "metadata": {
        "id": "IHTNFNQDSsSP"
      },
      "outputs": [],
      "source": [
        "tracts_geom = tracts_geom.to_crs('EPSG:4326')"
      ]
    },
    {
      "cell_type": "code",
      "execution_count": null,
      "metadata": {
        "id": "z-FpN3A9ZkXI"
      },
      "outputs": [],
      "source": [
        "tracts_geom['GEOID'] = pd.to_numeric(tracts_geom['GEOID'])"
      ]
    },
    {
      "cell_type": "markdown",
      "metadata": {
        "id": "c0AEKBBm5Bny"
      },
      "source": [
        "## get, join, and process ookla data by year"
      ]
    },
    {
      "cell_type": "code",
      "execution_count": null,
      "metadata": {
        "id": "ydDwkyBA5BGp"
      },
      "outputs": [],
      "source": [
        "years = [2019, 2020, 2021]\n",
        "quarters = [1,2,3,4]"
      ]
    },
    {
      "cell_type": "code",
      "execution_count": null,
      "metadata": {
        "colab": {
          "base_uri": "https://localhost:8080/"
        },
        "id": "N-SgrKHpOcby",
        "outputId": "b8cc6873-9b59-4186-b70e-b10218a1cf68"
      },
      "outputs": [
        {
          "name": "stderr",
          "output_type": "stream",
          "text": [
            "100%|██████████| 4/4 [01:18<00:00, 19.60s/it]\n"
          ]
        },
        {
          "name": "stdout",
          "output_type": "stream",
          "text": [
            "___ saved: 2019 ___\n"
          ]
        },
        {
          "name": "stderr",
          "output_type": "stream",
          "text": [
            "100%|██████████| 4/4 [01:13<00:00, 18.33s/it]\n"
          ]
        }
      ],
      "source": [
        "for year in years:\n",
        "  \n",
        "  year_data_list = []\n",
        "  \n",
        "  for quarter in tqdm(quarters):   \n",
        "\n",
        "    ## to fetch directly from source, uncomment below and comment out local path\n",
        "    #month = str((1 + (quarter-1)*3)).zfill(2)\n",
        "    #quarter_data_path = f'https://ookla-open-data.s3.amazonaws.com/parquet/performance/type=fixed/year={year}/quarter={quarter}/{year}-{month}-01_performance_fixed_tiles.parquet'\n",
        "    \n",
        "    ## to load from local directory\n",
        "    quarter_data_path = f'raw data/ookla/{year}-Q{quarter}.parquet'\n",
        "    \n",
        "    quarter_data = pd.read_parquet(quarter_data_path)\n",
        "\n",
        "    # filter to North America\n",
        "    quarter_data = quarter_data[quarter_data['quadkey'].str.slice(stop=2).isin(['00','01','02','03'])]\n",
        "\n",
        "    year_data_list.append(quarter_data)\n",
        "  \n",
        "  year_data = pd.concat(year_data_list, ignore_index=True)\n",
        "\n",
        "  year_data_geo = gpd.GeoDataFrame(\n",
        "    data = year_data[['avg_d_kbps', 'avg_u_kbps', 'avg_lat_ms', 'tests','devices']],\n",
        "    geometry = gpd.GeoSeries.from_wkt(\n",
        "        year_data['tile'], \n",
        "        crs = 'EPSG:4326'\n",
        "    )\n",
        "  )\n",
        "\n",
        "  year_tracts_tiles = tracts_geom.sjoin(year_data_geo)\n",
        "\n",
        "\n",
        "  year_tracts_tiles = year_tracts_tiles.set_index('GEOID')\n",
        "  year_tracts_tiles['total_tract_tests'] = year_tracts_tiles.groupby('GEOID')['tests'].sum()\n",
        "  year_tracts_tiles['weighting_by_tests'] = year_tracts_tiles['tests'] / year_tracts_tiles['total_tract_tests'] \n",
        "\n",
        "  year_tracts_tiles = year_tracts_tiles.assign(\n",
        "    weighted_avg_d_kbps = year_tracts_tiles['avg_d_kbps'] * year_tracts_tiles['weighting_by_tests'],\n",
        "    weighted_avg_u_kbps = year_tracts_tiles['avg_u_kbps'] * year_tracts_tiles['weighting_by_tests'],\n",
        "    weighted_avg_lat_ms = year_tracts_tiles['avg_lat_ms'] * year_tracts_tiles['weighting_by_tests']\n",
        "    )\n",
        "  \n",
        "  year_weighted_results = year_tracts_tiles.groupby('GEOID')[['weighted_avg_d_kbps','weighted_avg_u_kbps','weighted_avg_lat_ms']].sum()\n",
        "  year_weighted_results['total_tract_tests'] = year_tracts_tiles.groupby('GEOID')['total_tract_tests'].min()\n",
        "\n",
        "  year_weighted_results.to_csv(f'processed data/{year}__ookla_by_tract.csv')\n",
        "  print(f'___ saved: {year} ___')"
      ]
    }
  ],
  "metadata": {
    "colab": {
      "collapsed_sections": [],
      "machine_shape": "hm",
      "name": "02_spatial join from all ookla tiles to Tracts.ipynb",
      "provenance": []
    },
    "gpuClass": "standard",
    "kernelspec": {
      "display_name": "Python 3",
      "name": "python3"
    },
    "language_info": {
      "name": "python"
    }
  },
  "nbformat": 4,
  "nbformat_minor": 0
}
