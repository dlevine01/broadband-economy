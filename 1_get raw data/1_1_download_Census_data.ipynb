{
  "cells": [
    {
      "cell_type": "markdown",
      "metadata": {
        "id": "Ch_VwBEdClQj"
      },
      "source": [
        "Caution! This code will download 166 GB of Census data. Ensure you have sufficient space available. "
      ]
    },
    {
      "cell_type": "code",
      "execution_count": null,
      "metadata": {
        "id": "pDtiRNF4E9HI"
      },
      "outputs": [],
      "source": [
        "pip install geopandas fiona watermark"
      ]
    },
    {
      "cell_type": "code",
      "execution_count": 2,
      "metadata": {
        "id": "xo77tpNcLDEk"
      },
      "outputs": [],
      "source": [
        "import pandas as pd\n",
        "import geopandas as gpd\n",
        "import numpy as np\n",
        "import seaborn as sb\n",
        "import fiona\n",
        "import urllib.request\n",
        "import zipfile\n",
        "from urllib.request import urlopen\n",
        "from zipfile import ZipFile\n",
        "from tqdm import tqdm"
      ]
    },
    {
      "cell_type": "code",
      "execution_count": 3,
      "metadata": {
        "colab": {
          "base_uri": "https://localhost:8080/"
        },
        "id": "Bi10eWaEUGl5",
        "outputId": "f9d03dbd-16ba-4cbf-d9b1-f78ce5bc47f0"
      },
      "outputs": [
        {
          "name": "stdout",
          "output_type": "stream",
          "text": [
            "Author: Max Magid\n",
            "\n",
            "Last updated: 2022-08-22\n",
            "\n",
            "Python implementation: CPython\n",
            "Python version       : 3.7.13\n",
            "IPython version      : 7.9.0\n",
            "\n",
            "seaborn  : 0.11.2\n",
            "fiona    : 1.8.21\n",
            "pandas   : 1.3.5\n",
            "numpy    : 1.21.6\n",
            "geopandas: 0.10.2\n",
            "\n"
          ]
        }
      ],
      "source": [
        "%reload_ext watermark\n",
        "%watermark -iv -a 'Max Magid' -u -d -v"
      ]
    },
    {
      "cell_type": "code",
      "execution_count": null,
      "metadata": {
        "id": "VGIWoZ-lPVFf"
      },
      "outputs": [],
      "source": [
        "# Numbers corresponding to state and territory codes\n",
        "title_numbers=['01','02','04','05','06','08','09','10','11','12','13','15','16','17','18','19','20','21','22',\n",
        "               '23','24','25','26','27','28','29','30','31','32','33','34','35','36','37','38','39','40','41','42',\n",
        "               '44','45','46','47','48','49','50','51','53','54','55','56','72']"
      ]
    },
    {
      "cell_type": "code",
      "execution_count": null,
      "metadata": {
        "colab": {
          "base_uri": "https://localhost:8080/"
        },
        "id": "l0WOk8dHPu1X",
        "outputId": "5c882d69-3bd8-4894-cfa5-65ce5ca713b1"
      },
      "outputs": [
        {
          "name": "stderr",
          "output_type": "stream",
          "text": [
            "100%|██████████| 52/52 [50:08<00:00, 57.85s/it]\n"
          ]
        }
      ],
      "source": [
        "### Generate a combined gdp for every state and territory by extracting from a zip file\n",
        "for n in tqdm(title_numbers):\n",
        "        #url of where to fetch data\n",
        "    zipurl = f'https://www2.census.gov/geo/tiger/TIGER_DP/2019ACS/ACS_2019_5YR_TRACT_{n}.gdb.zip'\n",
        "        # Download the file from the URL\n",
        "    zipresp = urlopen(zipurl)\n",
        "        # Create a new file on the hard drive\n",
        "    tempzip = open(\"/tmp/tempfile.zip\", \"wb\")\n",
        "        # Write the contents of the downloaded file into the new file\n",
        "    tempzip.write(zipresp.read())\n",
        "        # Close the newly-created file\n",
        "    tempzip.close()\n",
        "        # Re-open the newly-created file with ZipFile()\n",
        "    zf = ZipFile(\"/tmp/tempfile.zip\")\n",
        "        # Extract its contents into <extraction_path>\n",
        "        # note that extractall will automatically create the path\n",
        "    zf.extractall(path='raw data/ACS_2019')\n",
        "        # close the ZipFile instance\n",
        "    zf.close()"
      ]
    },
    {
      "cell_type": "code",
      "execution_count": null,
      "metadata": {
        "colab": {
          "base_uri": "https://localhost:8080/"
        },
        "id": "n8_vobyFQ7MO",
        "outputId": "dea34b85-b5b1-47a1-e1c7-fc07eab53ca2"
      },
      "outputs": [
        {
          "name": "stderr",
          "output_type": "stream",
          "text": [
            "100%|██████████| 52/52 [44:21<00:00, 51.19s/it]\n"
          ]
        }
      ],
      "source": [
        "### Generate a combined gdp for every state and territory by extracting from a zip file\n",
        "for n in tqdm(title_numbers):\n",
        "    zipurl = f'https://www2.census.gov/geo/tiger/TIGER_DP/2018ACS/ACS_2018_5YR_TRACT_{n}.gdb.zip'\n",
        "        # Download the file from the URL\n",
        "    zipresp = urlopen(zipurl)\n",
        "        # Create a new file on the hard drive\n",
        "    tempzip = open(\"/tmp/tempfile.zip\", \"wb\")\n",
        "        # Write the contents of the downloaded file into the new file\n",
        "    tempzip.write(zipresp.read())\n",
        "        # Close the newly-created file\n",
        "    tempzip.close()\n",
        "        # Re-open the newly-created file with ZipFile()\n",
        "    zf = ZipFile(\"/tmp/tempfile.zip\")\n",
        "        # Extract its contents into <extraction_path>\n",
        "        # note that extractall will automatically create the path\n",
        "    zf.extractall(path='raw data/ACS_2018')\n",
        "        # close the ZipFile instance\n",
        "    zf.close()"
      ]
    },
    {
      "cell_type": "code",
      "execution_count": null,
      "metadata": {
        "colab": {
          "base_uri": "https://localhost:8080/"
        },
        "id": "nZUssaDbCpN4",
        "outputId": "b039193e-20d7-45d2-add1-39907956dd79"
      },
      "outputs": [
        {
          "name": "stderr",
          "output_type": "stream",
          "text": [
            "100%|██████████| 52/52 [11:17<00:00, 13.02s/it]\n"
          ]
        }
      ],
      "source": [
        "for n in tqdm(title_numbers):\n",
        "    zipurl = f'https://www2.census.gov/geo/tiger/TIGER_DP/2017ACS/ACS_2017_5YR_TRACT_{n}.gdb.zip'\n",
        "        # Download the file from the URL\n",
        "    zipresp = urlopen(zipurl)\n",
        "        # Create a new file on the hard drive\n",
        "    tempzip = open(\"/tmp/tempfile.zip\", \"wb\")\n",
        "        # Write the contents of the downloaded file into the new file\n",
        "    tempzip.write(zipresp.read())\n",
        "        # Close the newly-created file\n",
        "    tempzip.close()\n",
        "        # Re-open the newly-created file with ZipFile()\n",
        "    zf = ZipFile(\"/tmp/tempfile.zip\")\n",
        "        # Extract its contents into <extraction_path>\n",
        "        # note that extractall will automatically create the path\n",
        "    zf.extractall(path='raw data/ACS_2017')\n",
        "        # close the ZipFile instance\n",
        "    zf.close()"
      ]
    },
    {
      "cell_type": "code",
      "execution_count": null,
      "metadata": {
        "colab": {
          "base_uri": "https://localhost:8080/"
        },
        "id": "XsxjxvGZWLgc",
        "outputId": "2b18423e-345c-4b75-809a-d55f293fe384"
      },
      "outputs": [
        {
          "name": "stderr",
          "output_type": "stream",
          "text": [
            "100%|██████████| 52/52 [13:25<00:00, 15.49s/it]\n"
          ]
        }
      ],
      "source": [
        "for n in tqdm(title_numbers):\n",
        "    zipurl = f'https://www2.census.gov/geo/tiger/TIGER_DP/2016ACS/ACS_2016_5YR_TRACT_{n}.gdb.zip'\n",
        "        # Download the file from the URL\n",
        "    zipresp = urlopen(zipurl)\n",
        "        # Create a new file on the hard drive\n",
        "    tempzip = open(\"/tmp/tempfile.zip\", \"wb\")\n",
        "        # Write the contents of the downloaded file into the new file\n",
        "    tempzip.write(zipresp.read())\n",
        "        # Close the newly-created file\n",
        "    tempzip.close()\n",
        "        # Re-open the newly-created file with ZipFile()\n",
        "    zf = ZipFile(\"/tmp/tempfile.zip\")\n",
        "        # Extract its contents into <extraction_path>\n",
        "        # note that extractall will automatically create the path\n",
        "    zf.extractall(path='raw data/ACS_2016')\n",
        "        # close the ZipFile instance\n",
        "    zf.close()"
      ]
    },
    {
      "cell_type": "code",
      "execution_count": null,
      "metadata": {
        "id": "1wrxEdibx2p3"
      },
      "outputs": [],
      "source": [
        "for n in tqdm(title_numbers):\n",
        "    zipurl = f'https://www2.census.gov/geo/tiger/TIGER_DP/2015ACS/ACS_2015_5YR_TRACT_{n}.gdb.zip'\n",
        "        # Download the file from the URL\n",
        "    zipresp = urlopen(zipurl)\n",
        "        # Create a new file on the hard drive\n",
        "    tempzip = open(\"/tmp/tempfile.zip\", \"wb\")\n",
        "        # Write the contents of the downloaded file into the new file\n",
        "    tempzip.write(zipresp.read())\n",
        "        # Close the newly-created file\n",
        "    tempzip.close()\n",
        "        # Re-open the newly-created file with ZipFile()\n",
        "    zf = ZipFile(\"/tmp/tempfile.zip\")\n",
        "        # Extract its contents into <extraction_path>\n",
        "        # note that extractall will automatically create the path\n",
        "    zf.extractall(path='raw data/ACS_2015')\n",
        "        # close the ZipFile instance\n",
        "    zf.close()"
      ]
    },
    {
      "cell_type": "code",
      "execution_count": null,
      "metadata": {
        "colab": {
          "base_uri": "https://localhost:8080/"
        },
        "id": "Ezbyn8sOH93Z",
        "outputId": "cf4c2f3d-a17b-4cb7-877b-228e7b44c19d"
      },
      "outputs": [
        {
          "name": "stderr",
          "output_type": "stream",
          "text": [
            "100%|██████████| 52/52 [11:11<00:00, 12.91s/it]\n"
          ]
        }
      ],
      "source": [
        "for n in tqdm(title_numbers):\n",
        "    zipurl = f'https://www2.census.gov/geo/tiger/TIGER_DP/2014ACS/ACS_2014_5YR_TRACT_{n}.gdb.zip'\n",
        "        # Download the file from the URL\n",
        "    zipresp = urlopen(zipurl)\n",
        "        # Create a new file on the hard drive\n",
        "    tempzip = open(\"/tmp/tempfile.zip\", \"wb\")\n",
        "        # Write the contents of the downloaded file into the new file\n",
        "    tempzip.write(zipresp.read())\n",
        "        # Close the newly-created file\n",
        "    tempzip.close()\n",
        "        # Re-open the newly-created file with ZipFile()\n",
        "    zf = ZipFile(\"/tmp/tempfile.zip\")\n",
        "        # Extract its contents into <extraction_path>\n",
        "        # note that extractall will automatically create the path\n",
        "    zf.extractall(path='raw data/ACS_2014')\n",
        "        # close the ZipFile instance\n",
        "    zf.close()"
      ]
    },
    {
      "cell_type": "code",
      "execution_count": null,
      "metadata": {
        "colab": {
          "base_uri": "https://localhost:8080/"
        },
        "id": "MuqAVle_SAy0",
        "outputId": "e05d54e7-74d0-4ad2-cf27-de57a9283c3b"
      },
      "outputs": [
        {
          "name": "stderr",
          "output_type": "stream",
          "text": [
            "100%|██████████| 52/52 [09:26<00:00, 10.90s/it]\n"
          ]
        }
      ],
      "source": [
        "for n in tqdm(title_numbers):\n",
        "    zipurl = f'https://www2.census.gov/geo/tiger/TIGER_DP/2013ACS/ACS_2013_5YR_TRACT_{n}.gdb.zip'\n",
        "        # Download the file from the URL\n",
        "    zipresp = urlopen(zipurl)\n",
        "        # Create a new file on the hard drive\n",
        "    tempzip = open(\"/tmp/tempfile.zip\", \"wb\")\n",
        "        # Write the contents of the downloaded file into the new file\n",
        "    tempzip.write(zipresp.read())\n",
        "        # Close the newly-created file\n",
        "    tempzip.close()\n",
        "        # Re-open the newly-created file with ZipFile()\n",
        "    zf = ZipFile(\"/tmp/tempfile.zip\")\n",
        "        # Extract its contents into <extraction_path>\n",
        "        # note that extractall will automatically create the path\n",
        "    zf.extractall(path='raw data/ACS_2013')\n",
        "        # close the ZipFile instance\n",
        "    zf.close()"
      ]
    },
    {
      "cell_type": "code",
      "execution_count": null,
      "metadata": {
        "colab": {
          "base_uri": "https://localhost:8080/"
        },
        "id": "W1VOB5ke1ug5",
        "outputId": "109d3e19-2204-43c9-8fb9-604e4a046de9"
      },
      "outputs": [
        {
          "name": "stderr",
          "output_type": "stream",
          "text": [
            "100%|██████████| 3/3 [00:16<00:00,  5.47s/it]\n"
          ]
        }
      ],
      "source": [
        "for n in tqdm([55,56,72]):\n",
        "    zipurl = f'https://www2.census.gov/geo/tiger/TIGER_DP/2012ACS/ACS_2012_5YR_TRACT_{n}.gdb.zip'\n",
        "        # Download the file from the URL\n",
        "    zipresp = urlopen(zipurl)\n",
        "        # Create a new file on the hard drive\n",
        "    tempzip = open(\"/tmp/tempfile.zip\", \"wb\")\n",
        "        # Write the contents of the downloaded file into the new file\n",
        "    tempzip.write(zipresp.read())\n",
        "        # Close the newly-created file\n",
        "    tempzip.close()\n",
        "        # Re-open the newly-created file with ZipFile()\n",
        "    zf = ZipFile(\"/tmp/tempfile.zip\")\n",
        "        # Extract its contents into <extraction_path>\n",
        "        # note that extractall will automatically create the path\n",
        "    zf.extractall(path='raw data/ACS_2012')\n",
        "        # close the ZipFile instance\n",
        "    zf.close()"
      ]
    },
    {
      "cell_type": "code",
      "execution_count": null,
      "metadata": {
        "colab": {
          "base_uri": "https://localhost:8080/"
        },
        "id": "mBZAfh8sC9sK",
        "outputId": "c28a8eac-6e9a-4af1-d825-0fece4325c76"
      },
      "outputs": [
        {
          "name": "stderr",
          "output_type": "stream",
          "text": [
            "100%|██████████| 52/52 [12:29<00:00, 14.41s/it]\n"
          ]
        }
      ],
      "source": [
        "for n in tqdm(title_numbers):\n",
        "    zipurl = f'https://www2.census.gov/geo/tiger/TIGER_DP/2012ACS/ACS_2012_5YR_TRACT_{n}.gdb.zip'\n",
        "        # Download the file from the URL\n",
        "    zipresp = urlopen(zipurl)\n",
        "        # Create a new file on the hard drive\n",
        "    tempzip = open(\"/tmp/tempfile.zip\", \"wb\")\n",
        "        # Write the contents of the downloaded file into the new file\n",
        "    tempzip.write(zipresp.read())\n",
        "        # Close the newly-created file\n",
        "    tempzip.close()\n",
        "        # Re-open the newly-created file with ZipFile()\n",
        "    zf = ZipFile(\"/tmp/tempfile.zip\")\n",
        "        # Extract its contents into <extraction_path>\n",
        "        # note that extractall will automatically create the path\n",
        "    zf.extractall(path='raw data/ACS_2012')\n",
        "        # close the ZipFile instance\n",
        "    zf.close()"
      ]
    }
  ],
  "metadata": {
    "colab": {
      "collapsed_sections": [],
      "machine_shape": "hm",
      "name": "01_download Census data.ipynb",
      "provenance": []
    },
    "gpuClass": "standard",
    "kernelspec": {
      "display_name": "Python 3 (ipykernel)",
      "language": "python",
      "name": "python3"
    },
    "language_info": {
      "codemirror_mode": {
        "name": "ipython",
        "version": 3
      },
      "file_extension": ".py",
      "mimetype": "text/x-python",
      "name": "python",
      "nbconvert_exporter": "python",
      "pygments_lexer": "ipython3",
      "version": "3.10.4"
    }
  },
  "nbformat": 4,
  "nbformat_minor": 0
}
