{
  "cells": [
    {
      "cell_type": "code",
      "execution_count": 1,
      "metadata": {
        "colab": {
          "base_uri": "https://localhost:8080/"
        },
        "id": "DteV5MTo17xc",
        "outputId": "385468f2-304e-496d-8bec-aae214536865"
      },
      "outputs": [
        {
          "name": "stdout",
          "output_type": "stream",
          "text": [
            "\u001b[K     |████████████████████████████████| 1.0 MB 13.1 MB/s \n",
            "\u001b[K     |████████████████████████████████| 6.3 MB 15.6 MB/s \n",
            "\u001b[K     |████████████████████████████████| 16.7 MB 66.8 MB/s \n",
            "\u001b[K     |████████████████████████████████| 1.6 MB 71.5 MB/s \n",
            "\u001b[?25h"
          ]
        }
      ],
      "source": [
        "pip install geopandas watermark -q"
      ]
    },
    {
      "cell_type": "code",
      "execution_count": 2,
      "metadata": {
        "id": "Hp9WBRe7Ej-M"
      },
      "outputs": [],
      "source": [
        "import os\n",
        "import pandas as pd\n",
        "import numpy as np\n",
        "import geopandas as gpd"
      ]
    },
    {
      "cell_type": "code",
      "execution_count": 3,
      "metadata": {
        "colab": {
          "base_uri": "https://localhost:8080/"
        },
        "id": "DxvyOjp-UbfH",
        "outputId": "ec2857ad-cd2c-4d22-ae98-6a9e816bac9d"
      },
      "outputs": [
        {
          "name": "stdout",
          "output_type": "stream",
          "text": [
            "Author: Dan Levine\n",
            "\n",
            "Last updated: 2022-08-22\n",
            "\n",
            "Python implementation: CPython\n",
            "Python version       : 3.7.13\n",
            "IPython version      : 7.9.0\n",
            "\n",
            "numpy    : 1.21.6\n",
            "pandas   : 1.3.5\n",
            "geopandas: 0.10.2\n",
            "\n"
          ]
        }
      ],
      "source": [
        "%reload_ext watermark\n",
        "%watermark -iv -a 'Dan Levine' -u -d -v"
      ]
    },
    {
      "cell_type": "code",
      "execution_count": null,
      "metadata": {
        "id": "23DTh4L01ror"
      },
      "outputs": [],
      "source": [
        "if not os.path.exists('raw data'):\n",
        "  os.mkdir('raw data')\n",
        "os.chdir('raw data')"
      ]
    },
    {
      "cell_type": "markdown",
      "metadata": {
        "id": "7vRTBAmTFB_t"
      },
      "source": [
        "## fetch geometries"
      ]
    },
    {
      "cell_type": "markdown",
      "metadata": {
        "id": "Losj17prpiY2"
      },
      "source": [
        "#### Tracts"
      ]
    },
    {
      "cell_type": "code",
      "execution_count": null,
      "metadata": {
        "id": "4LyrIPWFp_RH"
      },
      "outputs": [],
      "source": [
        "# download Tracts from all states"
      ]
    },
    {
      "cell_type": "code",
      "execution_count": null,
      "metadata": {
        "id": "IUOP4Hcj1x2i"
      },
      "outputs": [],
      "source": [
        "if not os.path.exists('tracts'):\n",
        "  os.mkdir('tracts')\n",
        "os.chdir('tracts')"
      ]
    },
    {
      "cell_type": "code",
      "execution_count": null,
      "metadata": {
        "id": "Gj95U4LJQf17"
      },
      "outputs": [],
      "source": [
        "!curl \"https://www2.census.gov/geo/tiger/TIGER2019/TRACT/tl_2019_[01-78]_tract.zip\" --output \"#1.zip\""
      ]
    },
    {
      "cell_type": "code",
      "execution_count": null,
      "metadata": {
        "id": "8suvE_icqMcE"
      },
      "outputs": [],
      "source": [
        "# combine. open each state (skip numbers that don't have data), then append\n",
        "\n",
        "tracts_geom = gpd.read_file('01.zip')\n",
        "\n",
        "for state_fips in range(2,78):\n",
        "  state_fips = str(state_fips).zfill(2)\n",
        "  try:\n",
        "    state_tracts_geom = gpd.read_file(f'{state_fips}.zip')\n",
        "  except:\n",
        "    continue\n",
        "\n",
        "  tracts_geom = tracts_geom.append(state_tracts_geom)"
      ]
    },
    {
      "cell_type": "code",
      "execution_count": null,
      "metadata": {
        "colab": {
          "base_uri": "https://localhost:8080/",
          "height": 159
        },
        "id": "FSSYu-9QUAtq",
        "outputId": "0f467845-bbc3-4cbf-fc5c-59bd5648efdc"
      },
      "outputs": [
        {
          "data": {
            "text/plain": [
              "<matplotlib.axes._subplots.AxesSubplot at 0x7fc5afd01250>"
            ]
          },
          "execution_count": 11,
          "metadata": {},
          "output_type": "execute_result"
        },
        {
          "data": {
            "image/png": "[encoded data removed]",
            "text/plain": [
              "<Figure size 432x288 with 1 Axes>"
            ]
          },
          "metadata": {
            "needs_background": "light"
          },
          "output_type": "display_data"
        }
      ],
      "source": [
        "tracts_geom.plot()"
      ]
    },
    {
      "cell_type": "code",
      "execution_count": null,
      "metadata": {
        "id": "y3uMrf_t6q8W"
      },
      "outputs": [],
      "source": [
        "os.chdir('..')"
      ]
    },
    {
      "cell_type": "code",
      "execution_count": null,
      "metadata": {
        "id": "-3K88OtUBtGf"
      },
      "outputs": [],
      "source": [
        "os.mkdir('all_tracts_2019')\n",
        "tracts_geom.to_file('all_tracts_2019/all_tracts_2019.shp')"
      ]
    },
    {
      "cell_type": "markdown",
      "metadata": {
        "id": "qWEh3kqfnhDn"
      },
      "source": [
        "#### Tracts clipped to shoreline"
      ]
    },
    {
      "cell_type": "code",
      "execution_count": null,
      "metadata": {
        "colab": {
          "base_uri": "https://localhost:8080/"
        },
        "id": "i_l3Jbi4ngng",
        "outputId": "c546e734-2904-4259-fead-3389e6b7a75b"
      },
      "outputs": [
        {
          "name": "stdout",
          "output_type": "stream",
          "text": [
            "  % Total    % Received % Xferd  Average Speed   Time    Time     Time  Current\n",
            "                                 Dload  Upload   Total   Spent    Left  Speed\n",
            "100 49.7M    0 49.7M    0     0  20.1M      0 --:--:--  0:00:02 --:--:-- 20.1M\n"
          ]
        }
      ],
      "source": [
        "# from https://www.census.gov/geographies/mapping-files/time-series/geo/cartographic-boundary.2019.html\n",
        "\n",
        "!curl \"https://www2.census.gov/geo/tiger/GENZ2019/shp/cb_2019_us_tract_500k.zip\" --output \"tracts_clipped.zip\""
      ]
    },
    {
      "cell_type": "markdown",
      "metadata": {
        "id": "GiUDqb_MpafY"
      },
      "source": [
        "#### ZIPS"
      ]
    },
    {
      "cell_type": "code",
      "execution_count": null,
      "metadata": {
        "colab": {
          "base_uri": "https://localhost:8080/"
        },
        "id": "34zd1yzqpZ3x",
        "outputId": "c0717779-1e0a-403a-8058-3d33804484e2"
      },
      "outputs": [
        {
          "name": "stdout",
          "output_type": "stream",
          "text": [
            "  % Total    % Received % Xferd  Average Speed   Time    Time     Time  Current\n",
            "                                 Dload  Upload   Total   Spent    Left  Speed\n",
            "100  509M    0  509M    0     0  27.1M      0 --:--:--  0:00:18 --:--:-- 28.4M\n"
          ]
        }
      ],
      "source": [
        "!curl \"https://www2.census.gov/geo/tiger/TIGER2019/ZCTA5/tl_2019_us_zcta510.zip\" --output \"ZIPs.zip\""
      ]
    },
    {
      "cell_type": "code",
      "execution_count": null,
      "metadata": {
        "id": "tblAga5ErJeX"
      },
      "outputs": [],
      "source": [
        "zip_geom = gpd.read_file('ZIPs.zip')"
      ]
    },
    {
      "cell_type": "code",
      "execution_count": null,
      "metadata": {
        "colab": {
          "base_uri": "https://localhost:8080/",
          "height": 166
        },
        "id": "2ZfZuv2BrXYm",
        "outputId": "6e12b7ab-cc0e-4554-d5e1-898044003ae7"
      },
      "outputs": [
        {
          "data": {
            "text/plain": [
              "<matplotlib.axes._subplots.AxesSubplot at 0x7fc5af5d4ad0>"
            ]
          },
          "execution_count": 20,
          "metadata": {},
          "output_type": "execute_result"
        },
        {
          "data": {
            "image/png": "[encoded data removed]",
            "text/plain": [
              "<Figure size 432x288 with 1 Axes>"
            ]
          },
          "metadata": {
            "needs_background": "light"
          },
          "output_type": "display_data"
        }
      ],
      "source": [
        "zip_geom.plot()"
      ]
    }
  ],
  "metadata": {
    "colab": {
      "collapsed_sections": [],
      "name": "02_download Census geometries.ipynb",
      "provenance": []
    },
    "kernelspec": {
      "display_name": "Python 3",
      "name": "python3"
    },
    "language_info": {
      "name": "python"
    }
  },
  "nbformat": 4,
  "nbformat_minor": 0
}
