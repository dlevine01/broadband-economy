{
  "nbformat": 4,
  "nbformat_minor": 0,
  "metadata": {
    "colab": {
      "name": "03_download broadband data from sources.ipynb",
      "provenance": [],
      "collapsed_sections": []
    },
    "kernelspec": {
      "name": "python3",
      "display_name": "Python 3"
    },
    "language_info": {
      "name": "python"
    }
  },
  "cells": [
    {
      "cell_type": "code",
      "source": [
        "pip install watermark -q"
      ],
      "metadata": {
        "colab": {
          "base_uri": "https://localhost:8080/"
        },
        "id": "rQps0A42U2P6",
        "outputId": "2bab2fed-11c3-4227-cb57-6d71f9e75339"
      },
      "execution_count": 1,
      "outputs": [
        {
          "output_type": "stream",
          "name": "stdout",
          "text": [
            "\u001b[?25l\r\u001b[K     |▏                               | 10 kB 25.1 MB/s eta 0:00:01\r\u001b[K     |▍                               | 20 kB 19.6 MB/s eta 0:00:01\r\u001b[K     |▋                               | 30 kB 26.4 MB/s eta 0:00:01\r\u001b[K     |▉                               | 40 kB 13.5 MB/s eta 0:00:01\r\u001b[K     |█                               | 51 kB 11.9 MB/s eta 0:00:01\r\u001b[K     |█▎                              | 61 kB 14.0 MB/s eta 0:00:01\r\u001b[K     |█▌                              | 71 kB 13.1 MB/s eta 0:00:01\r\u001b[K     |█▊                              | 81 kB 13.4 MB/s eta 0:00:01\r\u001b[K     |█▉                              | 92 kB 14.8 MB/s eta 0:00:01\r\u001b[K     |██                              | 102 kB 12.6 MB/s eta 0:00:01\r\u001b[K     |██▎                             | 112 kB 12.6 MB/s eta 0:00:01\r\u001b[K     |██▌                             | 122 kB 12.6 MB/s eta 0:00:01\r\u001b[K     |██▊                             | 133 kB 12.6 MB/s eta 0:00:01\r\u001b[K     |███                             | 143 kB 12.6 MB/s eta 0:00:01\r\u001b[K     |███▏                            | 153 kB 12.6 MB/s eta 0:00:01\r\u001b[K     |███▍                            | 163 kB 12.6 MB/s eta 0:00:01\r\u001b[K     |███▌                            | 174 kB 12.6 MB/s eta 0:00:01\r\u001b[K     |███▊                            | 184 kB 12.6 MB/s eta 0:00:01\r\u001b[K     |████                            | 194 kB 12.6 MB/s eta 0:00:01\r\u001b[K     |████▏                           | 204 kB 12.6 MB/s eta 0:00:01\r\u001b[K     |████▍                           | 215 kB 12.6 MB/s eta 0:00:01\r\u001b[K     |████▋                           | 225 kB 12.6 MB/s eta 0:00:01\r\u001b[K     |████▉                           | 235 kB 12.6 MB/s eta 0:00:01\r\u001b[K     |█████                           | 245 kB 12.6 MB/s eta 0:00:01\r\u001b[K     |█████▎                          | 256 kB 12.6 MB/s eta 0:00:01\r\u001b[K     |█████▍                          | 266 kB 12.6 MB/s eta 0:00:01\r\u001b[K     |█████▋                          | 276 kB 12.6 MB/s eta 0:00:01\r\u001b[K     |█████▉                          | 286 kB 12.6 MB/s eta 0:00:01\r\u001b[K     |██████                          | 296 kB 12.6 MB/s eta 0:00:01\r\u001b[K     |██████▎                         | 307 kB 12.6 MB/s eta 0:00:01\r\u001b[K     |██████▌                         | 317 kB 12.6 MB/s eta 0:00:01\r\u001b[K     |██████▊                         | 327 kB 12.6 MB/s eta 0:00:01\r\u001b[K     |███████                         | 337 kB 12.6 MB/s eta 0:00:01\r\u001b[K     |███████                         | 348 kB 12.6 MB/s eta 0:00:01\r\u001b[K     |███████▎                        | 358 kB 12.6 MB/s eta 0:00:01\r\u001b[K     |███████▌                        | 368 kB 12.6 MB/s eta 0:00:01\r\u001b[K     |███████▊                        | 378 kB 12.6 MB/s eta 0:00:01\r\u001b[K     |████████                        | 389 kB 12.6 MB/s eta 0:00:01\r\u001b[K     |████████▏                       | 399 kB 12.6 MB/s eta 0:00:01\r\u001b[K     |████████▍                       | 409 kB 12.6 MB/s eta 0:00:01\r\u001b[K     |████████▋                       | 419 kB 12.6 MB/s eta 0:00:01\r\u001b[K     |████████▉                       | 430 kB 12.6 MB/s eta 0:00:01\r\u001b[K     |█████████                       | 440 kB 12.6 MB/s eta 0:00:01\r\u001b[K     |█████████▏                      | 450 kB 12.6 MB/s eta 0:00:01\r\u001b[K     |█████████▍                      | 460 kB 12.6 MB/s eta 0:00:01\r\u001b[K     |█████████▋                      | 471 kB 12.6 MB/s eta 0:00:01\r\u001b[K     |█████████▉                      | 481 kB 12.6 MB/s eta 0:00:01\r\u001b[K     |██████████                      | 491 kB 12.6 MB/s eta 0:00:01\r\u001b[K     |██████████▎                     | 501 kB 12.6 MB/s eta 0:00:01\r\u001b[K     |██████████▌                     | 512 kB 12.6 MB/s eta 0:00:01\r\u001b[K     |██████████▋                     | 522 kB 12.6 MB/s eta 0:00:01\r\u001b[K     |██████████▉                     | 532 kB 12.6 MB/s eta 0:00:01\r\u001b[K     |███████████                     | 542 kB 12.6 MB/s eta 0:00:01\r\u001b[K     |███████████▎                    | 552 kB 12.6 MB/s eta 0:00:01\r\u001b[K     |███████████▌                    | 563 kB 12.6 MB/s eta 0:00:01\r\u001b[K     |███████████▊                    | 573 kB 12.6 MB/s eta 0:00:01\r\u001b[K     |████████████                    | 583 kB 12.6 MB/s eta 0:00:01\r\u001b[K     |████████████▏                   | 593 kB 12.6 MB/s eta 0:00:01\r\u001b[K     |████████████▍                   | 604 kB 12.6 MB/s eta 0:00:01\r\u001b[K     |████████████▌                   | 614 kB 12.6 MB/s eta 0:00:01\r\u001b[K     |████████████▊                   | 624 kB 12.6 MB/s eta 0:00:01\r\u001b[K     |█████████████                   | 634 kB 12.6 MB/s eta 0:00:01\r\u001b[K     |█████████████▏                  | 645 kB 12.6 MB/s eta 0:00:01\r\u001b[K     |█████████████▍                  | 655 kB 12.6 MB/s eta 0:00:01\r\u001b[K     |█████████████▋                  | 665 kB 12.6 MB/s eta 0:00:01\r\u001b[K     |█████████████▉                  | 675 kB 12.6 MB/s eta 0:00:01\r\u001b[K     |██████████████                  | 686 kB 12.6 MB/s eta 0:00:01\r\u001b[K     |██████████████▏                 | 696 kB 12.6 MB/s eta 0:00:01\r\u001b[K     |██████████████▍                 | 706 kB 12.6 MB/s eta 0:00:01\r\u001b[K     |██████████████▋                 | 716 kB 12.6 MB/s eta 0:00:01\r\u001b[K     |██████████████▉                 | 727 kB 12.6 MB/s eta 0:00:01\r\u001b[K     |███████████████                 | 737 kB 12.6 MB/s eta 0:00:01\r\u001b[K     |███████████████▎                | 747 kB 12.6 MB/s eta 0:00:01\r\u001b[K     |███████████████▌                | 757 kB 12.6 MB/s eta 0:00:01\r\u001b[K     |███████████████▊                | 768 kB 12.6 MB/s eta 0:00:01\r\u001b[K     |████████████████                | 778 kB 12.6 MB/s eta 0:00:01\r\u001b[K     |████████████████                | 788 kB 12.6 MB/s eta 0:00:01\r\u001b[K     |████████████████▎               | 798 kB 12.6 MB/s eta 0:00:01\r\u001b[K     |████████████████▌               | 808 kB 12.6 MB/s eta 0:00:01\r\u001b[K     |████████████████▊               | 819 kB 12.6 MB/s eta 0:00:01\r\u001b[K     |█████████████████               | 829 kB 12.6 MB/s eta 0:00:01\r\u001b[K     |█████████████████▏              | 839 kB 12.6 MB/s eta 0:00:01\r\u001b[K     |█████████████████▍              | 849 kB 12.6 MB/s eta 0:00:01\r\u001b[K     |█████████████████▋              | 860 kB 12.6 MB/s eta 0:00:01\r\u001b[K     |█████████████████▊              | 870 kB 12.6 MB/s eta 0:00:01\r\u001b[K     |██████████████████              | 880 kB 12.6 MB/s eta 0:00:01\r\u001b[K     |██████████████████▏             | 890 kB 12.6 MB/s eta 0:00:01\r\u001b[K     |██████████████████▍             | 901 kB 12.6 MB/s eta 0:00:01\r\u001b[K     |██████████████████▋             | 911 kB 12.6 MB/s eta 0:00:01\r\u001b[K     |██████████████████▉             | 921 kB 12.6 MB/s eta 0:00:01\r\u001b[K     |███████████████████             | 931 kB 12.6 MB/s eta 0:00:01\r\u001b[K     |███████████████████▎            | 942 kB 12.6 MB/s eta 0:00:01\r\u001b[K     |███████████████████▌            | 952 kB 12.6 MB/s eta 0:00:01\r\u001b[K     |███████████████████▋            | 962 kB 12.6 MB/s eta 0:00:01\r\u001b[K     |███████████████████▉            | 972 kB 12.6 MB/s eta 0:00:01\r\u001b[K     |████████████████████            | 983 kB 12.6 MB/s eta 0:00:01\r\u001b[K     |████████████████████▎           | 993 kB 12.6 MB/s eta 0:00:01\r\u001b[K     |████████████████████▌           | 1.0 MB 12.6 MB/s eta 0:00:01\r\u001b[K     |████████████████████▊           | 1.0 MB 12.6 MB/s eta 0:00:01\r\u001b[K     |█████████████████████           | 1.0 MB 12.6 MB/s eta 0:00:01\r\u001b[K     |█████████████████████▏          | 1.0 MB 12.6 MB/s eta 0:00:01\r\u001b[K     |█████████████████████▎          | 1.0 MB 12.6 MB/s eta 0:00:01\r\u001b[K     |█████████████████████▌          | 1.1 MB 12.6 MB/s eta 0:00:01\r\u001b[K     |█████████████████████▊          | 1.1 MB 12.6 MB/s eta 0:00:01\r\u001b[K     |██████████████████████          | 1.1 MB 12.6 MB/s eta 0:00:01\r\u001b[K     |██████████████████████▏         | 1.1 MB 12.6 MB/s eta 0:00:01\r\u001b[K     |██████████████████████▍         | 1.1 MB 12.6 MB/s eta 0:00:01\r\u001b[K     |██████████████████████▋         | 1.1 MB 12.6 MB/s eta 0:00:01\r\u001b[K     |██████████████████████▉         | 1.1 MB 12.6 MB/s eta 0:00:01\r\u001b[K     |███████████████████████         | 1.1 MB 12.6 MB/s eta 0:00:01\r\u001b[K     |███████████████████████▏        | 1.1 MB 12.6 MB/s eta 0:00:01\r\u001b[K     |███████████████████████▍        | 1.1 MB 12.6 MB/s eta 0:00:01\r\u001b[K     |███████████████████████▋        | 1.2 MB 12.6 MB/s eta 0:00:01\r\u001b[K     |███████████████████████▉        | 1.2 MB 12.6 MB/s eta 0:00:01\r\u001b[K     |████████████████████████        | 1.2 MB 12.6 MB/s eta 0:00:01\r\u001b[K     |████████████████████████▎       | 1.2 MB 12.6 MB/s eta 0:00:01\r\u001b[K     |████████████████████████▌       | 1.2 MB 12.6 MB/s eta 0:00:01\r\u001b[K     |████████████████████████▊       | 1.2 MB 12.6 MB/s eta 0:00:01\r\u001b[K     |████████████████████████▉       | 1.2 MB 12.6 MB/s eta 0:00:01\r\u001b[K     |█████████████████████████       | 1.2 MB 12.6 MB/s eta 0:00:01\r\u001b[K     |█████████████████████████▎      | 1.2 MB 12.6 MB/s eta 0:00:01\r\u001b[K     |█████████████████████████▌      | 1.2 MB 12.6 MB/s eta 0:00:01\r\u001b[K     |█████████████████████████▊      | 1.3 MB 12.6 MB/s eta 0:00:01\r\u001b[K     |██████████████████████████      | 1.3 MB 12.6 MB/s eta 0:00:01\r\u001b[K     |██████████████████████████▏     | 1.3 MB 12.6 MB/s eta 0:00:01\r\u001b[K     |██████████████████████████▍     | 1.3 MB 12.6 MB/s eta 0:00:01\r\u001b[K     |██████████████████████████▌     | 1.3 MB 12.6 MB/s eta 0:00:01\r\u001b[K     |██████████████████████████▊     | 1.3 MB 12.6 MB/s eta 0:00:01\r\u001b[K     |███████████████████████████     | 1.3 MB 12.6 MB/s eta 0:00:01\r\u001b[K     |███████████████████████████▏    | 1.3 MB 12.6 MB/s eta 0:00:01\r\u001b[K     |███████████████████████████▍    | 1.3 MB 12.6 MB/s eta 0:00:01\r\u001b[K     |███████████████████████████▋    | 1.4 MB 12.6 MB/s eta 0:00:01\r\u001b[K     |███████████████████████████▉    | 1.4 MB 12.6 MB/s eta 0:00:01\r\u001b[K     |████████████████████████████    | 1.4 MB 12.6 MB/s eta 0:00:01\r\u001b[K     |████████████████████████████▎   | 1.4 MB 12.6 MB/s eta 0:00:01\r\u001b[K     |████████████████████████████▍   | 1.4 MB 12.6 MB/s eta 0:00:01\r\u001b[K     |████████████████████████████▋   | 1.4 MB 12.6 MB/s eta 0:00:01\r\u001b[K     |████████████████████████████▉   | 1.4 MB 12.6 MB/s eta 0:00:01\r\u001b[K     |█████████████████████████████   | 1.4 MB 12.6 MB/s eta 0:00:01\r\u001b[K     |█████████████████████████████▎  | 1.4 MB 12.6 MB/s eta 0:00:01\r\u001b[K     |█████████████████████████████▌  | 1.4 MB 12.6 MB/s eta 0:00:01\r\u001b[K     |█████████████████████████████▊  | 1.5 MB 12.6 MB/s eta 0:00:01\r\u001b[K     |██████████████████████████████  | 1.5 MB 12.6 MB/s eta 0:00:01\r\u001b[K     |██████████████████████████████  | 1.5 MB 12.6 MB/s eta 0:00:01\r\u001b[K     |██████████████████████████████▎ | 1.5 MB 12.6 MB/s eta 0:00:01\r\u001b[K     |██████████████████████████████▌ | 1.5 MB 12.6 MB/s eta 0:00:01\r\u001b[K     |██████████████████████████████▊ | 1.5 MB 12.6 MB/s eta 0:00:01\r\u001b[K     |███████████████████████████████ | 1.5 MB 12.6 MB/s eta 0:00:01\r\u001b[K     |███████████████████████████████▏| 1.5 MB 12.6 MB/s eta 0:00:01\r\u001b[K     |███████████████████████████████▍| 1.5 MB 12.6 MB/s eta 0:00:01\r\u001b[K     |███████████████████████████████▋| 1.5 MB 12.6 MB/s eta 0:00:01\r\u001b[K     |███████████████████████████████▉| 1.6 MB 12.6 MB/s eta 0:00:01\r\u001b[K     |████████████████████████████████| 1.6 MB 12.6 MB/s eta 0:00:01\r\u001b[K     |████████████████████████████████| 1.6 MB 12.6 MB/s \n",
            "\u001b[?25h"
          ]
        }
      ]
    },
    {
      "cell_type": "code",
      "execution_count": 2,
      "metadata": {
        "id": "bYSJJPWEHGGV"
      },
      "outputs": [],
      "source": [
        "import os\n",
        "import requests\n",
        "from zipfile import ZipFile\n",
        "from io import BytesIO"
      ]
    },
    {
      "cell_type": "code",
      "source": [
        "%reload_ext watermark\n",
        "%watermark -iv -a 'Dan Levine' -u -d -v"
      ],
      "metadata": {
        "colab": {
          "base_uri": "https://localhost:8080/"
        },
        "id": "Ku6gg6EzU0Mp",
        "outputId": "581e653b-46e2-4b3f-d079-8ede6588c9d0"
      },
      "execution_count": 3,
      "outputs": [
        {
          "output_type": "stream",
          "name": "stdout",
          "text": [
            "Author: Dan Levine\n",
            "\n",
            "Last updated: 2022-08-22\n",
            "\n",
            "Python implementation: CPython\n",
            "Python version       : 3.7.13\n",
            "IPython version      : 7.9.0\n",
            "\n",
            "requests: 2.23.0\n",
            "\n"
          ]
        }
      ]
    },
    {
      "cell_type": "code",
      "source": [
        "####---------------------------\n",
        "# run in colab only \n",
        "import os\n",
        "from google.colab import drive\n",
        "drive.mount('/content/drive')\n",
        "os.chdir('/content/drive/MyDrive/Economic Recovery Tool Capstone/git repo - fresh start to test')\n",
        "####-------------------------"
      ],
      "metadata": {
        "colab": {
          "base_uri": "https://localhost:8080/"
        },
        "id": "yprVVZ9RHKR2",
        "outputId": "91b31ee9-47c6-4739-f027-7a2f03b4aad6"
      },
      "execution_count": null,
      "outputs": [
        {
          "output_type": "stream",
          "name": "stdout",
          "text": [
            "Mounted at /content/drive\n"
          ]
        }
      ]
    },
    {
      "cell_type": "code",
      "source": [
        "os.chdir('raw data')"
      ],
      "metadata": {
        "id": "cmXfH5-_HezF"
      },
      "execution_count": null,
      "outputs": []
    },
    {
      "cell_type": "markdown",
      "source": [
        "### Ookla"
      ],
      "metadata": {
        "id": "TQi37qAw9zMH"
      }
    },
    {
      "cell_type": "code",
      "source": [
        "years = [2019, 2020, 2021]\n",
        "quarters = range(1,5)"
      ],
      "metadata": {
        "id": "bxBKzDFzHfUe"
      },
      "execution_count": null,
      "outputs": []
    },
    {
      "cell_type": "code",
      "source": [
        "if not os.path.exists('ookla'):\n",
        "  os.mkdir('ookla')"
      ],
      "metadata": {
        "id": "EnZWL7OgIMEr"
      },
      "execution_count": null,
      "outputs": []
    },
    {
      "cell_type": "code",
      "source": [
        "for year in years:\n",
        "  for quarter in quarters:\n",
        "    \n",
        "    month = str((1 + (quarter-1)*3)).zfill(2)\n",
        "    url = f'https://ookla-open-data.s3.amazonaws.com/parquet/performance/type=fixed/year={year}/quarter={quarter}/{year}-{month}-01_performance_fixed_tiles.parquet'\n",
        "\n",
        "    r = requests.get(url)\n",
        "\n",
        "    with open(f'ookla/{year}-Q{quarter}.parquet', 'wb') as file:\n",
        "      file.write(r.content)"
      ],
      "metadata": {
        "id": "WPkLHImgHh9O"
      },
      "execution_count": null,
      "outputs": []
    },
    {
      "cell_type": "markdown",
      "source": [
        "### Microsoft broadband usage"
      ],
      "metadata": {
        "id": "aRPsU3FS96yG"
      }
    },
    {
      "cell_type": "code",
      "source": [
        "!curl \"https://raw.githubusercontent.com/microsoft/USBroadbandUsagePercentages/master/dataset/broadband_data_zipcode.csv\" --output \"microsoft_broadband_usage_zip.csv\"\n",
        "!curl \"https://raw.githubusercontent.com/microsoft/USBroadbandUsagePercentages/master/dataset/broadband_data_2020October.csv\" --output \"microsoft_broadband_usage_county.csv\""
      ],
      "metadata": {
        "colab": {
          "base_uri": "https://localhost:8080/"
        },
        "id": "_JrJjdGqBhT1",
        "outputId": "10d1b5f8-14f8-4af3-f63f-00ddfadca10d"
      },
      "execution_count": null,
      "outputs": [
        {
          "output_type": "stream",
          "name": "stdout",
          "text": [
            "  % Total    % Received % Xferd  Average Speed   Time    Time     Time  Current\n",
            "                                 Dload  Upload   Total   Spent    Left  Speed\n",
            "100 1456k  100 1456k    0     0  3651k      0 --:--:-- --:--:-- --:--:-- 3651k\n",
            "  % Total    % Received % Xferd  Average Speed   Time    Time     Time  Current\n",
            "                                 Dload  Upload   Total   Spent    Left  Speed\n",
            "100  115k  100  115k    0     0  1696k      0 --:--:-- --:--:-- --:--:-- 1696k\n"
          ]
        }
      ]
    },
    {
      "cell_type": "code",
      "source": [
        ""
      ],
      "metadata": {
        "id": "8i_eS5FxdLrj"
      },
      "execution_count": null,
      "outputs": []
    },
    {
      "cell_type": "markdown",
      "source": [
        "### Broadband Now"
      ],
      "metadata": {
        "id": "c6ZaIW5Z-l9e"
      }
    },
    {
      "cell_type": "code",
      "source": [
        "!curl \"https://raw.githubusercontent.com/BroadbandNow/Open-Data/master/broadband_data_opendatachallenge.csv\" --output \"broadband_now.csv\""
      ],
      "metadata": {
        "colab": {
          "base_uri": "https://localhost:8080/"
        },
        "id": "3pX0VXjo-9Da",
        "outputId": "dfdcabe1-1acb-43e3-8a94-06cf0ed2230c"
      },
      "execution_count": null,
      "outputs": [
        {
          "output_type": "stream",
          "name": "stdout",
          "text": [
            "  % Total    % Received % Xferd  Average Speed   Time    Time     Time  Current\n",
            "                                 Dload  Upload   Total   Spent    Left  Speed\n",
            "100 2536k  100 2536k    0     0  7481k      0 --:--:-- --:--:-- --:--:-- 7481k\n"
          ]
        }
      ]
    },
    {
      "cell_type": "markdown",
      "source": [
        "### NANDA"
      ],
      "metadata": {
        "id": "zgl8le55f37o"
      }
    },
    {
      "cell_type": "markdown",
      "source": [
        "This data is publicly available, but only after logging in on this site: https://www.openicpsr.org/openicpsr/project/117866/version/V1/view?path=/openicpsr/117866/fcr:versions/V1.2/nanda_broadband_tract_2014-2018_01P_csv_with_readme.zip&type=file \n",
        "\n",
        "A copy of the data, accessed in Aug. 2022, is included in the 'raw data' folder of this repo.\n",
        "\n",
        "\n",
        "_Project Citation:_ \n",
        "\n",
        "Clarke, Philippa, Gomez-Lopez, Iris, Li, Mao, and Chenoweth, Megan. National Neighborhood Data Archive (NaNDA): Broadband Internet Access by Census Tract, United States, 2014-2018. Ann Arbor, MI: Inter-university Consortium for Political and Social Research [distributor], 2020-02-21. https://doi.org/10.3886/E117866V1"
      ],
      "metadata": {
        "id": "_xRa8Ly1jkC5"
      }
    },
    {
      "cell_type": "markdown",
      "source": [
        "### FCC Form 477"
      ],
      "metadata": {
        "id": "xJ2Gb1Welplw"
      }
    },
    {
      "cell_type": "markdown",
      "source": [
        "from: https://www.fcc.gov/form-477-census-tract-data-internet-access-services"
      ],
      "metadata": {
        "id": "5D52QXKIzijU"
      }
    },
    {
      "cell_type": "code",
      "source": [
        "if not os.path.exists('FCC 477'):\n",
        "  os.mkdir('FCC 477')"
      ],
      "metadata": {
        "id": "2JxsU77zlr_X"
      },
      "execution_count": null,
      "outputs": []
    },
    {
      "cell_type": "code",
      "source": [
        "urls = [\n",
        "    'https://www.fcc.gov/Bureaus/Common_Carrier/Reports/FCC-State_Link/IAD/csv_dec_2008_tract.zip',\n",
        "    'https://www.fcc.gov/Bureaus/Common_Carrier/Reports/FCC-State_Link/IAD/csv_tractdata_dec_2009.zip',\n",
        "    'https://www.fcc.gov/Bureaus/Common_Carrier/Reports/FCC-State_Link/IAD/csv_tractdata_dec_2010.zip',\n",
        "    'https://www.fcc.gov/Bureaus/Common_Carrier/Reports/FCC-State_Link/IAD/csv_tractdata_dec_2011.zip',\n",
        "    'https://www.fcc.gov/Bureaus/Common_Carrier/Reports/FCC-State_Link/IAD/csv_tractdata_dec_2012.zip',\n",
        "    'https://www.fcc.gov/Bureaus/Common_Carrier/Reports/FCC-State_Link/IAD/csv_tractdata_dec_2013.zip',\n",
        "    'https://www.fcc.gov/sites/default/files/tract_map_dec2014_0.zip',\n",
        "    'https://www.fcc.gov/sites/default/files/tract_map_dec_2015.zip',\n",
        "    'https://www.fcc.gov/sites/default/files/tract_map_dec_2016.zip',\n",
        "    'https://www.fcc.gov/sites/default/files/tract_map_dec_2017.zip',\n",
        "    'https://www.fcc.gov/sites/default/files/tract_map_dec_2018.zip',\n",
        "    'https://www.fcc.gov/sites/default/files/tract_map_jun_2019.zip'\n",
        "]"
      ],
      "metadata": {
        "id": "sHe4Ng1mt5oE"
      },
      "execution_count": null,
      "outputs": []
    },
    {
      "cell_type": "code",
      "source": [
        "for i,url in enumerate(urls):\n",
        "  year = 2008 + i\n",
        "\n",
        "  r = requests.get(url)\n",
        "\n",
        "  if r.status_code < 400:\n",
        "    zip_container = ZipFile(BytesIO(r.content))\n",
        "    csv_file = [file for file in zip_container.namelist() if file[-4:] == '.csv'][0]\n",
        "    zip_container.extract(csv_file, path='FCC 477')\n",
        "    zip_container.close()\n",
        "    print(f'saved {year}')\n",
        "  else:\n",
        "    print(f'Error accessing {year}: {r.status_code}')\n",
        "\n"
      ],
      "metadata": {
        "colab": {
          "base_uri": "https://localhost:8080/"
        },
        "id": "hVL9jkdMs5DG",
        "outputId": "a1533bed-d7ec-489c-b5f7-2a97c1e2ad19"
      },
      "execution_count": null,
      "outputs": [
        {
          "output_type": "stream",
          "name": "stdout",
          "text": [
            "saved 2008\n",
            "saved 2009\n",
            "saved 2010\n",
            "saved 2011\n",
            "saved 2012\n",
            "saved 2013\n",
            "saved 2014\n",
            "saved 2015\n",
            "saved 2016\n",
            "saved 2017\n",
            "saved 2018\n",
            "saved 2019\n"
          ]
        }
      ]
    },
    {
      "cell_type": "markdown",
      "source": [
        "### Indicators of Broadband Need\n",
        "\n",
        "compiled data from https://broadbandusa.maps.arcgis.com/home/item.html?id=c3a602c2025845afab61b289e1b15482 "
      ],
      "metadata": {
        "id": "WLzKcOk68Gyd"
      }
    },
    {
      "cell_type": "markdown",
      "source": [
        "There seems to be an error fetching this data from the source. \n",
        "\n",
        "A copy of the data, accessed in Aug. 2022, is included in the 'raw data' folder of this repo.\n",
        "\n",
        "It is available for download at: https://broadbandusa.maps.arcgis.com/home/item.html?id=c3a602c2025845afab61b289e1b15482\n",
        "\n",
        "\n"
      ],
      "metadata": {
        "id": "P7wEXG4oR6rR"
      }
    },
    {
      "cell_type": "code",
      "source": [
        "# !curl \"https://broadbandusa.maps.arcgis.com/sharing/rest/content/items/c3a602c2025845afab61b289e1b15482/data\" --output \"IBNTracts.csv\""
      ],
      "metadata": {
        "id": "4xBTnKWi8Nkh"
      },
      "execution_count": null,
      "outputs": []
    }
  ]
}